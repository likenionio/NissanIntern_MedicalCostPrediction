{
 "cells": [
  {
   "cell_type": "code",
   "execution_count": 1,
   "id": "0b1487b7",
   "metadata": {},
   "outputs": [],
   "source": [
    "# Basic packages\n",
    "import pandas as pd\n",
    "import numpy as np\n",
    "import matplotlib.pyplot as plt\n",
    "import seaborn as sns\n",
    "# Progress bar\n",
    "from tqdm import tqdm\n",
    "# PyTorch related\n",
    "import torch\n",
    "from torch import nn \n",
    "import torch.nn.functional as F\n",
    "from torch.utils.data import Dataset,DataLoader,TensorDataset\n",
    "# Sklearn related\n",
    "from sklearn.preprocessing import MinMaxScaler, StandardScaler, MaxAbsScaler\n",
    "from sklearn.model_selection import train_test_split\n",
    "from sklearn.metrics import r2_score"
   ]
  },
  {
   "cell_type": "code",
   "execution_count": 2,
   "id": "daf34085",
   "metadata": {},
   "outputs": [],
   "source": [
    "import warnings\n",
    "warnings.filterwarnings('ignore')"
   ]
  },
  {
   "cell_type": "code",
   "execution_count": 3,
   "id": "39b5eb15",
   "metadata": {},
   "outputs": [],
   "source": [
    "#device = torch.device('cuda:0' if torch.cuda.is_available() else 'cpu')"
   ]
  },
  {
   "cell_type": "markdown",
   "id": "d4db134e",
   "metadata": {},
   "source": [
    "0) Prepare data"
   ]
  },
  {
   "cell_type": "code",
   "execution_count": 4,
   "id": "cef4d735",
   "metadata": {},
   "outputs": [
    {
     "data": {
      "text/html": [
       "<div>\n",
       "<style scoped>\n",
       "    .dataframe tbody tr th:only-of-type {\n",
       "        vertical-align: middle;\n",
       "    }\n",
       "\n",
       "    .dataframe tbody tr th {\n",
       "        vertical-align: top;\n",
       "    }\n",
       "\n",
       "    .dataframe thead th {\n",
       "        text-align: right;\n",
       "    }\n",
       "</style>\n",
       "<table border=\"1\" class=\"dataframe\">\n",
       "  <thead>\n",
       "    <tr style=\"text-align: right;\">\n",
       "      <th></th>\n",
       "      <th>age</th>\n",
       "      <th>sex</th>\n",
       "      <th>bmi</th>\n",
       "      <th>children</th>\n",
       "      <th>smoker</th>\n",
       "      <th>region</th>\n",
       "      <th>charges</th>\n",
       "    </tr>\n",
       "  </thead>\n",
       "  <tbody>\n",
       "    <tr>\n",
       "      <th>0</th>\n",
       "      <td>19</td>\n",
       "      <td>female</td>\n",
       "      <td>27.900</td>\n",
       "      <td>0</td>\n",
       "      <td>yes</td>\n",
       "      <td>southwest</td>\n",
       "      <td>16884.92400</td>\n",
       "    </tr>\n",
       "    <tr>\n",
       "      <th>1</th>\n",
       "      <td>18</td>\n",
       "      <td>male</td>\n",
       "      <td>33.770</td>\n",
       "      <td>1</td>\n",
       "      <td>no</td>\n",
       "      <td>southeast</td>\n",
       "      <td>1725.55230</td>\n",
       "    </tr>\n",
       "    <tr>\n",
       "      <th>2</th>\n",
       "      <td>28</td>\n",
       "      <td>male</td>\n",
       "      <td>33.000</td>\n",
       "      <td>3</td>\n",
       "      <td>no</td>\n",
       "      <td>southeast</td>\n",
       "      <td>4449.46200</td>\n",
       "    </tr>\n",
       "    <tr>\n",
       "      <th>3</th>\n",
       "      <td>33</td>\n",
       "      <td>male</td>\n",
       "      <td>22.705</td>\n",
       "      <td>0</td>\n",
       "      <td>no</td>\n",
       "      <td>northwest</td>\n",
       "      <td>21984.47061</td>\n",
       "    </tr>\n",
       "    <tr>\n",
       "      <th>4</th>\n",
       "      <td>32</td>\n",
       "      <td>male</td>\n",
       "      <td>28.880</td>\n",
       "      <td>0</td>\n",
       "      <td>no</td>\n",
       "      <td>northwest</td>\n",
       "      <td>3866.85520</td>\n",
       "    </tr>\n",
       "  </tbody>\n",
       "</table>\n",
       "</div>"
      ],
      "text/plain": [
       "   age     sex     bmi  children smoker     region      charges\n",
       "0   19  female  27.900         0    yes  southwest  16884.92400\n",
       "1   18    male  33.770         1     no  southeast   1725.55230\n",
       "2   28    male  33.000         3     no  southeast   4449.46200\n",
       "3   33    male  22.705         0     no  northwest  21984.47061\n",
       "4   32    male  28.880         0     no  northwest   3866.85520"
      ]
     },
     "execution_count": 4,
     "metadata": {},
     "output_type": "execute_result"
    }
   ],
   "source": [
    "insurance = pd.read_csv('./insurance.csv')\n",
    "insurance.head()"
   ]
  },
  {
   "cell_type": "code",
   "execution_count": 5,
   "id": "f082dc79",
   "metadata": {},
   "outputs": [
    {
     "data": {
      "text/plain": [
       "(array([[19.  , 27.9 ,  0.  , ...,  0.  ,  0.  ,  1.  ],\n",
       "        [18.  , 33.77,  1.  , ...,  0.  ,  1.  ,  0.  ],\n",
       "        [28.  , 33.  ,  3.  , ...,  0.  ,  1.  ,  0.  ],\n",
       "        ...,\n",
       "        [18.  , 36.85,  0.  , ...,  0.  ,  1.  ,  0.  ],\n",
       "        [21.  , 25.8 ,  0.  , ...,  0.  ,  0.  ,  1.  ],\n",
       "        [61.  , 29.07,  0.  , ...,  1.  ,  0.  ,  0.  ]]),\n",
       " array([16884.924 ,  1725.5523,  4449.462 , ...,  1629.8335,  2007.945 ,\n",
       "        29141.3603]))"
      ]
     },
     "execution_count": 5,
     "metadata": {},
     "output_type": "execute_result"
    }
   ],
   "source": [
    "# One-Hot-Encoding, split data into X(features) and y(targets), and transform them to ndarray data type\n",
    "X_array = pd.get_dummies(insurance.drop(['charges'], axis=1), drop_first=True, dtype=int).values\n",
    "y_array = insurance.charges.values\n",
    "X_array, y_array"
   ]
  },
  {
   "cell_type": "code",
   "execution_count": 6,
   "id": "b5baa735",
   "metadata": {},
   "outputs": [
    {
     "name": "stdout",
     "output_type": "stream",
     "text": [
      "[[37.   34.1   4.   ...  0.    0.    1.  ]\n",
      " [18.   34.43  0.   ...  0.    1.    0.  ]\n",
      " [23.   36.67  2.   ...  0.    0.    0.  ]\n",
      " ...\n",
      " [40.   25.08  0.   ...  0.    1.    0.  ]\n",
      " [19.   35.53  0.   ...  1.    0.    0.  ]\n",
      " [33.   18.5   1.   ...  0.    0.    1.  ]]\n",
      "[[0.41304348 0.48802798 0.8        ... 0.         0.         1.        ]\n",
      " [0.         0.49690611 0.         ... 0.         1.         0.        ]\n",
      " [0.10869565 0.55716976 0.4        ... 0.         0.         0.        ]\n",
      " ...\n",
      " [0.47826087 0.24535916 0.         ... 0.         1.         0.        ]\n",
      " [0.02173913 0.52649987 0.         ... 1.         0.         0.        ]\n",
      " [0.32608696 0.06833468 0.2        ... 0.         0.         1.        ]]\n"
     ]
    }
   ],
   "source": [
    "# Split dataset to train dataset and test dataset\n",
    "X_train,X_test,y_train,y_test = train_test_split(X_array,y_array,test_size = 0.2,random_state = 0)\n",
    "print(X_train)\n",
    "scaler = MinMaxScaler()\n",
    "X_train = scaler.fit_transform(X_train,y_train)\n",
    "X_test = scaler.transform(X_test)\n",
    "print(X_train)"
   ]
  },
  {
   "cell_type": "code",
   "execution_count": 7,
   "id": "5b73f793",
   "metadata": {},
   "outputs": [],
   "source": [
    "# Transform data to tensor data type\n",
    "X_train_tensor = torch.tensor(X_train).float()\n",
    "X_test_tensor = torch.tensor(X_test).float()\n",
    "y_train_tensor = torch.tensor(y_train).float()\n",
    "y_test_tensor = torch.tensor(y_test).float()"
   ]
  },
  {
   "cell_type": "code",
   "execution_count": 8,
   "id": "5af7e03b",
   "metadata": {},
   "outputs": [],
   "source": [
    "# Dataloader for iteration\n",
    "dataloader_train = DataLoader(dataset = TensorDataset(X_train_tensor,y_train_tensor), shuffle = True, batch_size = 10)\n",
    "dataloader_test = DataLoader(dataset = TensorDataset(X_test_tensor,y_test_tensor), shuffle = True, batch_size = 10)"
   ]
  },
  {
   "cell_type": "code",
   "execution_count": 9,
   "id": "9a0df544",
   "metadata": {},
   "outputs": [],
   "source": [
    "#for feature,label in dataloader_train:\n",
    "#    print(feature,label)"
   ]
  },
  {
   "cell_type": "markdown",
   "id": "d948c6e2",
   "metadata": {},
   "source": [
    "1) Define model"
   ]
  },
  {
   "cell_type": "code",
   "execution_count": 10,
   "id": "396bc8cb",
   "metadata": {},
   "outputs": [],
   "source": [
    "class insurance_net(nn.Module):\n",
    "    def __init__(self):\n",
    "        super(insurance_net,self).__init__()\n",
    "        self.hidden1 = nn.Linear(in_features = 8,out_features = 80)\n",
    "        self.hidden2 = nn.Linear(in_features = 80,out_features = 40)\n",
    "        self.hidden3 = nn.Linear(in_features = 40,out_features = 20)\n",
    "        self.hidden4 = nn.Linear(in_features = 20,out_features = 10)\n",
    "        self.regression = nn.Linear(in_features = 10,out_features = 1)\n",
    "    \n",
    "    # Define forward pass\n",
    "    def forward(self,x):\n",
    "        x = F.relu(self.hidden1(x))\n",
    "        x = F.relu(self.hidden2(x))\n",
    "        x = F.relu(self.hidden3(x))\n",
    "        x = F.relu(self.hidden4(x))\n",
    "        y = self.regression(x)\n",
    "        return y[:,0]"
   ]
  },
  {
   "cell_type": "markdown",
   "id": "4e185171",
   "metadata": {},
   "source": [
    "2) Valuation strandard"
   ]
  },
  {
   "cell_type": "code",
   "execution_count": 11,
   "id": "da331997",
   "metadata": {},
   "outputs": [],
   "source": [
    "#Define r2 evaluation\n",
    "def r2(y_pred,y_true):\n",
    "    y_pred_cls = y_pred.data\n",
    "    return r2_score(y_true,y_pred_cls)"
   ]
  },
  {
   "cell_type": "markdown",
   "id": "151acb3c",
   "metadata": {},
   "source": [
    "3) Loss and optimizer"
   ]
  },
  {
   "cell_type": "code",
   "execution_count": 12,
   "id": "a72c600c",
   "metadata": {},
   "outputs": [],
   "source": [
    "#Create my model\n",
    "def createModel():\n",
    "    model = insurance_net()\n",
    "    #Choose MSELoss as the loss function\n",
    "    model.loss_func = nn.MSELoss()\n",
    "    #Choose Adam as the optimizer, learning rate is 0.01\n",
    "    model.optimizer = torch.optim.Adam(params = model.parameters(),lr = 0.01)\n",
    "    # Choose r2 as score\n",
    "    model.metric_func = r2\n",
    "    # Set metric_name as r2\n",
    "    model.metric_name = 'r2'\n",
    "    return model"
   ]
  },
  {
   "cell_type": "markdown",
   "id": "6a59024c",
   "metadata": {},
   "source": [
    "4) Training function"
   ]
  },
  {
   "cell_type": "code",
   "execution_count": 13,
   "id": "dad0ac43",
   "metadata": {},
   "outputs": [],
   "source": [
    "def train(model,features,targets):\n",
    "    # Switch to train mode\n",
    "    model.train()\n",
    "    # Reset gradient\n",
    "    model.optimizer.zero_grad()\n",
    "    # Forward pass and loss\n",
    "    predictions = model(features)\n",
    "    loss = model.loss_func(predictions,targets)\n",
    "    # Evaluation metric calculation\n",
    "    metric = model.metric_func(predictions,targets)\n",
    "    # Backward pass\n",
    "    loss.backward()\n",
    "    # Updata\n",
    "    model.optimizer.step()\n",
    "    return loss.item(),metric.item()"
   ]
  },
  {
   "cell_type": "markdown",
   "id": "594ccb54",
   "metadata": {},
   "source": [
    "5) Validating function"
   ]
  },
  {
   "cell_type": "code",
   "execution_count": 14,
   "id": "0f91273e",
   "metadata": {},
   "outputs": [],
   "source": [
    "#Validation mode without gradient\n",
    "@torch.no_grad()\n",
    "def valid(model,features,targets):\n",
    "    #Switch to eval mode\n",
    "    model.eval()\n",
    "    # Forward pass and loss\n",
    "    prediction = model(features)\n",
    "    loss = model.loss_func(prediction,targets)\n",
    "    # Evaluation metric calculation\n",
    "    metric = model.metric_func(prediction,targets)\n",
    "    return loss.item(),metric.item()"
   ]
  },
  {
   "cell_type": "markdown",
   "id": "a5bbe4c9",
   "metadata": {},
   "source": [
    "6) Training and evaluation loop"
   ]
  },
  {
   "cell_type": "code",
   "execution_count": 15,
   "id": "edffc34e",
   "metadata": {},
   "outputs": [],
   "source": [
    "def modelTrain(model,epochs,dataloader_train,dataloader_test,log_print_frequency):\n",
    "    metric_name = model.metric_name\n",
    "    # Record logs with 'epoch', 'loss', etc as a dataframe\n",
    "    metirc_history = pd.DataFrame(columns = ['epoch','loss',metric_name,'val_loss','val_'+metric_name])\n",
    "    print('Training starts')\n",
    "    for epoch in tqdm(range(1, epochs+1)):\n",
    "        #Training loop\n",
    "        # Loss\n",
    "        loss_sum = 0.0\n",
    "        # Evaluation metric\n",
    "        metric_sum = 0.0\n",
    "        step = 1\n",
    "        for step,(features,targets) in enumerate(dataloader_train,1):\n",
    "            loss,metric = train(model,features,targets)\n",
    "            # Every 'log_step_freq' times print steps and loss, etc.\n",
    "            loss_sum += loss\n",
    "            metric_sum += metric\n",
    "            if step % log_print_frequency == 0:\n",
    "                print(f'[step = {step}] loss:{loss_sum/step},{metric_name}:{metric_sum/step}')\n",
    "        \n",
    "        # Evaluation loop\n",
    "        val_loss_sum = 0.0\n",
    "        val_metric_sum = 0.0\n",
    "        val_step = 1\n",
    "        for val_step, (features,targets) in enumerate(dataloader_test, 1):\n",
    "            val_loss,val_metric = valid(model,features,targets)\n",
    "            val_loss_sum += val_loss\n",
    "            val_metric_sum += val_metric\n",
    "        # Records\n",
    "        info = (epoch, loss_sum/step, metric_sum/step, val_loss_sum/val_step, val_metric_sum/val_step)\n",
    "        metirc_history.loc[epoch-1] = info\n",
    "        # Print log\n",
    "        print(f'epoch = {info[0]},loss = {info[1]},{metric_name} = {info[2]},val_loss = {info[3]},val_+{metric_name} = {info[4]}')\n",
    "    print('Training done')\n",
    "    return metirc_history"
   ]
  },
  {
   "cell_type": "markdown",
   "id": "de04d325",
   "metadata": {},
   "source": [
    "7) Training model"
   ]
  },
  {
   "cell_type": "code",
   "execution_count": 16,
   "id": "f690a5b5",
   "metadata": {},
   "outputs": [
    {
     "name": "stdout",
     "output_type": "stream",
     "text": [
      "Training starts\n"
     ]
    },
    {
     "name": "stderr",
     "output_type": "stream",
     "text": [
      "\r",
      "  0%|                                                                                          | 0/250 [00:00<?, ?it/s]"
     ]
    },
    {
     "name": "stdout",
     "output_type": "stream",
     "text": [
      "[step = 10] loss:342998451.6,r2:-1.770399056705886\n",
      "[step = 20] loss:360977798.2,r2:-1.7142438232450512\n",
      "[step = 30] loss:320266891.6,r2:-1.6261042406813109\n",
      "[step = 40] loss:310031878.5,r2:-1.607690602454144\n",
      "[step = 50] loss:287614800.8,r2:-1.3552830339266675\n",
      "[step = 60] loss:255134111.06666666,r2:-1.1812210903083404\n",
      "[step = 70] loss:235306808.25714287,r2:-0.976305976759063\n",
      "[step = 80] loss:216944179.3,r2:-0.8157080884883895\n",
      "[step = 90] loss:203670934.13333333,r2:-0.6973215560022673\n",
      "[step = 100] loss:189049940.22,r2:-0.5931471747755651\n"
     ]
    },
    {
     "name": "stderr",
     "output_type": "stream",
     "text": [
      "\r",
      "  0%|▎                                                                                 | 1/250 [00:00<01:00,  4.14it/s]"
     ]
    },
    {
     "name": "stdout",
     "output_type": "stream",
     "text": [
      "epoch = 1,loss = 181817859.34579438,r2 = -0.5390905265228242,val_loss = 71159037.33333333,val_+r2 = 0.349135402040899\n",
      "[step = 10] loss:89982612.4,r2:0.2522833994039774\n",
      "[step = 20] loss:68521517.1,r2:0.24688512804651946\n",
      "[step = 30] loss:64333553.86666667,r2:0.331395975518747\n",
      "[step = 40] loss:59185065.8,r2:0.3689430059155084\n",
      "[step = 50] loss:54269130.76,r2:0.4162428763487435\n",
      "[step = 60] loss:51023537.733333334,r2:0.44565429545042246\n",
      "[step = 70] loss:49927814.74285714,r2:0.4824120628871246\n",
      "[step = 80] loss:49861199.5625,r2:0.48141605531779963\n",
      "[step = 90] loss:48640089.06666667,r2:0.5002291291965995\n",
      "[step = 100] loss:48137437.37,r2:0.5048813918758127\n"
     ]
    },
    {
     "name": "stderr",
     "output_type": "stream",
     "text": [
      "\r",
      "  1%|▋                                                                                 | 2/250 [00:00<00:57,  4.30it/s]"
     ]
    },
    {
     "name": "stdout",
     "output_type": "stream",
     "text": [
      "epoch = 2,loss = 47332734.75233645,r2 = 0.5189396303777161,val_loss = 32845665.361111112,val_+r2 = 0.6692655241589116\n",
      "[step = 10] loss:42477560.1,r2:0.5860252192871762\n",
      "[step = 20] loss:44526222.35,r2:0.5514525394702198\n",
      "[step = 30] loss:43514463.0,r2:0.46867593120386525\n",
      "[step = 40] loss:42774827.65,r2:0.49063096028733677\n",
      "[step = 50] loss:40885773.24,r2:0.5200833671163023\n",
      "[step = 60] loss:40134091.233333334,r2:0.5275413516679931\n",
      "[step = 70] loss:41515422.657142855,r2:0.5175121533744649\n",
      "[step = 80] loss:41399572.725,r2:0.5204999734899772\n",
      "[step = 90] loss:42741976.93333333,r2:0.5377833720497781\n"
     ]
    },
    {
     "name": "stderr",
     "output_type": "stream",
     "text": [
      "\r",
      "  1%|▉                                                                                 | 3/250 [00:00<00:59,  4.17it/s]"
     ]
    },
    {
     "name": "stdout",
     "output_type": "stream",
     "text": [
      "[step = 100] loss:40999656.32,r2:0.5538203027835615\n",
      "epoch = 3,loss = 40585653.457943924,r2 = 0.5559554597993522,val_loss = 34227267.11111111,val_+r2 = 0.6964788344569479\n",
      "[step = 10] loss:42449253.9,r2:0.619788423488697\n",
      "[step = 20] loss:37891180.5,r2:0.6805390440795053\n",
      "[step = 30] loss:43090980.6625,r2:0.6332842230936301\n",
      "[step = 40] loss:44470268.071875,r2:0.5987937956373821\n",
      "[step = 50] loss:47766933.4175,r2:0.5812555892970782\n",
      "[step = 60] loss:44596307.947916664,r2:0.6025626652481687\n",
      "[step = 70] loss:43180031.95535714,r2:0.6251301900590421\n",
      "[step = 80] loss:42337359.7984375,r2:0.6234974003222057\n",
      "[step = 90] loss:42724013.343055554,r2:0.6007904288818142\n"
     ]
    },
    {
     "name": "stderr",
     "output_type": "stream",
     "text": [
      "\r",
      "  2%|█▎                                                                                | 4/250 [00:00<00:58,  4.21it/s]"
     ]
    },
    {
     "name": "stdout",
     "output_type": "stream",
     "text": [
      "[step = 100] loss:40880796.44375,r2:0.6054062451538372\n",
      "epoch = 4,loss = 40540915.53504673,r2 = 0.6114625372353586,val_loss = 31938663.555555556,val_+r2 = 0.6949307539007298\n",
      "[step = 10] loss:39894806.15,r2:0.6550118433033164\n",
      "[step = 20] loss:34490040.025,r2:0.6610032150461896\n",
      "[step = 30] loss:33209426.9,r2:0.6858679932819637\n",
      "[step = 40] loss:33466721.625,r2:0.6394421158734744\n",
      "[step = 50] loss:31408381.47,r2:0.6375870959815537\n",
      "[step = 60] loss:31619149.1375,r2:0.6469155984183027\n",
      "[step = 70] loss:33396020.860714287,r2:0.6265602873538264\n",
      "[step = 80] loss:34907592.578125,r2:0.5848516972787186\n",
      "[step = 90] loss:35190002.26944444,r2:0.5705068212271555\n",
      "[step = 100] loss:37913475.8825,r2:0.5785108178555578\n"
     ]
    },
    {
     "name": "stderr",
     "output_type": "stream",
     "text": [
      "\r",
      "  2%|█▋                                                                                | 5/250 [00:01<00:55,  4.41it/s]"
     ]
    },
    {
     "name": "stdout",
     "output_type": "stream",
     "text": [
      "epoch = 5,loss = 38212962.086448595,r2 = 0.5657731253577499,val_loss = 32507503.462962963,val_+r2 = 0.5816397097863955\n",
      "[step = 10] loss:40668420.7,r2:0.6786540335016312\n",
      "[step = 20] loss:39379905.05,r2:0.6316607338392987\n",
      "[step = 30] loss:38101570.56666667,r2:0.5080171680844097\n",
      "[step = 40] loss:37448106.275,r2:0.5656841747863186\n",
      "[step = 50] loss:37405964.85,r2:0.5144656482530712\n",
      "[step = 60] loss:36603091.233333334,r2:0.5417854925090259\n",
      "[step = 70] loss:36447703.657142855,r2:0.5395460182712261\n",
      "[step = 80] loss:37637864.7875,r2:0.5512135372806755\n",
      "[step = 90] loss:38912314.05555555,r2:0.5513472556123667\n",
      "[step = 100] loss:40072301.93,r2:0.5679353985800483\n"
     ]
    },
    {
     "name": "stderr",
     "output_type": "stream",
     "text": [
      "\r",
      "  2%|█▉                                                                                | 6/250 [00:01<00:56,  4.33it/s]"
     ]
    },
    {
     "name": "stdout",
     "output_type": "stream",
     "text": [
      "epoch = 6,loss = 39461472.523364484,r2 = 0.5557703502675899,val_loss = 31869835.37037037,val_+r2 = 0.585636882578062\n",
      "[step = 10] loss:29293207.0,r2:0.6017871244318101\n",
      "[step = 20] loss:35265885.425,r2:0.5848161026843954\n",
      "[step = 30] loss:37664036.416666664,r2:0.5932989604534866\n",
      "[step = 40] loss:38422767.625,r2:0.5987676458361716\n",
      "[step = 50] loss:38901758.2,r2:0.5966656253494418\n",
      "[step = 60] loss:39796175.31666667,r2:0.5827799302582991\n",
      "[step = 70] loss:39748032.20714286,r2:0.5785152131347309\n",
      "[step = 80] loss:37918768.4,r2:0.5921068441559052\n",
      "[step = 90] loss:38399344.175,r2:0.5968232145591092\n",
      "[step = 100] loss:38286117.1975,r2:0.5957442227531329\n"
     ]
    },
    {
     "name": "stderr",
     "output_type": "stream",
     "text": [
      "\r",
      "  3%|██▎                                                                               | 7/250 [00:01<00:54,  4.45it/s]"
     ]
    },
    {
     "name": "stdout",
     "output_type": "stream",
     "text": [
      "epoch = 7,loss = 38621732.25934579,r2 = 0.5717446043787974,val_loss = 37446123.25462963,val_+r2 = 0.6010554653502644\n",
      "[step = 10] loss:28743182.0,r2:0.6900278424691717\n",
      "[step = 20] loss:31925567.4,r2:0.6471625115208471\n",
      "[step = 30] loss:37413999.46666667,r2:0.6029101075975846\n",
      "[step = 40] loss:37651334.41875,r2:0.5991094785427034\n",
      "[step = 50] loss:36275062.275,r2:0.6235266012377823\n",
      "[step = 60] loss:36011363.4125,r2:0.6211949175823066\n",
      "[step = 70] loss:38202077.925,r2:0.5860396600640602\n",
      "[step = 80] loss:40032615.284375,r2:0.5615128383801972\n",
      "[step = 90] loss:38047702.69166667,r2:0.582696433126307\n",
      "[step = 100] loss:37747017.1875,r2:0.5857425306898998\n"
     ]
    },
    {
     "name": "stderr",
     "output_type": "stream",
     "text": [
      "\r",
      "  3%|██▌                                                                               | 8/250 [00:01<00:54,  4.42it/s]"
     ]
    },
    {
     "name": "stdout",
     "output_type": "stream",
     "text": [
      "epoch = 8,loss = 36479564.48364486,r2 = 0.5923675007646276,val_loss = 28698950.574074075,val_+r2 = 0.7128934864768888\n",
      "[step = 10] loss:51033495.0,r2:0.4593815659895516\n",
      "[step = 20] loss:38845285.6375,r2:0.5843998940368066\n",
      "[step = 30] loss:43889845.333333336,r2:0.599531755702528\n",
      "[step = 40] loss:41079995.6625,r2:0.6136774899088044\n",
      "[step = 50] loss:40363672.85,r2:0.6144797164444733\n",
      "[step = 60] loss:40048632.25,r2:0.6118726337254781\n",
      "[step = 70] loss:38540706.875,r2:0.6085127814056049\n",
      "[step = 80] loss:37012686.2625,r2:0.623690517848455\n",
      "[step = 90] loss:35647019.76111111,r2:0.6317402316467392\n",
      "[step = 100] loss:35323090.2925,r2:0.6282891851130166\n"
     ]
    },
    {
     "name": "stderr",
     "output_type": "stream",
     "text": [
      "\r",
      "  4%|██▉                                                                               | 9/250 [00:02<00:53,  4.50it/s]"
     ]
    },
    {
     "name": "stdout",
     "output_type": "stream",
     "text": [
      "epoch = 9,loss = 34849799.96028037,r2 = 0.630361442409871,val_loss = 28902111.87037037,val_+r2 = 0.6823220131438787\n",
      "[step = 10] loss:31832927.9,r2:0.5142016268062521\n",
      "[step = 20] loss:33195115.4,r2:0.603593564245372\n",
      "[step = 30] loss:36385025.93333333,r2:0.641701455714079\n",
      "[step = 40] loss:35100365.475,r2:0.6460113076278154\n",
      "[step = 50] loss:34440837.12,r2:0.6450209758028386\n",
      "[step = 60] loss:34589311.9625,r2:0.630240793942147\n",
      "[step = 70] loss:33373848.082142856,r2:0.6527737261626807\n",
      "[step = 80] loss:33315004.053125,r2:0.6420362870729475\n",
      "[step = 90] loss:33279020.63611111,r2:0.6625733708702078\n"
     ]
    },
    {
     "name": "stderr",
     "output_type": "stream",
     "text": [
      "\r",
      "  4%|███▏                                                                             | 10/250 [00:02<00:55,  4.33it/s]"
     ]
    },
    {
     "name": "stdout",
     "output_type": "stream",
     "text": [
      "[step = 100] loss:33701246.0925,r2:0.6473126788346226\n",
      "epoch = 10,loss = 33832576.01635514,r2 = 0.6475047595004546,val_loss = 26774026.555555556,val_+r2 = 0.7017722831983259\n",
      "[step = 10] loss:38946723.6,r2:0.6163097785829075\n",
      "[step = 20] loss:33695202.4625,r2:0.5364052661320982\n",
      "[step = 30] loss:33194536.191666666,r2:0.5958743534719569\n",
      "[step = 40] loss:31778490.50625,r2:0.6150743237116155\n",
      "[step = 50] loss:30462944.1975,r2:0.6277267753466897\n",
      "[step = 60] loss:31421113.247916665,r2:0.6291097155200104\n",
      "[step = 70] loss:31917718.716071427,r2:0.6299430951545723\n"
     ]
    },
    {
     "name": "stderr",
     "output_type": "stream",
     "text": [
      "\r",
      "  4%|███▌                                                                             | 11/250 [00:02<00:55,  4.31it/s]"
     ]
    },
    {
     "name": "stdout",
     "output_type": "stream",
     "text": [
      "[step = 80] loss:31551044.5234375,r2:0.6381225826102563\n",
      "[step = 90] loss:31262265.581944443,r2:0.6519017469060674\n",
      "[step = 100] loss:31893621.66375,r2:0.6490369355012473\n",
      "epoch = 11,loss = 31876189.695093457,r2 = 0.6535358936384524,val_loss = 29305101.444444444,val_+r2 = 0.701739148363914\n",
      "[step = 10] loss:25623518.8,r2:0.6957839776899709\n",
      "[step = 20] loss:26159810.5125,r2:0.6816867455641573\n",
      "[step = 30] loss:22833966.683333334,r2:0.6982511992612264\n",
      "[step = 40] loss:29423699.0625,r2:0.6580022795794076\n",
      "[step = 50] loss:28659357.94,r2:0.6594227952583271\n",
      "[step = 60] loss:30596719.485416666,r2:0.6599168998890899\n",
      "[step = 70] loss:31246156.81607143,r2:0.6539521201200864\n"
     ]
    },
    {
     "name": "stderr",
     "output_type": "stream",
     "text": [
      "\r",
      "  5%|███▉                                                                             | 12/250 [00:02<00:53,  4.45it/s]"
     ]
    },
    {
     "name": "stdout",
     "output_type": "stream",
     "text": [
      "[step = 80] loss:30954804.0015625,r2:0.6630710686352208\n",
      "[step = 90] loss:30231730.80138889,r2:0.6673983986215923\n",
      "[step = 100] loss:31138743.51625,r2:0.6670859929961408\n",
      "epoch = 12,loss = 30946291.33995327,r2 = 0.6676404944115032,val_loss = 24035328.037037037,val_+r2 = 0.6711662289704685\n",
      "[step = 10] loss:22123243.9,r2:0.7810233269593116\n",
      "[step = 20] loss:24207800.475,r2:0.7265751983054891\n",
      "[step = 30] loss:25180513.483333334,r2:0.7245263557059308\n",
      "[step = 40] loss:27448916.3125,r2:0.6999748689800962\n",
      "[step = 50] loss:29581481.53,r2:0.6727097812065665\n",
      "[step = 60] loss:29443402.191666666,r2:0.6709014739159787\n",
      "[step = 70] loss:28914555.207142856,r2:0.6887150664425622\n"
     ]
    },
    {
     "name": "stderr",
     "output_type": "stream",
     "text": [
      "\r",
      "  5%|████▏                                                                            | 13/250 [00:02<00:54,  4.39it/s]"
     ]
    },
    {
     "name": "stdout",
     "output_type": "stream",
     "text": [
      "[step = 80] loss:29628519.225,r2:0.6890815989347023\n",
      "[step = 90] loss:28586325.805555556,r2:0.7007683332853959\n",
      "[step = 100] loss:28726055.96,r2:0.7023515555336175\n",
      "epoch = 13,loss = 29153058.61682243,r2 = 0.7067650634666296,val_loss = 22800722.777777776,val_+r2 = 0.7889999136867616\n",
      "[step = 10] loss:20242767.85,r2:0.79835870597342\n",
      "[step = 20] loss:19508719.76875,r2:0.8114282974275906\n",
      "[step = 30] loss:21521952.629166666,r2:0.8181686912786915\n",
      "[step = 40] loss:24068473.284375,r2:0.7758863769355098\n",
      "[step = 50] loss:25372365.6375,r2:0.7625734321704382\n",
      "[step = 60] loss:25603600.45625,r2:0.7392663941276229\n"
     ]
    },
    {
     "name": "stderr",
     "output_type": "stream",
     "text": [
      "\r",
      "  6%|████▌                                                                            | 14/250 [00:03<00:55,  4.23it/s]"
     ]
    },
    {
     "name": "stdout",
     "output_type": "stream",
     "text": [
      "[step = 70] loss:24827715.6875,r2:0.7434736011791242\n",
      "[step = 80] loss:26950539.6453125,r2:0.7292630373226061\n",
      "[step = 90] loss:27582068.445833333,r2:0.7220667773088236\n",
      "[step = 100] loss:27997676.43625,r2:0.7182773240435729\n",
      "epoch = 14,loss = 27974716.234813083,r2 = 0.7156338640764692,val_loss = 22557241.217592593,val_+r2 = 0.7624090841743886\n",
      "[step = 10] loss:33563453.8,r2:0.6473522820499322\n",
      "[step = 20] loss:28945170.1,r2:0.6931833857031389\n",
      "[step = 30] loss:29403744.366666667,r2:0.685253876688377\n",
      "[step = 40] loss:28535131.85,r2:0.7213274057840104\n"
     ]
    },
    {
     "name": "stderr",
     "output_type": "stream",
     "text": [
      "\r",
      "  6%|████▊                                                                            | 15/250 [00:03<00:58,  3.99it/s]"
     ]
    },
    {
     "name": "stdout",
     "output_type": "stream",
     "text": [
      "[step = 50] loss:28516432.29,r2:0.7235725737160856\n",
      "[step = 60] loss:28754472.841666665,r2:0.7144832407952886\n",
      "[step = 70] loss:26605927.45892857,r2:0.7322491607391748\n",
      "[step = 80] loss:29114094.3046875,r2:0.7261558251367441\n",
      "[step = 90] loss:27957094.95972222,r2:0.7346561880587562\n",
      "[step = 100] loss:28222245.4,r2:0.7268824002936343\n",
      "epoch = 15,loss = 27597247.63084112,r2 = 0.7303042120779442,val_loss = 20953428.62962963,val_+r2 = 0.79678449736521\n",
      "[step = 10] loss:29603970.5,r2:0.6815610994330183\n",
      "[step = 20] loss:29652300.45,r2:0.6530204221903995\n",
      "[step = 30] loss:27949534.033333335,r2:0.7081662290315532\n",
      "[step = 40] loss:25512628.8125,r2:0.6959440081523673\n",
      "[step = 50] loss:25400357.61,r2:0.7076269915664375\n",
      "[step = 60] loss:24277603.5,r2:0.7030564866962884\n",
      "[step = 70] loss:25437223.885714285,r2:0.6966434540570905\n"
     ]
    },
    {
     "name": "stderr",
     "output_type": "stream",
     "text": [
      "\r",
      "  6%|█████▏                                                                           | 16/250 [00:03<01:08,  3.44it/s]"
     ]
    },
    {
     "name": "stdout",
     "output_type": "stream",
     "text": [
      "[step = 80] loss:24929511.759375,r2:0.6893807215672093\n",
      "[step = 90] loss:25625918.8,r2:0.6941644219372429\n",
      "[step = 100] loss:25967729.18,r2:0.7054906518464557\n",
      "epoch = 16,loss = 25836660.479556076,r2 = 0.7131179989834243,val_loss = 25068691.797453705,val_+r2 = 0.7234926174567383\n",
      "[step = 10] loss:31142482.825,r2:0.6396091560190953\n",
      "[step = 20] loss:27622522.9375,r2:0.6921392448735493\n",
      "[step = 30] loss:27490930.322916668,r2:0.7434001475455437\n",
      "[step = 40] loss:26505569.7421875,r2:0.7549110985388695\n",
      "[step = 50] loss:26916438.55875,r2:0.7412365928002331\n",
      "[step = 60] loss:25722631.782291666,r2:0.7358360167437205\n",
      "[step = 70] loss:26522485.291964285,r2:0.7298423520535355\n",
      "[step = 80] loss:26223874.50546875,r2:0.7137045878786201\n",
      "[step = 90] loss:25691340.199305557,r2:0.7204603267700633\n"
     ]
    },
    {
     "name": "stderr",
     "output_type": "stream",
     "text": [
      "\r",
      "  7%|█████▌                                                                           | 17/250 [00:04<01:12,  3.23it/s]"
     ]
    },
    {
     "name": "stdout",
     "output_type": "stream",
     "text": [
      "[step = 100] loss:26639124.021875,r2:0.6945626387838436\n",
      "epoch = 17,loss = 27756168.534462616,r2 = 0.6839161139427541,val_loss = 20937109.277777776,val_+r2 = 0.7471307095914094\n",
      "[step = 10] loss:20125829.475,r2:0.8064387673428733\n",
      "[step = 20] loss:18846347.98125,r2:0.8357183185474678\n",
      "[step = 30] loss:21527543.820833333,r2:0.7783864379623538\n",
      "[step = 40] loss:23589782.79375,r2:0.7187502888419868\n",
      "[step = 50] loss:25163318.635,r2:0.6920718204772806\n"
     ]
    },
    {
     "name": "stderr",
     "output_type": "stream",
     "text": [
      "\r",
      "  7%|█████▊                                                                           | 18/250 [00:04<01:13,  3.17it/s]"
     ]
    },
    {
     "name": "stdout",
     "output_type": "stream",
     "text": [
      "[step = 60] loss:25645212.6875,r2:0.7044917217896299\n",
      "[step = 70] loss:25550475.925,r2:0.7127112188510026\n",
      "[step = 80] loss:26443558.3671875,r2:0.6965701629834479\n",
      "[step = 90] loss:27357040.565277778,r2:0.7059871877644848\n",
      "[step = 100] loss:25662951.42875,r2:0.7236649283611121\n",
      "epoch = 18,loss = 26245445.077686917,r2 = 0.7219836977459282,val_loss = 19832758.85185185,val_+r2 = 0.8024531355578804\n",
      "[step = 10] loss:28249520.475,r2:0.6698424970467941\n",
      "[step = 20] loss:25410766.6875,r2:0.6438291856272672\n",
      "[step = 30] loss:22281957.308333334,r2:0.7124907034190121\n",
      "[step = 40] loss:22614136.1875,r2:0.7283311946798219\n",
      "[step = 50] loss:25253357.13,r2:0.7034463106007274\n",
      "[step = 60] loss:25768948.735416666,r2:0.7216296002661384\n",
      "[step = 70] loss:25346538.185714286,r2:0.7246913057306944\n",
      "[step = 80] loss:25574215.36875,r2:0.7315675692477837\n",
      "[step = 90] loss:24407252.608333334,r2:0.7365735327866925\n"
     ]
    },
    {
     "name": "stderr",
     "output_type": "stream",
     "text": [
      "\r",
      "  8%|██████▏                                                                          | 19/250 [00:04<01:13,  3.15it/s]"
     ]
    },
    {
     "name": "stdout",
     "output_type": "stream",
     "text": [
      "[step = 100] loss:26542135.0375,r2:0.7205000531075462\n",
      "epoch = 19,loss = 26223543.539719626,r2 = 0.7221351780195623,val_loss = 19711323.046296295,val_+r2 = 0.8026509004077519\n",
      "[step = 10] loss:27845856.4,r2:0.7522428168522463\n",
      "[step = 20] loss:31295400.9,r2:0.7297298477026318\n",
      "[step = 30] loss:27415437.633333333,r2:0.7382968479154931\n",
      "[step = 40] loss:28482153.9625,r2:0.684795295599097\n",
      "[step = 50] loss:29170650.17,r2:0.6732751972516269\n",
      "[step = 60] loss:30027131.504166666,r2:0.6830636462889148\n",
      "[step = 70] loss:28957103.989285715,r2:0.7088795680915823\n"
     ]
    },
    {
     "name": "stderr",
     "output_type": "stream",
     "text": [
      "\r",
      "  8%|██████▍                                                                          | 20/250 [00:05<01:10,  3.25it/s]"
     ]
    },
    {
     "name": "stdout",
     "output_type": "stream",
     "text": [
      "[step = 80] loss:27279040.09375,r2:0.7177922651109229\n",
      "[step = 90] loss:26721951.015277777,r2:0.7055310028467484\n",
      "[step = 100] loss:26763690.66875,r2:0.700592327160095\n",
      "epoch = 20,loss = 26124814.858644858,r2 = 0.7072644330165785,val_loss = 19560006.736111112,val_+r2 = 0.8459309628081764\n",
      "[step = 10] loss:25887893.65,r2:0.6967378819899865\n",
      "[step = 20] loss:24761888.1875,r2:0.7010488838877527\n",
      "[step = 30] loss:22044439.258333333,r2:0.7437085986279424\n",
      "[step = 40] loss:20034911.1,r2:0.775562617418364\n",
      "[step = 50] loss:21391043.9675,r2:0.7616662714092586\n"
     ]
    },
    {
     "name": "stderr",
     "output_type": "stream",
     "text": [
      "\r",
      "  8%|██████▊                                                                          | 21/250 [00:05<01:08,  3.33it/s]"
     ]
    },
    {
     "name": "stdout",
     "output_type": "stream",
     "text": [
      "[step = 60] loss:21922781.866666667,r2:0.7508791897577283\n",
      "[step = 70] loss:21993900.14642857,r2:0.761431135307839\n",
      "[step = 80] loss:21294641.796875,r2:0.7614829422929603\n",
      "[step = 90] loss:23700566.208333332,r2:0.7596709434631224\n",
      "[step = 100] loss:25757122.28,r2:0.7479255969849068\n",
      "epoch = 21,loss = 26134264.322429907,r2 = 0.7486338017386414,val_loss = 23694015.12962963,val_+r2 = 0.7467236140027126\n",
      "[step = 10] loss:20411185.025,r2:0.8105016253673936\n",
      "[step = 20] loss:23921642.75,r2:0.7297779828525617\n",
      "[step = 30] loss:29260050.516666666,r2:0.6619415502653266\n",
      "[step = 40] loss:30786179.2625,r2:0.6796051651980198\n",
      "[step = 50] loss:30582781.9325,r2:0.688778869821794\n",
      "[step = 60] loss:30585544.227083333,r2:0.6779258887900433\n",
      "[step = 70] loss:28757569.417857144,r2:0.6976963420045713\n",
      "[step = 80] loss:28298411.8921875,r2:0.698985508339803\n",
      "[step = 90] loss:27533057.9875,r2:0.7180353528935577\n",
      "[step = 100] loss:26266216.175,r2:0.7299010294616198\n"
     ]
    },
    {
     "name": "stderr",
     "output_type": "stream",
     "text": [
      "\r",
      "  9%|███████▏                                                                         | 22/250 [00:05<01:07,  3.39it/s]"
     ]
    },
    {
     "name": "stdout",
     "output_type": "stream",
     "text": [
      "epoch = 22,loss = 26795174.453271028,r2 = 0.7248115081622271,val_loss = 19157042.430555556,val_+r2 = 0.8465942356339523\n",
      "[step = 10] loss:14838871.8625,r2:0.876761342480384\n",
      "[step = 20] loss:18618005.66875,r2:0.8244096144438944\n",
      "[step = 30] loss:21839633.870833334,r2:0.771243378137531\n",
      "[step = 40] loss:22809700.003125,r2:0.7751251857508659\n",
      "[step = 50] loss:24051963.7575,r2:0.7717655878142726\n",
      "[step = 60] loss:25687690.839583334,r2:0.7374325710181863\n",
      "[step = 70] loss:26077222.735714287,r2:0.7432184133423216\n",
      "[step = 80] loss:26459531.4375,r2:0.73740031676109\n"
     ]
    },
    {
     "name": "stderr",
     "output_type": "stream",
     "text": [
      "\r",
      "  9%|███████▍                                                                         | 23/250 [00:06<01:06,  3.43it/s]"
     ]
    },
    {
     "name": "stdout",
     "output_type": "stream",
     "text": [
      "[step = 90] loss:25533967.71736111,r2:0.7412422784675075\n",
      "[step = 100] loss:25151245.525625,r2:0.7478737596117656\n",
      "epoch = 23,loss = 25726536.15478972,r2 = 0.7336715536946684,val_loss = 19874617.092592593,val_+r2 = 0.8024695103095807\n",
      "[step = 10] loss:25013131.5,r2:0.7458497440574058\n",
      "[step = 20] loss:32894473.7,r2:0.7119411568237493\n",
      "[step = 30] loss:37076445.13333333,r2:0.6844271243915738\n",
      "[step = 40] loss:32024818.665625,r2:0.7150438577979539\n",
      "[step = 50] loss:30251688.5925,r2:0.7299002155655357\n"
     ]
    },
    {
     "name": "stderr",
     "output_type": "stream",
     "text": [
      "\r",
      " 10%|███████▊                                                                         | 24/250 [00:06<01:05,  3.47it/s]"
     ]
    },
    {
     "name": "stdout",
     "output_type": "stream",
     "text": [
      "[step = 60] loss:30399061.672916666,r2:0.6858293957608996\n",
      "[step = 70] loss:28417557.11607143,r2:0.7139826625238721\n",
      "[step = 80] loss:27251762.6484375,r2:0.7305536012211126\n",
      "[step = 90] loss:27967022.42638889,r2:0.7145360791410414\n",
      "[step = 100] loss:26277661.40375,r2:0.7291142551949096\n",
      "epoch = 24,loss = 25286663.37149533,r2 = 0.7420578220253127,val_loss = 19107362.73148148,val_+r2 = 0.8030309839711605\n",
      "[step = 10] loss:25831912.675,r2:0.6019501570714657\n",
      "[step = 20] loss:26926789.55,r2:0.6580622285332235\n"
     ]
    },
    {
     "name": "stderr",
     "output_type": "stream",
     "text": [
      "\r",
      " 10%|████████                                                                         | 25/250 [00:06<01:04,  3.49it/s]"
     ]
    },
    {
     "name": "stdout",
     "output_type": "stream",
     "text": [
      "[step = 30] loss:22619570.10625,r2:0.6839637084159171\n",
      "[step = 40] loss:23495754.18125,r2:0.678568161422674\n",
      "[step = 50] loss:23676866.0325,r2:0.7038058724478353\n",
      "[step = 60] loss:24658119.527083334,r2:0.7164690175992455\n",
      "[step = 70] loss:25360137.694642857,r2:0.7130471375043718\n",
      "[step = 80] loss:24995936.6234375,r2:0.7339946257575573\n",
      "[step = 90] loss:25942140.320833333,r2:0.7014808258749055\n",
      "[step = 100] loss:24945056.86875,r2:0.7132872107554081\n",
      "epoch = 25,loss = 25573623.956775703,r2 = 0.7155304949785687,val_loss = 20408714.35185185,val_+r2 = 0.808210871702672\n",
      "[step = 10] loss:28560112.6,r2:0.7059772004277592\n",
      "[step = 20] loss:24451595.0,r2:0.7274231159832523\n",
      "[step = 30] loss:25145414.983333334,r2:0.6978926643151773\n",
      "[step = 40] loss:30570152.725,r2:0.7033481476858598\n",
      "[step = 50] loss:29147310.26625,r2:0.7106947116554799\n",
      "[step = 60] loss:28273443.003125,r2:0.7230721218396069\n",
      "[step = 70] loss:27812744.077678572,r2:0.7302223638980238\n",
      "[step = 80] loss:26897776.75546875,r2:0.7274413108158796\n"
     ]
    },
    {
     "name": "stderr",
     "output_type": "stream",
     "text": [
      "\r",
      " 10%|████████▍                                                                        | 26/250 [00:06<01:03,  3.51it/s]"
     ]
    },
    {
     "name": "stdout",
     "output_type": "stream",
     "text": [
      "[step = 90] loss:26159054.697916668,r2:0.7383617975301979\n",
      "[step = 100] loss:25476814.875625,r2:0.7491266631114099\n",
      "epoch = 26,loss = 25629406.405957945,r2 = 0.7362266641708697,val_loss = 19520063.39814815,val_+r2 = 0.793027680812606\n",
      "[step = 10] loss:19008931.625,r2:0.8310489802351093\n",
      "[step = 20] loss:26324825.6625,r2:0.7995012724932942\n",
      "[step = 30] loss:24474640.475,r2:0.7536499262720934\n",
      "[step = 40] loss:23168492.13125,r2:0.7649780296148855\n",
      "[step = 50] loss:23790318.43,r2:0.7462980745085979\n",
      "[step = 60] loss:23820731.258333333,r2:0.7446718479502332\n"
     ]
    },
    {
     "name": "stderr",
     "output_type": "stream",
     "text": [
      "\r",
      " 11%|████████▋                                                                        | 27/250 [00:07<01:03,  3.53it/s]"
     ]
    },
    {
     "name": "stdout",
     "output_type": "stream",
     "text": [
      "[step = 70] loss:24164985.3625,r2:0.7482750609648191\n",
      "[step = 80] loss:23971692.8578125,r2:0.7435228869464574\n",
      "[step = 90] loss:23787688.4875,r2:0.7499401988720903\n",
      "[step = 100] loss:23494901.05375,r2:0.7553049929400661\n",
      "epoch = 27,loss = 24752514.94042056,r2 = 0.7426315067440536,val_loss = 19290607.14814815,val_+r2 = 0.7963573961931104\n",
      "[step = 10] loss:18293139.0625,r2:0.8012208672611211\n",
      "[step = 20] loss:19841943.2625,r2:0.7250087752207798\n",
      "[step = 30] loss:23443502.810416665,r2:0.7271193895522445\n",
      "[step = 40] loss:23280948.0046875,r2:0.7204230841548037\n"
     ]
    },
    {
     "name": "stderr",
     "output_type": "stream",
     "text": [
      "\r",
      " 11%|█████████                                                                        | 28/250 [00:07<01:02,  3.53it/s]"
     ]
    },
    {
     "name": "stdout",
     "output_type": "stream",
     "text": [
      "[step = 50] loss:26136481.97375,r2:0.6994174530349001\n",
      "[step = 60] loss:25622025.353125,r2:0.7067006935333213\n",
      "[step = 70] loss:24137748.684821427,r2:0.7202504525970319\n",
      "[step = 80] loss:24007736.35078125,r2:0.7249830932309385\n",
      "[step = 90] loss:25054928.765972223,r2:0.7336253398364457\n",
      "[step = 100] loss:25643844.453125,r2:0.7170173110471209\n",
      "epoch = 28,loss = 26081705.126752336,r2 = 0.713153583542269,val_loss = 21324447.574074075,val_+r2 = 0.8195558388103626\n",
      "[step = 10] loss:18430901.8125,r2:0.739011446999403\n",
      "[step = 20] loss:24820308.93125,r2:0.7608155554827042\n"
     ]
    },
    {
     "name": "stderr",
     "output_type": "stream",
     "text": [
      "\r",
      " 12%|█████████▍                                                                       | 29/250 [00:07<01:02,  3.55it/s]"
     ]
    },
    {
     "name": "stdout",
     "output_type": "stream",
     "text": [
      "[step = 30] loss:24174844.720833335,r2:0.7645464054386154\n",
      "[step = 40] loss:25429209.978125,r2:0.7388979555040953\n",
      "[step = 50] loss:25668783.2875,r2:0.7465426630080434\n",
      "[step = 60] loss:24506499.535416666,r2:0.7603418336628697\n",
      "[step = 70] loss:24984119.4875,r2:0.7486549284467823\n",
      "[step = 80] loss:24830571.6984375,r2:0.7483400788950663\n",
      "[step = 90] loss:24951687.143055554,r2:0.7602718719145766\n",
      "[step = 100] loss:25778893.11875,r2:0.7376216316435904\n",
      "epoch = 29,loss = 25878899.199766356,r2 = 0.7359393453705698,val_loss = 29538401.050925925,val_+r2 = 0.7424166171392914\n",
      "[step = 10] loss:32156190.765625,r2:0.7148413029974977\n",
      "[step = 20] loss:28744233.0828125,r2:0.6870017528917995\n",
      "[step = 30] loss:29075886.761979166,r2:0.654695502301808\n",
      "[step = 40] loss:33421194.846484374,r2:0.6820980204292767\n",
      "[step = 50] loss:33096232.3671875,r2:0.6879233230607905\n",
      "[step = 60] loss:30219885.426822916,r2:0.6930223335767689\n",
      "[step = 70] loss:30090900.0515625,r2:0.7008970054526097\n",
      "[step = 80] loss:27256610.260742188,r2:0.7276137790910818\n",
      "[step = 90] loss:27173070.774131946,r2:0.7259469191482241\n"
     ]
    },
    {
     "name": "stderr",
     "output_type": "stream",
     "text": [
      "\r",
      " 12%|█████████▋                                                                       | 30/250 [00:08<01:02,  3.55it/s]"
     ]
    },
    {
     "name": "stdout",
     "output_type": "stream",
     "text": [
      "[step = 100] loss:28308850.32421875,r2:0.712570006097679\n",
      "epoch = 30,loss = 27645157.326372664,r2 = 0.7126030788456188,val_loss = 20300218.388888888,val_+r2 = 0.793673466677597\n",
      "[step = 10] loss:40223681.4875,r2:0.7749388540095106\n",
      "[step = 20] loss:28417067.6875,r2:0.8135528898202062\n",
      "[step = 30] loss:25956270.316666666,r2:0.794099526812646\n",
      "[step = 40] loss:25404357.81875,r2:0.7803928806629037\n",
      "[step = 50] loss:24805849.215,r2:0.7869132434621297\n",
      "[step = 60] loss:26217737.679166667,r2:0.7649689912464227\n"
     ]
    },
    {
     "name": "stderr",
     "output_type": "stream",
     "text": [
      "\r",
      " 12%|██████████                                                                       | 31/250 [00:08<01:01,  3.55it/s]"
     ]
    },
    {
     "name": "stdout",
     "output_type": "stream",
     "text": [
      "[step = 70] loss:24338833.726785716,r2:0.7654939422324132\n",
      "[step = 80] loss:25517755.5984375,r2:0.7563430092365664\n",
      "[step = 90] loss:26004187.070833333,r2:0.7491658103151293\n",
      "[step = 100] loss:26744317.54375,r2:0.7354874917674185\n",
      "epoch = 31,loss = 26024574.762850467,r2 = 0.7471847929120564,val_loss = 21498318.64814815,val_+r2 = 0.8216475585612477\n",
      "[step = 10] loss:16901639.228125,r2:0.8851228506031044\n",
      "[step = 20] loss:25604391.4390625,r2:0.7944256506643409\n",
      "[step = 30] loss:26388036.576041665,r2:0.7294671866788648\n",
      "[step = 40] loss:28711157.12578125,r2:0.6582163107359762\n"
     ]
    },
    {
     "name": "stderr",
     "output_type": "stream",
     "text": [
      "\r",
      " 13%|██████████▎                                                                      | 32/250 [00:08<01:01,  3.54it/s]"
     ]
    },
    {
     "name": "stdout",
     "output_type": "stream",
     "text": [
      "[step = 50] loss:27294187.785625,r2:0.6858166600101082\n",
      "[step = 60] loss:25584511.7296875,r2:0.7180563917770907\n",
      "[step = 70] loss:25650899.561160713,r2:0.7308654007331773\n",
      "[step = 80] loss:25538660.241015624,r2:0.7293025350794908\n",
      "[step = 90] loss:25830391.569791667,r2:0.7156211361175181\n",
      "[step = 100] loss:25083092.206875,r2:0.7248626578629513\n",
      "epoch = 32,loss = 25211535.796144858,r2 = 0.7216455304684425,val_loss = 19088969.62037037,val_+r2 = 0.7989263932241899\n",
      "[step = 10] loss:27572553.075,r2:0.7432906056070896\n",
      "[step = 20] loss:22355561.8125,r2:0.8045846573174711\n",
      "[step = 30] loss:19157069.916666668,r2:0.8202580647965075\n",
      "[step = 40] loss:21877579.9046875,r2:0.7831914536384662\n",
      "[step = 50] loss:23755171.70375,r2:0.7823326962279531\n",
      "[step = 60] loss:25747384.153125,r2:0.7538906199254012\n",
      "[step = 70] loss:24674583.538392857,r2:0.7727426914082177\n",
      "[step = 80] loss:24269935.49921875,r2:0.7676263395668388\n",
      "[step = 90] loss:26100937.210416667,r2:0.7401616407634736\n",
      "[step = 100] loss:25308554.339375,r2:0.7447062214194463\n"
     ]
    },
    {
     "name": "stderr",
     "output_type": "stream",
     "text": [
      "\r",
      " 13%|██████████▋                                                                      | 33/250 [00:08<01:02,  3.50it/s]"
     ]
    },
    {
     "name": "stdout",
     "output_type": "stream",
     "text": [
      "epoch = 33,loss = 25281931.394275703,r2 = 0.7474455673733129,val_loss = 19215175.425925925,val_+r2 = 0.7638448923496455\n",
      "[step = 10] loss:35127369.55,r2:0.6708183531855016\n",
      "[step = 20] loss:30390536.7375,r2:0.7072696511504074\n",
      "[step = 30] loss:27662135.891666666,r2:0.7626557204917487\n",
      "[step = 40] loss:26918771.075,r2:0.6891569799169444\n",
      "[step = 50] loss:28266968.57,r2:0.6905906342865918\n",
      "[step = 60] loss:27094645.016666666,r2:0.6927556130307956\n",
      "[step = 70] loss:24664697.21517857,r2:0.7230309570946601\n"
     ]
    },
    {
     "name": "stderr",
     "output_type": "stream",
     "text": [
      "\r",
      " 14%|███████████                                                                      | 34/250 [00:09<01:03,  3.41it/s]"
     ]
    },
    {
     "name": "stdout",
     "output_type": "stream",
     "text": [
      "[step = 80] loss:24626164.81328125,r2:0.721346059348595\n",
      "[step = 90] loss:25049676.964583334,r2:0.721401912275439\n",
      "[step = 100] loss:25309513.04125,r2:0.719682828399195\n",
      "epoch = 34,loss = 25019918.922897197,r2 = 0.7184445495898328,val_loss = 19016452.550925925,val_+r2 = 0.7629876508019494\n",
      "[step = 10] loss:24002418.85,r2:0.7711817591550486\n",
      "[step = 20] loss:19211837.9375,r2:0.8250819139014386\n",
      "[step = 30] loss:19604287.2,r2:0.8135785818758283\n",
      "[step = 40] loss:20559159.903125,r2:0.8169410978560764\n"
     ]
    },
    {
     "name": "stderr",
     "output_type": "stream",
     "text": [
      "\r",
      " 14%|███████████▎                                                                     | 35/250 [00:09<01:02,  3.46it/s]"
     ]
    },
    {
     "name": "stdout",
     "output_type": "stream",
     "text": [
      "[step = 50] loss:23450293.6025,r2:0.7760515852602095\n",
      "[step = 60] loss:25732965.702083334,r2:0.7564727751066599\n",
      "[step = 70] loss:25594489.36607143,r2:0.7445091998409655\n",
      "[step = 80] loss:24650902.9359375,r2:0.7353647826700231\n",
      "[step = 90] loss:24646922.145833332,r2:0.7415340266739856\n",
      "[step = 100] loss:25320053.75125,r2:0.7286381532983751\n",
      "epoch = 35,loss = 25453896.980140187,r2 = 0.7337708552700812,val_loss = 20369417.01851852,val_+r2 = 0.7788631345224438\n",
      "[step = 10] loss:22895818.25,r2:0.7999677293339036\n",
      "[step = 20] loss:23569027.2,r2:0.7864491046695251\n",
      "[step = 30] loss:23863219.916666668,r2:0.771495728353867\n",
      "[step = 40] loss:26265302.575,r2:0.7627009655477119\n",
      "[step = 50] loss:24090529.315,r2:0.7856061902187775\n",
      "[step = 60] loss:24001474.420833334,r2:0.7595532921985909\n",
      "[step = 70] loss:23727499.848214287,r2:0.7616119000266113\n",
      "[step = 80] loss:23572261.921875,r2:0.7507634574852848\n",
      "[step = 90] loss:25448321.16388889,r2:0.7465898445071615\n",
      "[step = 100] loss:24871415.12,r2:0.7416029812636729\n"
     ]
    },
    {
     "name": "stderr",
     "output_type": "stream",
     "text": [
      "\r",
      " 14%|███████████▋                                                                     | 36/250 [00:09<01:01,  3.50it/s]"
     ]
    },
    {
     "name": "stdout",
     "output_type": "stream",
     "text": [
      "epoch = 36,loss = 25810790.925233644,r2 = 0.7377484780653613,val_loss = 19097245.861111112,val_+r2 = 0.8137781333696752\n",
      "[step = 10] loss:35448900.8,r2:0.7371353176775066\n",
      "[step = 20] loss:31363632.525,r2:0.7338414482133075\n",
      "[step = 30] loss:28093797.016666666,r2:0.7205343786712555\n",
      "[step = 40] loss:28564912.55,r2:0.7010164137947609\n",
      "[step = 50] loss:25951161.895,r2:0.7153978156530004\n",
      "[step = 60] loss:25575348.295833334,r2:0.7114516004625474\n",
      "[step = 70] loss:25510515.739285715,r2:0.7211537501603232\n",
      "[step = 80] loss:24804804.103125,r2:0.7254230912544092\n",
      "[step = 90] loss:24858104.305555556,r2:0.725261716925755\n"
     ]
    },
    {
     "name": "stderr",
     "output_type": "stream",
     "text": [
      "\r",
      " 15%|███████████▉                                                                     | 37/250 [00:10<01:00,  3.53it/s]"
     ]
    },
    {
     "name": "stdout",
     "output_type": "stream",
     "text": [
      "[step = 100] loss:24211166.809375,r2:0.7281727729099491\n",
      "epoch = 37,loss = 24709058.074182242,r2 = 0.7227792340375406,val_loss = 18971086.87037037,val_+r2 = 0.824477652447959\n",
      "[step = 10] loss:18422385.05,r2:0.8211880107311096\n",
      "[step = 20] loss:25478508.275,r2:0.7887853679699279\n",
      "[step = 30] loss:26506405.233333334,r2:0.7352083468112858\n",
      "[step = 40] loss:27526382.8125,r2:0.737537746587871\n",
      "[step = 50] loss:26736037.575,r2:0.7407528827915884\n",
      "[step = 60] loss:28674146.5125,r2:0.7228636118012386\n",
      "[step = 70] loss:27580417.235714287,r2:0.7374122790366409\n"
     ]
    },
    {
     "name": "stderr",
     "output_type": "stream",
     "text": [
      "\r",
      " 15%|████████████▎                                                                    | 38/250 [00:10<00:59,  3.54it/s]"
     ]
    },
    {
     "name": "stdout",
     "output_type": "stream",
     "text": [
      "[step = 80] loss:26946326.9875,r2:0.7424526293713811\n",
      "[step = 90] loss:26623594.006944444,r2:0.7494346099036243\n",
      "[step = 100] loss:26415521.24625,r2:0.7532204194507224\n",
      "epoch = 38,loss = 26178128.804906543,r2 = 0.7573936252120008,val_loss = 25753235.603009257,val_+r2 = 0.7530780257739624\n",
      "[step = 10] loss:24239193.1375,r2:0.7739467456534295\n",
      "[step = 20] loss:27446615.40625,r2:0.7069369981330382\n",
      "[step = 30] loss:22473916.6,r2:0.7537038221371676\n",
      "[step = 40] loss:23774328.86875,r2:0.7431174017103432\n",
      "[step = 50] loss:22830641.735,r2:0.7169660161435529\n"
     ]
    },
    {
     "name": "stderr",
     "output_type": "stream",
     "text": [
      "\r",
      " 16%|████████████▋                                                                    | 39/250 [00:10<00:59,  3.55it/s]"
     ]
    },
    {
     "name": "stdout",
     "output_type": "stream",
     "text": [
      "[step = 60] loss:24374147.841666665,r2:0.7176804500484414\n",
      "[step = 70] loss:23620557.39285714,r2:0.7336338208818576\n",
      "[step = 80] loss:24526953.65,r2:0.7327598796218455\n",
      "[step = 90] loss:24827030.494444445,r2:0.7420137758642549\n",
      "[step = 100] loss:24137132.7775,r2:0.7496746009004753\n",
      "epoch = 39,loss = 24935401.206775703,r2 = 0.7383800612780531,val_loss = 19190328.98148148,val_+r2 = 0.8185084810526746\n",
      "[step = 10] loss:32257110.15,r2:0.7447608635156231\n",
      "[step = 20] loss:26754231.275,r2:0.7218622649554832\n",
      "[step = 30] loss:28550824.916666668,r2:0.6815025409565202\n"
     ]
    },
    {
     "name": "stderr",
     "output_type": "stream",
     "text": [
      "\r",
      " 16%|████████████▉                                                                    | 40/250 [00:10<00:58,  3.56it/s]"
     ]
    },
    {
     "name": "stdout",
     "output_type": "stream",
     "text": [
      "[step = 40] loss:25627983.44375,r2:0.6963902016743881\n",
      "[step = 50] loss:27297561.2425,r2:0.6774138361023978\n",
      "[step = 60] loss:28185884.327083334,r2:0.6693264982175708\n",
      "[step = 70] loss:27075301.251785714,r2:0.6816584469918365\n",
      "[step = 80] loss:26856189.8828125,r2:0.6933712652106082\n",
      "[step = 90] loss:25748220.195833333,r2:0.7129006295931731\n",
      "[step = 100] loss:26020405.96625,r2:0.7173678642709578\n",
      "epoch = 40,loss = 25184723.230140187,r2 = 0.7278334772489367,val_loss = 22295376.208333332,val_+r2 = 0.8186819715670338\n",
      "[step = 10] loss:45328855.3375,r2:0.6317124101800274\n",
      "[step = 20] loss:35312847.78125,r2:0.7100673091905846\n",
      "[step = 30] loss:32746343.754166666,r2:0.7295811628740886\n",
      "[step = 40] loss:28554696.671875,r2:0.7425167077683011\n",
      "[step = 50] loss:28821098.6875,r2:0.7416642409583291\n",
      "[step = 60] loss:28391010.447916668,r2:0.7282495694789526\n",
      "[step = 70] loss:28618537.055357143,r2:0.7158885022326084\n",
      "[step = 80] loss:27770736.18125,r2:0.7204041668150921\n",
      "[step = 90] loss:26573879.019444443,r2:0.7252665812801958\n"
     ]
    },
    {
     "name": "stderr",
     "output_type": "stream",
     "text": [
      "\r",
      " 16%|█████████████▎                                                                   | 41/250 [00:11<00:58,  3.57it/s]"
     ]
    },
    {
     "name": "stdout",
     "output_type": "stream",
     "text": [
      "[step = 100] loss:26918832.30625,r2:0.7180876301399042\n",
      "epoch = 41,loss = 26203489.08995327,r2 = 0.7269219196865108,val_loss = 20462665.87962963,val_+r2 = 0.7643802792702412\n",
      "[step = 10] loss:21098494.75,r2:0.6677511048789606\n",
      "[step = 20] loss:25940221.7875,r2:0.6784193156549461\n",
      "[step = 30] loss:27455423.585416667,r2:0.6648851960659475\n",
      "[step = 40] loss:26374990.0578125,r2:0.6664138427116885\n",
      "[step = 50] loss:26202926.515,r2:0.7050670875322491\n",
      "[step = 60] loss:24174345.7125,r2:0.7313570589623909\n"
     ]
    },
    {
     "name": "stderr",
     "output_type": "stream",
     "text": [
      "\r",
      " 17%|█████████████▌                                                                   | 42/250 [00:11<00:58,  3.59it/s]"
     ]
    },
    {
     "name": "stdout",
     "output_type": "stream",
     "text": [
      "[step = 70] loss:23986752.50357143,r2:0.7396539684865188\n",
      "[step = 80] loss:25159636.278125,r2:0.7339522673278556\n",
      "[step = 90] loss:25266097.080555554,r2:0.7193566321274865\n",
      "[step = 100] loss:25391975.4075,r2:0.7121086499298106\n",
      "epoch = 42,loss = 24710008.28271028,r2 = 0.7249589110044664,val_loss = 19703904.953703705,val_+r2 = 0.8168650000621\n",
      "[step = 10] loss:31470169.1,r2:0.6958756966704251\n",
      "[step = 20] loss:33744240.85,r2:0.6515574890773037\n",
      "[step = 30] loss:27207370.508333333,r2:0.7095986618051636\n"
     ]
    },
    {
     "name": "stderr",
     "output_type": "stream",
     "text": [
      "\r",
      " 17%|█████████████▉                                                                   | 43/250 [00:11<00:57,  3.59it/s]"
     ]
    },
    {
     "name": "stdout",
     "output_type": "stream",
     "text": [
      "[step = 40] loss:25375576.171875,r2:0.7252891786275041\n",
      "[step = 50] loss:23514964.7725,r2:0.7368912690212014\n",
      "[step = 60] loss:22858472.79375,r2:0.7414880060349621\n",
      "[step = 70] loss:23401769.17767857,r2:0.7091973627691512\n",
      "[step = 80] loss:24758928.12421875,r2:0.7053206249610676\n",
      "[step = 90] loss:24175673.249305554,r2:0.7137446259743355\n",
      "[step = 100] loss:25442521.831875,r2:0.7116785751652206\n",
      "epoch = 43,loss = 25485215.415303737,r2 = 0.7126351653815223,val_loss = 20263845.425925925,val_+r2 = 0.7107399408882621\n",
      "[step = 10] loss:39386084.8,r2:0.6791620548925735\n",
      "[step = 20] loss:30233366.325,r2:0.728426682160421\n",
      "[step = 30] loss:30454824.4,r2:0.7248806576915243\n",
      "[step = 40] loss:26884770.865625,r2:0.7448105637233786\n",
      "[step = 50] loss:26284333.2275,r2:0.7577668882879915\n",
      "[step = 60] loss:25017908.65,r2:0.7545672654449691\n",
      "[step = 70] loss:25218280.92857143,r2:0.7622127887557391\n",
      "[step = 80] loss:24107489.62890625,r2:0.7628875770678831\n",
      "[step = 90] loss:24883785.596527778,r2:0.7565051874978242\n",
      "[step = 100] loss:25231573.030625,r2:0.7484737940149039\n"
     ]
    },
    {
     "name": "stderr",
     "output_type": "stream",
     "text": [
      "\r",
      " 18%|██████████████▎                                                                  | 44/250 [00:11<00:57,  3.59it/s]"
     ]
    },
    {
     "name": "stdout",
     "output_type": "stream",
     "text": [
      "epoch = 44,loss = 25030354.456775703,r2 = 0.7497932707341598,val_loss = 19513411.092592593,val_+r2 = 0.7934342455210099\n",
      "[step = 10] loss:21074819.6,r2:0.5717541586093982\n",
      "[step = 20] loss:26010802.7,r2:0.5925650321501383\n",
      "[step = 30] loss:26589899.166666668,r2:0.6288206185598423\n",
      "[step = 40] loss:25355364.5,r2:0.6775547194500113\n",
      "[step = 50] loss:22386342.235,r2:0.701584810932771\n",
      "[step = 60] loss:23080291.679166667,r2:0.7134630182529328\n",
      "[step = 70] loss:22658946.171428572,r2:0.7381795051851039\n",
      "[step = 80] loss:23112142.23125,r2:0.7372433492190091\n"
     ]
    },
    {
     "name": "stderr",
     "output_type": "stream",
     "text": [
      "\r",
      " 18%|██████████████▌                                                                  | 45/250 [00:12<00:57,  3.59it/s]"
     ]
    },
    {
     "name": "stdout",
     "output_type": "stream",
     "text": [
      "[step = 90] loss:24496757.02986111,r2:0.7443780163343254\n",
      "[step = 100] loss:24568033.116875,r2:0.7437292054341806\n",
      "epoch = 45,loss = 24808998.571845796,r2 = 0.7472889654762119,val_loss = 18898884.305555556,val_+r2 = 0.8082449200304315\n",
      "[step = 10] loss:17207914.15,r2:0.7316818309993396\n",
      "[step = 20] loss:25304071.375,r2:0.6465622166305246\n",
      "[step = 30] loss:26283418.766666666,r2:0.6886853607198462\n",
      "[step = 40] loss:26839743.26875,r2:0.7086769303823656\n",
      "[step = 50] loss:30579695.135,r2:0.6927876316669835\n"
     ]
    },
    {
     "name": "stderr",
     "output_type": "stream",
     "text": [
      "\r",
      " 18%|██████████████▉                                                                  | 46/250 [00:12<00:56,  3.59it/s]"
     ]
    },
    {
     "name": "stdout",
     "output_type": "stream",
     "text": [
      "[step = 60] loss:28069628.1375,r2:0.722502991811545\n",
      "[step = 70] loss:25971935.875,r2:0.7388760816812527\n",
      "[step = 80] loss:25021677.0515625,r2:0.7521474698985623\n",
      "[step = 90] loss:24840375.218055554,r2:0.7454850921172664\n",
      "[step = 100] loss:25713431.81,r2:0.7436341213603483\n",
      "epoch = 46,loss = 24966349.20911215,r2 = 0.7476692123578682,val_loss = 23596863.513888888,val_+r2 = 0.8184289602148015\n",
      "[step = 10] loss:16593860.05,r2:0.8402563871918609\n",
      "[step = 20] loss:19445131.775,r2:0.7502061344491342\n",
      "[step = 30] loss:21139392.533333335,r2:0.7623796752647174\n"
     ]
    },
    {
     "name": "stderr",
     "output_type": "stream",
     "text": [
      "\r",
      " 19%|███████████████▏                                                                 | 47/250 [00:12<00:56,  3.60it/s]"
     ]
    },
    {
     "name": "stdout",
     "output_type": "stream",
     "text": [
      "[step = 40] loss:20669374.31875,r2:0.7712806267185892\n",
      "[step = 50] loss:20395715.0625,r2:0.7790054927064592\n",
      "[step = 60] loss:19481630.664583333,r2:0.7796701945990957\n",
      "[step = 70] loss:23765837.46964286,r2:0.763406679236624\n",
      "[step = 80] loss:25838825.8515625,r2:0.758469413653563\n",
      "[step = 90] loss:24842950.80138889,r2:0.7642228015778525\n",
      "[step = 100] loss:26181496.35625,r2:0.7570835740625842\n",
      "epoch = 47,loss = 25489417.759345796,r2 = 0.7621693315664338,val_loss = 19266786.37962963,val_+r2 = 0.7969641048915224\n",
      "[step = 10] loss:40385569.05,r2:0.7364092746355377\n",
      "[step = 20] loss:34266872.175,r2:0.733028883025767\n",
      "[step = 30] loss:32245970.014583334,r2:0.7194854792665796\n",
      "[step = 40] loss:28040423.728125,r2:0.7468541466498417\n",
      "[step = 50] loss:26119238.3675,r2:0.7507174187036523\n",
      "[step = 60] loss:25249685.25625,r2:0.7478854876152587\n",
      "[step = 70] loss:25742167.5875,r2:0.7486887540038868\n",
      "[step = 80] loss:25045158.7515625,r2:0.7505649174514041\n",
      "[step = 90] loss:25447566.245833334,r2:0.7448338830897858\n",
      "[step = 100] loss:25478234.30625,r2:0.7431882656144185\n"
     ]
    },
    {
     "name": "stderr",
     "output_type": "stream",
     "text": [
      "\r",
      " 19%|███████████████▌                                                                 | 48/250 [00:13<00:56,  3.59it/s]"
     ]
    },
    {
     "name": "stdout",
     "output_type": "stream",
     "text": [
      "epoch = 48,loss = 24787351.24182243,r2 = 0.753406823908014,val_loss = 19614970.467592593,val_+r2 = 0.7596366965429815\n",
      "[step = 10] loss:20226796.525,r2:0.8321069963727888\n",
      "[step = 20] loss:18202333.05,r2:0.7731682384962482\n",
      "[step = 30] loss:22277676.583333332,r2:0.751831277006087\n",
      "[step = 40] loss:28637712.75,r2:0.6700730375391599\n",
      "[step = 50] loss:27322196.685,r2:0.6891836190074336\n",
      "[step = 60] loss:28172723.183333334,r2:0.6912206267123074\n",
      "[step = 70] loss:27528905.007142857,r2:0.6946916474071828\n",
      "[step = 80] loss:27171345.5515625,r2:0.7030570607845548\n"
     ]
    },
    {
     "name": "stderr",
     "output_type": "stream",
     "text": [
      "\r",
      " 20%|███████████████▉                                                                 | 49/250 [00:13<00:55,  3.60it/s]"
     ]
    },
    {
     "name": "stdout",
     "output_type": "stream",
     "text": [
      "[step = 90] loss:26311891.440277778,r2:0.7115143018532631\n",
      "[step = 100] loss:25026853.2125,r2:0.7302447918263296\n",
      "epoch = 49,loss = 24794222.70911215,r2 = 0.7390864368643356,val_loss = 19204772.00462963,val_+r2 = 0.7864382391909428\n",
      "[step = 10] loss:25576820.5,r2:0.695817035817721\n",
      "[step = 20] loss:25773601.51875,r2:0.7049444267712033\n",
      "[step = 30] loss:22515839.458333332,r2:0.7501794987776956\n",
      "[step = 40] loss:20748572.30625,r2:0.7715467226164824\n",
      "[step = 50] loss:19919422.495,r2:0.746861893083354\n",
      "[step = 60] loss:21036541.75,r2:0.7603702728419552\n"
     ]
    },
    {
     "name": "stderr",
     "output_type": "stream",
     "text": [
      "\r",
      " 20%|████████████████▏                                                                | 50/250 [00:13<00:55,  3.59it/s]"
     ]
    },
    {
     "name": "stdout",
     "output_type": "stream",
     "text": [
      "[step = 70] loss:21133639.710714284,r2:0.7762560524856859\n",
      "[step = 80] loss:23392512.565625,r2:0.7555520454253071\n",
      "[step = 90] loss:22285485.908333335,r2:0.7632547213691948\n",
      "[step = 100] loss:24891184.4975,r2:0.7513908809628136\n",
      "epoch = 50,loss = 25295182.93224299,r2 = 0.7335935728022525,val_loss = 19550964.64814815,val_+r2 = 0.7972907113357732\n",
      "[step = 10] loss:24354147.2375,r2:0.7726876156307676\n",
      "[step = 20] loss:19028453.775,r2:0.8260388460992323\n",
      "[step = 30] loss:21701264.2,r2:0.7849482901357833\n",
      "[step = 40] loss:24892452.55625,r2:0.7360074355494389\n"
     ]
    },
    {
     "name": "stderr",
     "output_type": "stream",
     "text": [
      "\r",
      " 20%|████████████████▌                                                                | 51/250 [00:13<00:55,  3.56it/s]"
     ]
    },
    {
     "name": "stdout",
     "output_type": "stream",
     "text": [
      "[step = 50] loss:23507739.245,r2:0.7451003261629924\n",
      "[step = 60] loss:23578072.216666665,r2:0.7575956560098057\n",
      "[step = 70] loss:24322164.714285713,r2:0.7510116988157545\n",
      "[step = 80] loss:23500367.88125,r2:0.7438529109387482\n",
      "[step = 90] loss:24463465.144444443,r2:0.7177419781520223\n",
      "[step = 100] loss:25329394.39625,r2:0.7221754446731444\n",
      "epoch = 51,loss = 25570922.62733645,r2 = 0.7237323843697814,val_loss = 18750520.296296295,val_+r2 = 0.8038925038295103\n",
      "[step = 10] loss:21450794.85,r2:0.760195280013266\n",
      "[step = 20] loss:21499288.85625,r2:0.7788653849550954\n",
      "[step = 30] loss:21851135.654166665,r2:0.7967361567058899\n",
      "[step = 40] loss:19062753.165625,r2:0.820693680252095\n",
      "[step = 50] loss:24199783.9325,r2:0.7867627970350339\n",
      "[step = 60] loss:24822674.94375,r2:0.7684296261576542\n",
      "[step = 70] loss:24364600.480357144,r2:0.7665787501901234\n",
      "[step = 80] loss:26407526.0453125,r2:0.752835125872716\n",
      "[step = 90] loss:25781136.895833332,r2:0.7574653353789438\n",
      "[step = 100] loss:24685959.26,r2:0.7704052347599151\n",
      "epoch = 52,loss = 24567469.177570093,r2 = 0.7722093230530029,val_loss = 18756967.550925925,val_+r2 = 0.8078991775250157\n"
     ]
    },
    {
     "name": "stderr",
     "output_type": "stream",
     "text": [
      "\r",
      " 21%|████████████████▊                                                                | 52/250 [00:14<00:55,  3.57it/s]"
     ]
    },
    {
     "name": "stdout",
     "output_type": "stream",
     "text": [
      "[step = 10] loss:18061567.725,r2:0.8294974793912733\n",
      "[step = 20] loss:19761099.0625,r2:0.837970906063614\n",
      "[step = 30] loss:26932561.933333334,r2:0.7441795558298846\n",
      "[step = 40] loss:26887003.575,r2:0.7248010203374448\n",
      "[step = 50] loss:27725616.97,r2:0.7129995527376594\n",
      "[step = 60] loss:26271009.733333334,r2:0.7314896591243923\n",
      "[step = 70] loss:24223889.53482143,r2:0.755082407247663\n",
      "[step = 80] loss:24543611.14296875,r2:0.7544034773797839\n",
      "[step = 90] loss:24182641.810416665,r2:0.7478722185567438\n"
     ]
    },
    {
     "name": "stderr",
     "output_type": "stream",
     "text": [
      "\r",
      " 21%|█████████████████▏                                                               | 53/250 [00:14<00:55,  3.58it/s]"
     ]
    },
    {
     "name": "stdout",
     "output_type": "stream",
     "text": [
      "[step = 100] loss:25697328.989375,r2:0.7424178726211866\n",
      "epoch = 53,loss = 24763933.00876168,r2 = 0.7422223759321932,val_loss = 20244754.25,val_+r2 = 0.7973418160131573\n",
      "[step = 10] loss:16629932.325,r2:0.8471574917867123\n",
      "[step = 20] loss:20144169.86875,r2:0.8017679657379571\n",
      "[step = 30] loss:22482772.479166668,r2:0.7429222988280425\n",
      "[step = 40] loss:20884808.753125,r2:0.7528254554027695\n",
      "[step = 50] loss:22957082.4625,r2:0.7449259910974995\n",
      "[step = 60] loss:23316561.252083335,r2:0.7327185671548058\n"
     ]
    },
    {
     "name": "stderr",
     "output_type": "stream",
     "text": [
      "\r",
      " 22%|█████████████████▍                                                               | 54/250 [00:14<00:54,  3.59it/s]"
     ]
    },
    {
     "name": "stdout",
     "output_type": "stream",
     "text": [
      "[step = 70] loss:24211832.358928572,r2:0.7314306096561908\n",
      "[step = 80] loss:24454805.396875,r2:0.7301894871817847\n",
      "[step = 90] loss:24323498.969444446,r2:0.7294925751255398\n",
      "[step = 100] loss:24796452.5375,r2:0.7367746233149096\n",
      "epoch = 54,loss = 24588111.66121495,r2 = 0.7398253184267439,val_loss = 18738768.569444444,val_+r2 = 0.8027352346131172\n",
      "[step = 10] loss:18368868.40625,r2:0.8168705263249354\n",
      "[step = 20] loss:19840399.046875,r2:0.7996856705540978\n",
      "[step = 30] loss:21717934.05625,r2:0.8050535124413779\n",
      "[step = 40] loss:22142763.5546875,r2:0.8172559614792169\n"
     ]
    },
    {
     "name": "stderr",
     "output_type": "stream",
     "text": [
      "\r",
      " 22%|█████████████████▊                                                               | 55/250 [00:15<00:54,  3.59it/s]"
     ]
    },
    {
     "name": "stdout",
     "output_type": "stream",
     "text": [
      "[step = 50] loss:24356071.61375,r2:0.7919030335755626\n",
      "[step = 60] loss:27253265.919791665,r2:0.7752330073884661\n",
      "[step = 70] loss:25502558.961607143,r2:0.7820146531006269\n",
      "[step = 80] loss:26616889.28828125,r2:0.7676497012226864\n",
      "[step = 90] loss:26548076.36736111,r2:0.7535744332774655\n",
      "[step = 100] loss:25052766.783125,r2:0.7542612938014546\n",
      "epoch = 55,loss = 24645556.487149533,r2 = 0.7583481866641317,val_loss = 18711165.89814815,val_+r2 = 0.8212819982354063\n",
      "[step = 10] loss:19042918.4,r2:0.7478926134796673\n",
      "[step = 20] loss:21027846.440625,r2:0.7765340784322391\n",
      "[step = 30] loss:24804079.441666666,r2:0.7713103252692544\n",
      "[step = 40] loss:25528043.025,r2:0.7748600315832863\n",
      "[step = 50] loss:24016332.775,r2:0.7896994402160861\n",
      "[step = 60] loss:24319310.391666666,r2:0.7866088465205728\n",
      "[step = 70] loss:24878076.464285713,r2:0.7836465680266117\n",
      "[step = 80] loss:25231816.15,r2:0.7715031856103988\n",
      "[step = 90] loss:23946104.348611113,r2:0.7780382245302309\n",
      "[step = 100] loss:24545137.08125,r2:0.7666624650430418\n"
     ]
    },
    {
     "name": "stderr",
     "output_type": "stream",
     "text": [
      "\r",
      " 22%|██████████████████▏                                                              | 56/250 [00:15<00:54,  3.59it/s]"
     ]
    },
    {
     "name": "stdout",
     "output_type": "stream",
     "text": [
      "epoch = 56,loss = 24522283.314252336,r2 = 0.7717223060883099,val_loss = 20102431.85185185,val_+r2 = 0.8212629095889041\n",
      "[step = 10] loss:28652089.2,r2:0.7802716431121103\n",
      "[step = 20] loss:32536523.8125,r2:0.7183739597716838\n",
      "[step = 30] loss:34034135.275,r2:0.6348112245407722\n",
      "[step = 40] loss:30462728.36875,r2:0.6777821694194233\n",
      "[step = 50] loss:27928171.3875,r2:0.7118115220679424\n",
      "[step = 60] loss:27485725.347916666,r2:0.6999635340827854\n",
      "[step = 70] loss:27785710.007142857,r2:0.6969110905411738\n",
      "[step = 80] loss:27921289.63125,r2:0.6994675589710975\n"
     ]
    },
    {
     "name": "stderr",
     "output_type": "stream",
     "text": [
      "\r",
      " 23%|██████████████████▍                                                              | 57/250 [00:15<00:53,  3.59it/s]"
     ]
    },
    {
     "name": "stdout",
     "output_type": "stream",
     "text": [
      "[step = 90] loss:26277797.502083335,r2:0.7203251155830893\n",
      "[step = 100] loss:25817629.546875,r2:0.72424157195771\n",
      "epoch = 57,loss = 25804796.459696263,r2 = 0.7336357309550738,val_loss = 18850239.60185185,val_+r2 = 0.7700690426485586\n",
      "[step = 10] loss:37011633.2,r2:0.5977197629529367\n",
      "[step = 20] loss:30649515.025,r2:0.6914201534792067\n",
      "[step = 30] loss:27942796.158333335,r2:0.6691488882774552\n",
      "[step = 40] loss:26863266.06875,r2:0.7039532649490374\n",
      "[step = 50] loss:27827298.265,r2:0.70027157754494\n"
     ]
    },
    {
     "name": "stderr",
     "output_type": "stream",
     "text": [
      "\r",
      " 23%|██████████████████▊                                                              | 58/250 [00:15<00:53,  3.59it/s]"
     ]
    },
    {
     "name": "stdout",
     "output_type": "stream",
     "text": [
      "[step = 60] loss:29170259.9,r2:0.678539968887219\n",
      "[step = 70] loss:27317102.492857143,r2:0.707471338944583\n",
      "[step = 80] loss:26880573.79375,r2:0.7132119620379235\n",
      "[step = 90] loss:24794140.568055555,r2:0.7348148166025112\n",
      "[step = 100] loss:25383709.34125,r2:0.7345768475269381\n",
      "epoch = 58,loss = 24584252.07126168,r2 = 0.7422725438833762,val_loss = 19519395.12037037,val_+r2 = 0.7971813538271697\n",
      "[step = 10] loss:22782865.7375,r2:0.8207094930932639\n",
      "[step = 20] loss:30143319.61875,r2:0.7779157005726467\n",
      "[step = 30] loss:27778115.245833334,r2:0.7297048253113076\n",
      "[step = 40] loss:27024923.334375,r2:0.7236824870797872\n",
      "[step = 50] loss:24863980.8975,r2:0.7414547080654771\n",
      "[step = 60] loss:24508389.472916666,r2:0.7383288981754375\n",
      "[step = 70] loss:24758431.7125,r2:0.7441865577411386\n",
      "[step = 80] loss:24631084.4859375,r2:0.7509862485650537\n",
      "[step = 90] loss:25197357.679166667,r2:0.7475250517190626\n",
      "[step = 100] loss:24762404.59625,r2:0.7496551450891772\n"
     ]
    },
    {
     "name": "stderr",
     "output_type": "stream",
     "text": [
      "\r",
      " 24%|███████████████████                                                              | 59/250 [00:16<00:53,  3.60it/s]"
     ]
    },
    {
     "name": "stdout",
     "output_type": "stream",
     "text": [
      "epoch = 59,loss = 25216274.64953271,r2 = 0.746313038912268,val_loss = 20910214.412037037,val_+r2 = 0.7047578660171426\n",
      "[step = 10] loss:33866707.7,r2:0.7932344287846574\n",
      "[step = 20] loss:22826002.05,r2:0.8100955569374703\n",
      "[step = 30] loss:28302680.633333333,r2:0.7768149258618414\n",
      "[step = 40] loss:29710607.8125,r2:0.7257172067910425\n",
      "[step = 50] loss:25972910.4975,r2:0.736011844201608\n",
      "[step = 60] loss:24782938.035416666,r2:0.7556559872925842\n",
      "[step = 70] loss:24276887.59285714,r2:0.7349755167682652\n",
      "[step = 80] loss:25633554.453125,r2:0.7402870961324661\n",
      "[step = 90] loss:25254371.258333333,r2:0.7433921530218225\n"
     ]
    },
    {
     "name": "stderr",
     "output_type": "stream",
     "text": [
      "\r",
      " 24%|███████████████████▍                                                             | 60/250 [00:16<00:52,  3.61it/s]"
     ]
    },
    {
     "name": "stdout",
     "output_type": "stream",
     "text": [
      "[step = 100] loss:24290956.405,r2:0.7569184340340113\n",
      "epoch = 60,loss = 24974260.635514017,r2 = 0.74711784584043,val_loss = 19247001.564814813,val_+r2 = 0.7936802009409488\n",
      "[step = 10] loss:26784714.7,r2:0.7451860485476398\n",
      "[step = 20] loss:19091299.09375,r2:0.8154329582792099\n",
      "[step = 30] loss:19185686.0875,r2:0.8195821198130101\n",
      "[step = 40] loss:21891364.228125,r2:0.7902149422283492\n",
      "[step = 50] loss:21242533.1175,r2:0.7907333732863918\n",
      "[step = 60] loss:21657144.75625,r2:0.7817520703507808\n"
     ]
    },
    {
     "name": "stderr",
     "output_type": "stream",
     "text": [
      "\r",
      " 24%|███████████████████▊                                                             | 61/250 [00:16<00:52,  3.60it/s]"
     ]
    },
    {
     "name": "stdout",
     "output_type": "stream",
     "text": [
      "[step = 70] loss:23408970.483928572,r2:0.756387670377348\n",
      "[step = 80] loss:24438858.5421875,r2:0.7368149266089258\n",
      "[step = 90] loss:23581056.702777777,r2:0.7426100367307028\n",
      "[step = 100] loss:23526198.5275,r2:0.7378094808471785\n",
      "epoch = 61,loss = 24243450.18457944,r2 = 0.7412403989994882,val_loss = 19215183.037037037,val_+r2 = 0.7981466663848904\n",
      "[step = 10] loss:11351617.225,r2:0.8735842046844381\n",
      "[step = 20] loss:19819551.2,r2:0.7836951089281249\n",
      "[step = 30] loss:22563674.475,r2:0.7523382361570389\n",
      "[step = 40] loss:23195926.73125,r2:0.7629318811741685\n"
     ]
    },
    {
     "name": "stderr",
     "output_type": "stream",
     "text": [
      "\r",
      " 25%|████████████████████                                                             | 62/250 [00:16<00:52,  3.60it/s]"
     ]
    },
    {
     "name": "stdout",
     "output_type": "stream",
     "text": [
      "[step = 50] loss:24097562.485,r2:0.7703274250467897\n",
      "[step = 60] loss:24735740.858333334,r2:0.7694849363275292\n",
      "[step = 70] loss:23481205.783928573,r2:0.7738928801928482\n",
      "[step = 80] loss:22154903.6078125,r2:0.7801429067005776\n",
      "[step = 90] loss:22938303.14861111,r2:0.762853088387874\n",
      "[step = 100] loss:23505349.73375,r2:0.7585653640654202\n",
      "epoch = 62,loss = 24711275.382009346,r2 = 0.7472257460333401,val_loss = 20117773.85185185,val_+r2 = 0.7996420277023674\n",
      "[step = 10] loss:21383118.7,r2:0.7044013227000923\n",
      "[step = 20] loss:20702432.4,r2:0.7246651224185758\n"
     ]
    },
    {
     "name": "stderr",
     "output_type": "stream",
     "text": [
      "\r",
      " 25%|████████████████████▍                                                            | 63/250 [00:17<00:52,  3.59it/s]"
     ]
    },
    {
     "name": "stdout",
     "output_type": "stream",
     "text": [
      "[step = 30] loss:20272913.175,r2:0.735552492383315\n",
      "[step = 40] loss:19709338.04375,r2:0.7707692978830287\n",
      "[step = 50] loss:19558836.365,r2:0.7727036392304127\n",
      "[step = 60] loss:21209740.304166667,r2:0.776222237094581\n",
      "[step = 70] loss:21274879.87857143,r2:0.7633176352642587\n",
      "[step = 80] loss:22618345.3859375,r2:0.7621719715599884\n",
      "[step = 90] loss:22490469.00972222,r2:0.7682770488058065\n",
      "[step = 100] loss:24265031.30375,r2:0.7635756277683694\n",
      "epoch = 63,loss = 24933034.751168225,r2 = 0.7514015207870135,val_loss = 29329776.888888888,val_+r2 = 0.6496948815712981\n",
      "[step = 10] loss:29769547.4,r2:0.4958044836979578\n",
      "[step = 20] loss:24858687.0875,r2:0.6177329029817298\n",
      "[step = 30] loss:25316289.979166668,r2:0.6525350614456639\n",
      "[step = 40] loss:22232989.8984375,r2:0.7054573261879455\n",
      "[step = 50] loss:24052948.6025,r2:0.7127659376003563\n",
      "[step = 60] loss:23829929.039583333,r2:0.7283444428253752\n",
      "[step = 70] loss:24777263.2875,r2:0.7165085971572757\n",
      "[step = 80] loss:25234919.6890625,r2:0.7088430200003962\n"
     ]
    },
    {
     "name": "stderr",
     "output_type": "stream",
     "text": [
      "\r",
      " 26%|████████████████████▋                                                            | 64/250 [00:17<00:51,  3.58it/s]"
     ]
    },
    {
     "name": "stdout",
     "output_type": "stream",
     "text": [
      "[step = 90] loss:25259954.194444444,r2:0.7228390516083378\n",
      "[step = 100] loss:25270793.335,r2:0.7078274227727348\n",
      "epoch = 64,loss = 25517682.985981308,r2 = 0.7060344330104199,val_loss = 18690461.810185187,val_+r2 = 0.786683995554983\n",
      "[step = 10] loss:12995016.5875,r2:0.8912457924494379\n",
      "[step = 20] loss:17705722.89375,r2:0.8645727973305604\n",
      "[step = 30] loss:22859981.633333333,r2:0.8051147620474803\n",
      "[step = 40] loss:25444892.25,r2:0.7838286003484354\n",
      "[step = 50] loss:24238606.35,r2:0.7688624518845826\n",
      "[step = 60] loss:22303818.933333334,r2:0.7907387723666341\n"
     ]
    },
    {
     "name": "stderr",
     "output_type": "stream",
     "text": [
      "\r",
      " 26%|█████████████████████                                                            | 65/250 [00:17<00:51,  3.58it/s]"
     ]
    },
    {
     "name": "stdout",
     "output_type": "stream",
     "text": [
      "[step = 70] loss:24013139.4,r2:0.768218491847408\n",
      "[step = 80] loss:24655572.3390625,r2:0.7451370592838791\n",
      "[step = 90] loss:25702339.286111113,r2:0.7400480551977929\n",
      "[step = 100] loss:25981048.0275,r2:0.702107984885361\n",
      "epoch = 65,loss = 25202813.792056076,r2 = 0.7096602651627875,val_loss = 19475073.51851852,val_+r2 = 0.7651328794285872\n",
      "[step = 10] loss:25293494.55,r2:0.7754470024235112\n",
      "[step = 20] loss:28705516.675,r2:0.7661173436217815\n",
      "[step = 30] loss:32427262.158333335,r2:0.6999194556184319\n"
     ]
    },
    {
     "name": "stderr",
     "output_type": "stream",
     "text": [
      "\r",
      " 26%|█████████████████████▍                                                           | 66/250 [00:18<00:51,  3.56it/s]"
     ]
    },
    {
     "name": "stdout",
     "output_type": "stream",
     "text": [
      "[step = 40] loss:30424901.41875,r2:0.7080425311876846\n",
      "[step = 50] loss:28006307.32,r2:0.7346097869812488\n",
      "[step = 60] loss:27063433.385416668,r2:0.7331417704649514\n",
      "[step = 70] loss:27050194.2125,r2:0.7401359695925844\n",
      "[step = 80] loss:27938119.4671875,r2:0.7203481829782421\n",
      "[step = 90] loss:26346838.083333332,r2:0.7326369875247879\n",
      "[step = 100] loss:26195131.4,r2:0.7369024637240968\n",
      "epoch = 66,loss = 25358650.971962616,r2 = 0.7485246217675408,val_loss = 19682059.60648148,val_+r2 = 0.7860462174238734\n",
      "[step = 10] loss:14874840.65,r2:0.8758694966634554\n",
      "[step = 20] loss:18797961.575,r2:0.8259086330322918\n",
      "[step = 30] loss:21908872.575,r2:0.7650203293612788\n",
      "[step = 40] loss:20972124.31875,r2:0.752930530804226\n",
      "[step = 50] loss:21252879.2525,r2:0.7583807818036844\n",
      "[step = 60] loss:22341694.73125,r2:0.7623617305399545\n",
      "[step = 70] loss:22557238.748214286,r2:0.7704504611273578\n",
      "[step = 80] loss:24379925.2296875,r2:0.7747592996191713\n"
     ]
    },
    {
     "name": "stderr",
     "output_type": "stream",
     "text": [
      "\r",
      " 27%|█████████████████████▋                                                           | 67/250 [00:18<00:51,  3.55it/s]"
     ]
    },
    {
     "name": "stdout",
     "output_type": "stream",
     "text": [
      "[step = 90] loss:23839250.234722223,r2:0.777320408492215\n",
      "[step = 100] loss:23145713.678125,r2:0.7847245744425182\n",
      "epoch = 67,loss = 24215685.59170561,r2 = 0.7740145571792932,val_loss = 19578097.75,val_+r2 = 0.775967163530438\n",
      "[step = 10] loss:11268725.9125,r2:0.742155438537043\n",
      "[step = 20] loss:21768165.84375,r2:0.723258699670768\n",
      "[step = 30] loss:23217621.8875,r2:0.7494305126200059\n",
      "[step = 40] loss:26427056.190625,r2:0.7276062381050148\n",
      "[step = 50] loss:25103158.7525,r2:0.7402555585349017\n"
     ]
    },
    {
     "name": "stderr",
     "output_type": "stream",
     "text": [
      "\r",
      " 27%|██████████████████████                                                           | 68/250 [00:18<00:51,  3.54it/s]"
     ]
    },
    {
     "name": "stdout",
     "output_type": "stream",
     "text": [
      "[step = 60] loss:26241134.197916668,r2:0.7160029170034293\n",
      "[step = 70] loss:24096444.180357143,r2:0.7453307986479271\n",
      "[step = 80] loss:23814660.5609375,r2:0.7542359019488599\n",
      "[step = 90] loss:24443219.802083332,r2:0.7472596148449507\n",
      "[step = 100] loss:24586554.605,r2:0.7481706835562217\n",
      "epoch = 68,loss = 24370735.135514017,r2 = 0.7495899389342442,val_loss = 19208655.611111112,val_+r2 = 0.8154835409042888\n",
      "[step = 10] loss:17181158.775,r2:0.7617174110800047\n",
      "[step = 20] loss:20275165.425,r2:0.7692358161445959\n",
      "[step = 30] loss:22264651.75,r2:0.7333261980068302\n"
     ]
    },
    {
     "name": "stderr",
     "output_type": "stream",
     "text": [
      "\r",
      " 28%|██████████████████████▎                                                          | 69/250 [00:18<00:50,  3.55it/s]"
     ]
    },
    {
     "name": "stdout",
     "output_type": "stream",
     "text": [
      "[step = 40] loss:20084403.325,r2:0.7542118722804843\n",
      "[step = 50] loss:23324944.8825,r2:0.7275271314991365\n",
      "[step = 60] loss:24396579.927083332,r2:0.7385911123224501\n",
      "[step = 70] loss:25901582.421428572,r2:0.7176563618357381\n",
      "[step = 80] loss:25593778.53125,r2:0.735863591394528\n",
      "[step = 90] loss:25836122.844444446,r2:0.736360477947367\n",
      "[step = 100] loss:25486447.605,r2:0.7369481361180822\n",
      "epoch = 69,loss = 25250071.01869159,r2 = 0.7372186858502793,val_loss = 19318921.509259257,val_+r2 = 0.7385428463347994\n",
      "[step = 10] loss:29567523.45,r2:0.6723859992171736\n",
      "[step = 20] loss:26385397.2,r2:0.6936843838008051\n",
      "[step = 30] loss:27032662.233333334,r2:0.7416176910020933\n",
      "[step = 40] loss:26861809.90625,r2:0.7542789837524032\n",
      "[step = 50] loss:29497970.24375,r2:0.7189002395240413\n",
      "[step = 60] loss:28394492.728125,r2:0.7327872968366811\n",
      "[step = 70] loss:28639319.595535714,r2:0.7253452947377861\n",
      "[step = 80] loss:27293489.21171875,r2:0.7396209057497762\n",
      "[step = 90] loss:26891335.471527778,r2:0.7245194127479289\n"
     ]
    },
    {
     "name": "stderr",
     "output_type": "stream",
     "text": [
      "\r",
      " 28%|██████████████████████▋                                                          | 70/250 [00:19<00:50,  3.55it/s]"
     ]
    },
    {
     "name": "stdout",
     "output_type": "stream",
     "text": [
      "[step = 100] loss:26122814.889375,r2:0.731033938693004\n",
      "epoch = 70,loss = 25905081.56016355,r2 = 0.7370470915089927,val_loss = 19201198.333333332,val_+r2 = 0.8042970411872512\n",
      "[step = 10] loss:20690795.1,r2:0.7785020174918953\n",
      "[step = 20] loss:20912676.225,r2:0.7661641057611472\n",
      "[step = 30] loss:21498436.6,r2:0.6974080166783426\n",
      "[step = 40] loss:22696419.440625,r2:0.7234456637267449\n",
      "[step = 50] loss:20401431.9975,r2:0.7435155781633638\n",
      "[step = 60] loss:23189200.089583334,r2:0.7355763002157952\n"
     ]
    },
    {
     "name": "stderr",
     "output_type": "stream",
     "text": [
      "\r",
      " 28%|███████████████████████                                                          | 71/250 [00:19<00:50,  3.57it/s]"
     ]
    },
    {
     "name": "stdout",
     "output_type": "stream",
     "text": [
      "[step = 70] loss:22939822.96964286,r2:0.7478139735314975\n",
      "[step = 80] loss:24278071.43203125,r2:0.7471310631219112\n",
      "[step = 90] loss:25570937.284027778,r2:0.7440317641863452\n",
      "[step = 100] loss:24521587.8325,r2:0.7505598817554219\n",
      "epoch = 71,loss = 25656118.0864486,r2 = 0.7468770764226648,val_loss = 21219725.01851852,val_+r2 = 0.7847855528641098\n",
      "[step = 10] loss:22348951.4,r2:0.6726488314362273\n",
      "[step = 20] loss:25717430.79375,r2:0.7293328806103168\n",
      "[step = 30] loss:26336999.295833334,r2:0.742693203601741\n"
     ]
    },
    {
     "name": "stderr",
     "output_type": "stream",
     "text": [
      "\r",
      " 29%|███████████████████████▎                                                         | 72/250 [00:19<00:49,  3.57it/s]"
     ]
    },
    {
     "name": "stdout",
     "output_type": "stream",
     "text": [
      "[step = 40] loss:23924755.759375,r2:0.7386468474227217\n",
      "[step = 50] loss:26728656.2925,r2:0.7319244510663505\n",
      "[step = 60] loss:28328263.113020834,r2:0.729496567674979\n",
      "[step = 70] loss:26736700.846875,r2:0.7385494919895264\n",
      "[step = 80] loss:26186017.862890624,r2:0.7476139068556495\n",
      "[step = 90] loss:26429184.453125,r2:0.7118173056551126\n",
      "[step = 100] loss:26444046.7340625,r2:0.7110585409243371\n",
      "epoch = 72,loss = 25639906.111273363,r2 = 0.7241991130330514,val_loss = 20809850.555555556,val_+r2 = 0.7763810356170725\n",
      "[step = 10] loss:20057687.74375,r2:0.7142610141246886\n",
      "[step = 20] loss:24544874.428125,r2:0.7088150492806883\n",
      "[step = 30] loss:21347893.952083334,r2:0.7487785961285213\n",
      "[step = 40] loss:20808034.0703125,r2:0.7766286821451149\n",
      "[step = 50] loss:22973258.02625,r2:0.7669225616104874\n",
      "[step = 60] loss:23427221.316145834,r2:0.761304316892443\n",
      "[step = 70] loss:24377774.624553572,r2:0.7485800574526211\n",
      "[step = 80] loss:23964270.746484376,r2:0.7573724063164434\n",
      "[step = 90] loss:24878990.302430555,r2:0.7552601716860868\n",
      "[step = 100] loss:24450735.9309375,r2:0.7420775482298767\n"
     ]
    },
    {
     "name": "stderr",
     "output_type": "stream",
     "text": [
      "\r",
      " 29%|███████████████████████▋                                                         | 73/250 [00:20<00:49,  3.56it/s]"
     ]
    },
    {
     "name": "stdout",
     "output_type": "stream",
     "text": [
      "epoch = 73,loss = 25708396.166764017,r2 = 0.7413743818079719,val_loss = 24139888.925925925,val_+r2 = 0.7164310476756462\n",
      "[step = 10] loss:22204909.9,r2:0.4023275514349137\n",
      "[step = 20] loss:32250521.425,r2:0.5422886033957182\n",
      "[step = 30] loss:29127002.316666666,r2:0.6421169879044375\n",
      "[step = 40] loss:28503512.95625,r2:0.6402654104523295\n",
      "[step = 50] loss:27172110.845,r2:0.6737877897943485\n",
      "[step = 60] loss:29197806.620833334,r2:0.6659298244029038\n",
      "[step = 70] loss:26764006.48214286,r2:0.697884402857101\n",
      "[step = 80] loss:26652104.796875,r2:0.7150743219363294\n",
      "[step = 90] loss:26557260.95,r2:0.7299994737825816\n"
     ]
    },
    {
     "name": "stderr",
     "output_type": "stream",
     "text": [
      "\r",
      " 30%|███████████████████████▉                                                         | 74/250 [00:20<00:49,  3.58it/s]"
     ]
    },
    {
     "name": "stdout",
     "output_type": "stream",
     "text": [
      "[step = 100] loss:25868752.0375,r2:0.7227580737604239\n",
      "epoch = 74,loss = 25271165.56542056,r2 = 0.7200395583591729,val_loss = 18960124.72685185,val_+r2 = 0.7901870507744989\n",
      "[step = 10] loss:23637021.9625,r2:0.8496472207903801\n",
      "[step = 20] loss:27696617.43125,r2:0.7669401202354532\n",
      "[step = 30] loss:26123208.420833334,r2:0.7497496958150401\n",
      "[step = 40] loss:26830609.490625,r2:0.7321912536198674\n",
      "[step = 50] loss:27635829.7475,r2:0.7203139328703329\n",
      "[step = 60] loss:25679008.870833334,r2:0.7304065666540595\n",
      "[step = 70] loss:25220319.64642857,r2:0.7065397493281922\n"
     ]
    },
    {
     "name": "stderr",
     "output_type": "stream",
     "text": [
      "\r",
      " 30%|████████████████████████▎                                                        | 75/250 [00:20<00:48,  3.58it/s]"
     ]
    },
    {
     "name": "stdout",
     "output_type": "stream",
     "text": [
      "[step = 80] loss:24773737.853125,r2:0.7086274455014586\n",
      "[step = 90] loss:23926104.593055554,r2:0.7245538352199857\n",
      "[step = 100] loss:23964048.97875,r2:0.7298485230151988\n",
      "epoch = 75,loss = 24158261.25350467,r2 = 0.7271404750166239,val_loss = 19958609.263888888,val_+r2 = 0.7989210204234584\n",
      "[step = 10] loss:24859639.525,r2:0.7578780757217434\n",
      "[step = 20] loss:23531311.2625,r2:0.7166647486861837\n",
      "[step = 30] loss:24271942.583333332,r2:0.759911053831928\n",
      "[step = 40] loss:26130926.93125,r2:0.7632111615345502\n",
      "[step = 50] loss:28453692.705,r2:0.7417978878546176\n"
     ]
    },
    {
     "name": "stderr",
     "output_type": "stream",
     "text": [
      "\r",
      " 30%|████████████████████████▌                                                        | 76/250 [00:20<00:48,  3.58it/s]"
     ]
    },
    {
     "name": "stdout",
     "output_type": "stream",
     "text": [
      "[step = 60] loss:26169301.470833335,r2:0.7520067380637766\n",
      "[step = 70] loss:26595287.692857143,r2:0.7354848447174955\n",
      "[step = 80] loss:24815529.2140625,r2:0.7491560701724537\n",
      "[step = 90] loss:24488795.068055555,r2:0.7445359362360979\n",
      "[step = 100] loss:24605585.47625,r2:0.7529421690347575\n",
      "epoch = 76,loss = 24242081.94042056,r2 = 0.7538769183706202,val_loss = 20218534.02314815,val_+r2 = 0.7989402984054399\n",
      "[step = 10] loss:23542833.1875,r2:0.8218768857446902\n",
      "[step = 20] loss:29596015.41875,r2:0.6832876554931262\n"
     ]
    },
    {
     "name": "stderr",
     "output_type": "stream",
     "text": [
      "\r",
      " 31%|████████████████████████▉                                                        | 77/250 [00:21<00:48,  3.57it/s]"
     ]
    },
    {
     "name": "stdout",
     "output_type": "stream",
     "text": [
      "[step = 30] loss:27423834.6125,r2:0.7100293214401167\n",
      "[step = 40] loss:30042706.509375,r2:0.6932214687423481\n",
      "[step = 50] loss:29321464.4425,r2:0.7018746824738709\n",
      "[step = 60] loss:27642871.066666666,r2:0.7254670370203009\n",
      "[step = 70] loss:27280258.46785714,r2:0.722865493904337\n",
      "[step = 80] loss:26765756.2125,r2:0.7373441356508066\n",
      "[step = 90] loss:26323641.911111113,r2:0.7412481843624115\n",
      "[step = 100] loss:24402685.7371875,r2:0.757084267233606\n",
      "epoch = 77,loss = 24917411.059287384,r2 = 0.7521920246640114,val_loss = 19731927.833333332,val_+r2 = 0.7714502887879623\n",
      "[step = 10] loss:33392566.325,r2:0.7989829634136963\n",
      "[step = 20] loss:30026075.2125,r2:0.7702254444133121\n",
      "[step = 30] loss:28251254.241666667,r2:0.7897211435565371\n",
      "[step = 40] loss:25688791.33125,r2:0.7308421994772127\n",
      "[step = 50] loss:24657773.965,r2:0.7382651200182069\n",
      "[step = 60] loss:23826498.758333333,r2:0.7595466316338396\n",
      "[step = 70] loss:23659357.910714287,r2:0.7600932509299174\n",
      "[step = 80] loss:22667358.91484375,r2:0.7728343228629153\n",
      "[step = 90] loss:23770388.81875,r2:0.766873138574114\n"
     ]
    },
    {
     "name": "stderr",
     "output_type": "stream",
     "text": [
      "\r",
      " 31%|█████████████████████████▎                                                       | 78/250 [00:21<00:48,  3.58it/s]"
     ]
    },
    {
     "name": "stdout",
     "output_type": "stream",
     "text": [
      "[step = 100] loss:24758298.960625,r2:0.7401702778597027\n",
      "epoch = 78,loss = 24672999.928154204,r2 = 0.7443852760949504,val_loss = 20087183.740740743,val_+r2 = 0.754426723715184\n",
      "[step = 10] loss:32790621.45,r2:0.8055499927716572\n",
      "[step = 20] loss:27343278.0625,r2:0.7491995350196263\n",
      "[step = 30] loss:27090622.758333333,r2:0.719235353369779\n",
      "[step = 40] loss:27286944.31875,r2:0.7308160246619628\n",
      "[step = 50] loss:27672029.25,r2:0.7239307110526494\n",
      "[step = 60] loss:27967417.266666666,r2:0.7019965111235675\n"
     ]
    },
    {
     "name": "stderr",
     "output_type": "stream",
     "text": [
      "\r",
      " 32%|█████████████████████████▌                                                       | 79/250 [00:21<00:47,  3.58it/s]"
     ]
    },
    {
     "name": "stdout",
     "output_type": "stream",
     "text": [
      "[step = 70] loss:27796371.226785716,r2:0.7146640895622937\n",
      "[step = 80] loss:26898777.9078125,r2:0.7078159317955299\n",
      "[step = 90] loss:27665899.318055555,r2:0.7097534099538041\n",
      "[step = 100] loss:25828751.739375,r2:0.7193682802556238\n",
      "epoch = 79,loss = 25253941.041471962,r2 = 0.7182275947419463,val_loss = 19571965.89351852,val_+r2 = 0.815768754491954\n",
      "[step = 10] loss:29871944.375,r2:0.6180333056066111\n",
      "[step = 20] loss:24228530.5625,r2:0.663403733321345\n",
      "[step = 30] loss:24637180.183333334,r2:0.6702692086383575\n"
     ]
    },
    {
     "name": "stderr",
     "output_type": "stream",
     "text": [
      "\r",
      " 32%|█████████████████████████▉                                                       | 80/250 [00:22<00:47,  3.57it/s]"
     ]
    },
    {
     "name": "stdout",
     "output_type": "stream",
     "text": [
      "[step = 40] loss:21965578.2125,r2:0.7286427138441491\n",
      "[step = 50] loss:25513840.13,r2:0.6825443066274708\n",
      "[step = 60] loss:24411102.0125,r2:0.6961914192985614\n",
      "[step = 70] loss:26207349.376785714,r2:0.6972311446873198\n",
      "[step = 80] loss:25997941.0859375,r2:0.7125496555997588\n",
      "[step = 90] loss:25179916.981944446,r2:0.7201452916721144\n",
      "[step = 100] loss:25199660.855,r2:0.7268085818136447\n",
      "epoch = 80,loss = 24339216.074766356,r2 = 0.736655797594576,val_loss = 19435478.162037037,val_+r2 = 0.7922264531443786\n",
      "[step = 10] loss:38424740.9,r2:0.678437520690147\n",
      "[step = 20] loss:34211931.5625,r2:0.674306025533796\n",
      "[step = 30] loss:29672683.108333334,r2:0.7405832339562411\n",
      "[step = 40] loss:28756968.875,r2:0.748325668329562\n",
      "[step = 50] loss:25555409.5125,r2:0.7461965836728255\n",
      "[step = 60] loss:23683753.10625,r2:0.769438589455138\n",
      "[step = 70] loss:23594839.475,r2:0.7590229500693575\n",
      "[step = 80] loss:23697217.284375,r2:0.7420439701424693\n",
      "[step = 90] loss:23751368.597222224,r2:0.7529896132645362\n"
     ]
    },
    {
     "name": "stderr",
     "output_type": "stream",
     "text": [
      "\r",
      " 32%|██████████████████████████▏                                                      | 81/250 [00:22<00:47,  3.57it/s]"
     ]
    },
    {
     "name": "stdout",
     "output_type": "stream",
     "text": [
      "[step = 100] loss:24146418.0175,r2:0.7485417727775211\n",
      "epoch = 81,loss = 23733033.783878505,r2 = 0.7546450744467961,val_loss = 19377199.083333332,val_+r2 = 0.8063732469619266\n",
      "[step = 10] loss:27234831.075,r2:0.6594410523116234\n",
      "[step = 20] loss:26591951.046875,r2:0.7674842972516427\n",
      "[step = 30] loss:27004990.389583334,r2:0.7344550443111522\n",
      "[step = 40] loss:27194962.1921875,r2:0.7386995505844834\n",
      "[step = 50] loss:24444240.96375,r2:0.7504262471080453\n",
      "[step = 60] loss:23228816.029166665,r2:0.7657786794211706\n",
      "[step = 70] loss:23250899.21785714,r2:0.7534890009189343\n"
     ]
    },
    {
     "name": "stderr",
     "output_type": "stream",
     "text": [
      "\r",
      " 33%|██████████████████████████▌                                                      | 82/250 [00:22<00:47,  3.57it/s]"
     ]
    },
    {
     "name": "stdout",
     "output_type": "stream",
     "text": [
      "[step = 80] loss:23335638.9625,r2:0.7671508542201965\n",
      "[step = 90] loss:23013959.652777776,r2:0.7659892787694708\n",
      "[step = 100] loss:23085888.22,r2:0.7630840894625891\n",
      "epoch = 82,loss = 23753870.733644858,r2 = 0.7526100565124815,val_loss = 18963511.074074075,val_+r2 = 0.7923898617579077\n",
      "[step = 10] loss:20557112.525,r2:0.7782716982914624\n",
      "[step = 20] loss:22270447.3625,r2:0.7695352817473732\n",
      "[step = 30] loss:20554295.466666665,r2:0.7846426842206993\n",
      "[step = 40] loss:21676981.4625,r2:0.7797633146579622\n",
      "[step = 50] loss:21383765.51,r2:0.7772653621134714\n"
     ]
    },
    {
     "name": "stderr",
     "output_type": "stream",
     "text": [
      "\r",
      " 33%|██████████████████████████▉                                                      | 83/250 [00:22<00:46,  3.57it/s]"
     ]
    },
    {
     "name": "stdout",
     "output_type": "stream",
     "text": [
      "[step = 60] loss:21069584.847916666,r2:0.7901517015451639\n",
      "[step = 70] loss:20716002.951785713,r2:0.7939494387036937\n",
      "[step = 80] loss:23378078.7875,r2:0.7739373894842616\n",
      "[step = 90] loss:24134369.566666666,r2:0.7616498592884456\n",
      "[step = 100] loss:25138742.61,r2:0.7627984448052767\n",
      "epoch = 83,loss = 24886685.397196263,r2 = 0.7599073630589778,val_loss = 19555858.564814813,val_+r2 = 0.7975773151129153\n",
      "[step = 10] loss:31368805.6,r2:0.6681074043356487\n",
      "[step = 20] loss:23561407.865625,r2:0.7220365601813341\n",
      "[step = 30] loss:21765401.066666666,r2:0.751641264499112\n"
     ]
    },
    {
     "name": "stderr",
     "output_type": "stream",
     "text": [
      "\r",
      " 34%|███████████████████████████▏                                                     | 84/250 [00:23<00:46,  3.57it/s]"
     ]
    },
    {
     "name": "stdout",
     "output_type": "stream",
     "text": [
      "[step = 40] loss:25110669.3,r2:0.7173906147278044\n",
      "[step = 50] loss:23974966.58,r2:0.7407053837601222\n",
      "[step = 60] loss:26670560.15,r2:0.7185779809715896\n",
      "[step = 70] loss:25663767.257142857,r2:0.7339598461859179\n",
      "[step = 80] loss:24290809.95,r2:0.7490592590309809\n",
      "[step = 90] loss:24518012.05,r2:0.7570956130731676\n",
      "[step = 100] loss:25352656.275,r2:0.7415902527278295\n",
      "epoch = 84,loss = 24595532.78621495,r2 = 0.7468448143609723,val_loss = 19686033.333333332,val_+r2 = 0.8068229636736249\n",
      "[step = 10] loss:22730363.45,r2:0.7274235993751865\n",
      "[step = 20] loss:19950264.2375,r2:0.7571765803188154\n",
      "[step = 30] loss:23690273.604166668,r2:0.744242710393936\n",
      "[step = 40] loss:28856205.403125,r2:0.7014651194048022\n",
      "[step = 50] loss:27847816.805,r2:0.7112462485878994\n",
      "[step = 60] loss:28034918.520833332,r2:0.7251246387605897\n",
      "[step = 70] loss:27892763.042857144,r2:0.7333455941537754\n",
      "[step = 80] loss:26758570.23125,r2:0.7310510072706088\n",
      "[step = 90] loss:26113951.058333334,r2:0.7377922165314987\n",
      "[step = 100] loss:25342704.04,r2:0.7401179612269067\n"
     ]
    },
    {
     "name": "stderr",
     "output_type": "stream",
     "text": [
      "\r",
      " 34%|███████████████████████████▌                                                     | 85/250 [00:23<00:46,  3.55it/s]"
     ]
    },
    {
     "name": "stdout",
     "output_type": "stream",
     "text": [
      "epoch = 85,loss = 24426785.59813084,r2 = 0.7455349044035013,val_loss = 19938338.217592593,val_+r2 = 0.7591100773639254\n",
      "[step = 10] loss:37014159.85,r2:0.6990302544286573\n",
      "[step = 20] loss:24980521.29375,r2:0.7511670836129728\n",
      "[step = 30] loss:22815059.3375,r2:0.7871836199464013\n",
      "[step = 40] loss:23098519.234375,r2:0.7896175561839388\n",
      "[step = 50] loss:23893923.4975,r2:0.7308896778183821\n",
      "[step = 60] loss:25132405.135416668,r2:0.7308572632222794\n",
      "[step = 70] loss:24519104.323214285,r2:0.737427634017059\n",
      "[step = 80] loss:24947423.2046875,r2:0.7297943450862755\n"
     ]
    },
    {
     "name": "stderr",
     "output_type": "stream",
     "text": [
      "\r",
      " 34%|███████████████████████████▊                                                     | 86/250 [00:23<00:46,  3.53it/s]"
     ]
    },
    {
     "name": "stdout",
     "output_type": "stream",
     "text": [
      "[step = 90] loss:24917059.034722224,r2:0.7241215767390395\n",
      "[step = 100] loss:23985436.85125,r2:0.7340848287347831\n",
      "epoch = 86,loss = 23840304.62733645,r2 = 0.7201072941774228,val_loss = 19361480.453703705,val_+r2 = 0.7875022141657326\n",
      "[step = 10] loss:25873041.05,r2:0.6902983588301013\n",
      "[step = 20] loss:26909189.05,r2:0.6951045598693322\n",
      "[step = 30] loss:24007023.554166667,r2:0.7087280518541206\n",
      "[step = 40] loss:23363327.71875,r2:0.6956910147422875\n",
      "[step = 50] loss:25147736.975,r2:0.7188344786046426\n",
      "[step = 60] loss:23730353.441666666,r2:0.7309674701969421\n"
     ]
    },
    {
     "name": "stderr",
     "output_type": "stream",
     "text": [
      "\r",
      " 35%|████████████████████████████▏                                                    | 87/250 [00:23<00:45,  3.54it/s]"
     ]
    },
    {
     "name": "stdout",
     "output_type": "stream",
     "text": [
      "[step = 70] loss:25406914.673214287,r2:0.7299068903592774\n",
      "[step = 80] loss:24249486.7515625,r2:0.7336766058960482\n",
      "[step = 90] loss:23732434.088194445,r2:0.7308465422525907\n",
      "[step = 100] loss:23251607.92,r2:0.7392636377840129\n",
      "epoch = 87,loss = 24084375.6635514,r2 = 0.7245286979930751,val_loss = 19012503.76851852,val_+r2 = 0.823347985600546\n",
      "[step = 10] loss:11946664.875,r2:0.7486466689302149\n",
      "[step = 20] loss:15436426.0625,r2:0.7550958716117613\n",
      "[step = 30] loss:20501018.466666665,r2:0.7110598972650257\n"
     ]
    },
    {
     "name": "stderr",
     "output_type": "stream",
     "text": [
      "\r",
      " 35%|████████████████████████████▌                                                    | 88/250 [00:24<00:46,  3.52it/s]"
     ]
    },
    {
     "name": "stdout",
     "output_type": "stream",
     "text": [
      "[step = 40] loss:22761562.15,r2:0.7214561695735069\n",
      "[step = 50] loss:25120464.22,r2:0.7133137047280418\n",
      "[step = 60] loss:24624888.291666668,r2:0.7194973291583208\n",
      "[step = 70] loss:23518238.807142857,r2:0.7384960412232652\n",
      "[step = 80] loss:22662616.31015625,r2:0.7450418398720771\n",
      "[step = 90] loss:23561344.186805554,r2:0.7409322805187558\n",
      "[step = 100] loss:23247806.663125,r2:0.723542978233222\n",
      "epoch = 88,loss = 23837171.914135516,r2 = 0.7313439203128924,val_loss = 21139617.472222224,val_+r2 = 0.797928078371062\n",
      "[step = 10] loss:19512321.35,r2:0.8585375847129196\n",
      "[step = 20] loss:25500926.915625,r2:0.80441250146195\n",
      "[step = 30] loss:23316682.889583334,r2:0.8165793279984068\n",
      "[step = 40] loss:25891056.0921875,r2:0.7568273239493626\n",
      "[step = 50] loss:26333536.92875,r2:0.756626715794308\n",
      "[step = 60] loss:23984224.053125,r2:0.7747813878923974\n",
      "[step = 70] loss:23071857.87857143,r2:0.7886583015919418\n",
      "[step = 80] loss:22664445.06875,r2:0.7844485296262781\n"
     ]
    },
    {
     "name": "stderr",
     "output_type": "stream",
     "text": [
      "\r",
      " 36%|████████████████████████████▊                                                    | 89/250 [00:24<00:46,  3.44it/s]"
     ]
    },
    {
     "name": "stdout",
     "output_type": "stream",
     "text": [
      "[step = 90] loss:23569553.577777777,r2:0.7781046674615488\n",
      "[step = 100] loss:24646643.31,r2:0.7781990945380228\n",
      "epoch = 89,loss = 24639969.177570093,r2 = 0.7771084425490694,val_loss = 25188593.555555556,val_+r2 = 0.6930611240671686\n",
      "[step = 10] loss:28192822.5,r2:0.7613972435031345\n",
      "[step = 20] loss:26242881.675,r2:0.7720256680128423\n",
      "[step = 30] loss:24936126.233333334,r2:0.7824151810389118\n",
      "[step = 40] loss:23891814.628125,r2:0.7926437019714752\n"
     ]
    },
    {
     "name": "stderr",
     "output_type": "stream",
     "text": [
      "\r",
      " 36%|█████████████████████████████▏                                                   | 90/250 [00:24<00:46,  3.41it/s]"
     ]
    },
    {
     "name": "stdout",
     "output_type": "stream",
     "text": [
      "[step = 50] loss:25383309.9525,r2:0.75963860177014\n",
      "[step = 60] loss:24941287.14375,r2:0.7667819233054926\n",
      "[step = 70] loss:24316917.694642857,r2:0.76718266112486\n",
      "[step = 80] loss:24473400.4765625,r2:0.7667822809677995\n",
      "[step = 90] loss:23590921.58472222,r2:0.7731660819362935\n",
      "[step = 100] loss:22937325.9,r2:0.7779512922114347\n",
      "epoch = 90,loss = 23584432.799065422,r2 = 0.7788271190422518,val_loss = 25336211.62962963,val_+r2 = 0.7128541924504994\n",
      "[step = 10] loss:30762272.95,r2:0.6414889191095463\n",
      "[step = 20] loss:29186859.025,r2:0.6902128442610977\n",
      "[step = 30] loss:25723941.383333333,r2:0.7410828217087784\n",
      "[step = 40] loss:27755636.7,r2:0.7249264484535123\n",
      "[step = 50] loss:25280387.285,r2:0.7415803731149766\n",
      "[step = 60] loss:24050590.9375,r2:0.7566412668903552\n",
      "[step = 70] loss:23862907.778571427,r2:0.7594753131701667\n",
      "[step = 80] loss:22964335.459375,r2:0.763321481438713\n",
      "[step = 90] loss:23727563.8625,r2:0.7459336728217816\n",
      "[step = 100] loss:25026936.655,r2:0.7427802050334911\n"
     ]
    },
    {
     "name": "stderr",
     "output_type": "stream",
     "text": [
      "\r",
      " 36%|█████████████████████████████▍                                                   | 91/250 [00:25<00:46,  3.40it/s]"
     ]
    },
    {
     "name": "stdout",
     "output_type": "stream",
     "text": [
      "epoch = 91,loss = 24928263.228971962,r2 = 0.7317753796410955,val_loss = 18880161.458333332,val_+r2 = 0.7697342652666856\n",
      "[step = 10] loss:23460308.7,r2:0.8116711729839172\n",
      "[step = 20] loss:16657723.7125,r2:0.8291831399532242\n",
      "[step = 30] loss:19196443.283333335,r2:0.8018293612872025\n",
      "[step = 40] loss:19010073.7375,r2:0.7728831707461223\n",
      "[step = 50] loss:23817357.555,r2:0.7192144246039576\n",
      "[step = 60] loss:22699653.779166665,r2:0.7336896320197944\n",
      "[step = 70] loss:22938584.441964287,r2:0.7374884932678383\n",
      "[step = 80] loss:23530985.61796875,r2:0.7451269004723533\n"
     ]
    },
    {
     "name": "stderr",
     "output_type": "stream",
     "text": [
      "\r",
      " 37%|█████████████████████████████▊                                                   | 92/250 [00:25<00:46,  3.40it/s]"
     ]
    },
    {
     "name": "stdout",
     "output_type": "stream",
     "text": [
      "[step = 90] loss:23692605.004861113,r2:0.7393819826468435\n",
      "[step = 100] loss:23601050.861875,r2:0.7506940684823361\n",
      "epoch = 92,loss = 23534038.849883176,r2 = 0.7517909917424631,val_loss = 19577561.203703705,val_+r2 = 0.7827437178083878\n",
      "[step = 10] loss:16363632.35,r2:0.7308011873608629\n",
      "[step = 20] loss:17142124.76875,r2:0.750964648870876\n",
      "[step = 30] loss:18729776.666666668,r2:0.763989907090842\n",
      "[step = 40] loss:19766524.35625,r2:0.7430869755948638\n",
      "[step = 50] loss:22369893.715,r2:0.7358943373187263\n",
      "[step = 60] loss:21188950.7625,r2:0.751067754549683\n"
     ]
    },
    {
     "name": "stderr",
     "output_type": "stream",
     "text": [
      "\r",
      " 37%|██████████████████████████████▏                                                  | 93/250 [00:25<00:45,  3.43it/s]"
     ]
    },
    {
     "name": "stdout",
     "output_type": "stream",
     "text": [
      "[step = 70] loss:23518563.725,r2:0.7544072695315235\n",
      "[step = 80] loss:24452757.684375,r2:0.7520845579713782\n",
      "[step = 90] loss:24700893.545833334,r2:0.7478303522160278\n",
      "[step = 100] loss:24386362.02625,r2:0.7486631854409123\n",
      "epoch = 93,loss = 24502873.804906543,r2 = 0.7488352317691234,val_loss = 19342081.921296295,val_+r2 = 0.7912840894407466\n",
      "[step = 10] loss:17790279.425,r2:0.7300819900079645\n",
      "[step = 20] loss:19722332.65,r2:0.750961529862485\n",
      "[step = 30] loss:19354455.125,r2:0.7690154475074672\n"
     ]
    },
    {
     "name": "stderr",
     "output_type": "stream",
     "text": [
      "\r",
      " 38%|██████████████████████████████▍                                                  | 94/250 [00:26<00:46,  3.39it/s]"
     ]
    },
    {
     "name": "stdout",
     "output_type": "stream",
     "text": [
      "[step = 40] loss:17265376.478125,r2:0.7858515692152629\n",
      "[step = 50] loss:21644610.2825,r2:0.7732246396167604\n",
      "[step = 60] loss:23091945.214583334,r2:0.7739510641759229\n",
      "[step = 70] loss:25046945.369642857,r2:0.7353656603093863\n",
      "[step = 80] loss:25151970.7390625,r2:0.7385575357207461\n",
      "[step = 90] loss:25452832.306944445,r2:0.7318331106054932\n",
      "[step = 100] loss:24995711.29,r2:0.7394506230911974\n",
      "epoch = 94,loss = 24911707.791471962,r2 = 0.7456617036892333,val_loss = 19022950.02314815,val_+r2 = 0.7599616480068195\n",
      "[step = 10] loss:26069382.475,r2:0.7998609633946551\n",
      "[step = 20] loss:23331925.728125,r2:0.7154370260123023\n",
      "[step = 30] loss:25359757.902083334,r2:0.7316033691432042\n",
      "[step = 40] loss:25234258.6515625,r2:0.7353793541908661\n",
      "[step = 50] loss:23759703.70125,r2:0.7324908631120326\n",
      "[step = 60] loss:23055793.548958335,r2:0.7453839061872606\n",
      "[step = 70] loss:22103080.716964286,r2:0.7477030666113543\n",
      "[step = 80] loss:24677835.02734375,r2:0.7254302163532342\n"
     ]
    },
    {
     "name": "stderr",
     "output_type": "stream",
     "text": [
      "\r",
      " 38%|██████████████████████████████▊                                                  | 95/250 [00:26<00:46,  3.36it/s]"
     ]
    },
    {
     "name": "stdout",
     "output_type": "stream",
     "text": [
      "[step = 90] loss:24489952.027083334,r2:0.7316556729514215\n",
      "[step = 100] loss:24452959.474375,r2:0.7278211253136607\n",
      "epoch = 95,loss = 24142770.01109813,r2 = 0.7293376571577178,val_loss = 20202746.611111112,val_+r2 = 0.7354540802847063\n",
      "[step = 10] loss:29655561.275,r2:0.7665189416478816\n",
      "[step = 20] loss:28063790.0875,r2:0.7681783422764569\n",
      "[step = 30] loss:26484935.625,r2:0.7653231737761848\n",
      "[step = 40] loss:23740563.40625,r2:0.7767906984774184\n",
      "[step = 50] loss:25420559.195,r2:0.7749449866440635\n"
     ]
    },
    {
     "name": "stderr",
     "output_type": "stream",
     "text": [
      "\r",
      " 38%|███████████████████████████████                                                  | 96/250 [00:26<00:45,  3.36it/s]"
     ]
    },
    {
     "name": "stdout",
     "output_type": "stream",
     "text": [
      "[step = 60] loss:24979359.4625,r2:0.7756890292597443\n",
      "[step = 70] loss:24825278.692857143,r2:0.7792291020754137\n",
      "[step = 80] loss:25389123.0,r2:0.755772422778086\n",
      "[step = 90] loss:24833514.25,r2:0.7565882166828254\n",
      "[step = 100] loss:24835547.56,r2:0.7626340003790901\n",
      "epoch = 96,loss = 24201930.03504673,r2 = 0.7636105401792918,val_loss = 18985805.444444444,val_+r2 = 0.7801112447421403\n",
      "[step = 10] loss:32327098.325,r2:0.6071529136793377\n",
      "[step = 20] loss:27883641.6125,r2:0.7282834093855517\n",
      "[step = 30] loss:30733597.341666665,r2:0.6663014509807527\n",
      "[step = 40] loss:28626762.7125,r2:0.6692952456798701\n",
      "[step = 50] loss:26702523.02,r2:0.6887222285570064\n",
      "[step = 60] loss:24518668.008333333,r2:0.7055561473453327\n",
      "[step = 70] loss:23997595.04107143,r2:0.7160083277189784\n",
      "[step = 80] loss:25234118.7671875,r2:0.7184957224348055\n",
      "[step = 90] loss:24915255.12361111,r2:0.7103879370053112\n",
      "[step = 100] loss:24005702.0925,r2:0.7164730073997186\n"
     ]
    },
    {
     "name": "stderr",
     "output_type": "stream",
     "text": [
      "\r",
      " 39%|███████████████████████████████▍                                                 | 97/250 [00:26<00:45,  3.34it/s]"
     ]
    },
    {
     "name": "stdout",
     "output_type": "stream",
     "text": [
      "epoch = 97,loss = 23990212.96728972,r2 = 0.7221390251806267,val_loss = 18883757.532407407,val_+r2 = 0.820406175855049\n",
      "[step = 10] loss:21800599.18125,r2:0.7927085636506863\n",
      "[step = 20] loss:19255255.490625,r2:0.756961686468473\n",
      "[step = 30] loss:31114954.39375,r2:0.6354071021223275\n",
      "[step = 40] loss:31158831.7953125,r2:0.6563988043064692\n",
      "[step = 50] loss:29287278.59125,r2:0.6862410664357006\n",
      "[step = 60] loss:28136354.171875,r2:0.6896950971049126\n",
      "[step = 70] loss:27037338.024107143,r2:0.7052043338012639\n",
      "[step = 80] loss:26426223.09296875,r2:0.7182077230648981\n"
     ]
    },
    {
     "name": "stderr",
     "output_type": "stream",
     "text": [
      "\r",
      " 39%|███████████████████████████████▊                                                 | 98/250 [00:27<00:45,  3.35it/s]"
     ]
    },
    {
     "name": "stdout",
     "output_type": "stream",
     "text": [
      "[step = 90] loss:25274470.199305557,r2:0.7313692038495633\n",
      "[step = 100] loss:24317031.890625,r2:0.7208436970207273\n",
      "epoch = 98,loss = 23496091.56016355,r2 = 0.7320018703213547,val_loss = 19741776.125,val_+r2 = 0.7512719589962238\n",
      "[step = 10] loss:37241050.925,r2:0.717643250701488\n",
      "[step = 20] loss:26329357.45,r2:0.7648398367886671\n",
      "[step = 30] loss:22984167.475,r2:0.7845252282765975\n",
      "[step = 40] loss:25737311.13125,r2:0.7581833064543517\n",
      "[step = 50] loss:25979740.37,r2:0.7638929411765953\n"
     ]
    },
    {
     "name": "stderr",
     "output_type": "stream",
     "text": [
      "\r",
      " 40%|████████████████████████████████                                                 | 99/250 [00:27<00:44,  3.36it/s]"
     ]
    },
    {
     "name": "stdout",
     "output_type": "stream",
     "text": [
      "[step = 60] loss:25486118.19375,r2:0.7763531440932726\n",
      "[step = 70] loss:24103471.908928573,r2:0.7846129103064671\n",
      "[step = 80] loss:23951763.3109375,r2:0.7795953914668543\n",
      "[step = 90] loss:23659062.381944444,r2:0.7660121044487481\n",
      "[step = 100] loss:24219849.50125,r2:0.7716593395315283\n",
      "epoch = 99,loss = 24301465.25817757,r2 = 0.7658381565018273,val_loss = 22853003.490740743,val_+r2 = 0.7953594987347392\n",
      "[step = 10] loss:23523185.1375,r2:0.7540462997101345\n",
      "[step = 20] loss:28688693.61875,r2:0.740345152575553\n",
      "[step = 30] loss:23933232.379166666,r2:0.7792126366788533\n",
      "[step = 40] loss:28607506.390625,r2:0.7593290080792252\n",
      "[step = 50] loss:26663913.8075,r2:0.7730861624823868\n",
      "[step = 60] loss:26354693.152083334,r2:0.7543713077803171\n",
      "[step = 70] loss:26180592.644642856,r2:0.753329484679998\n",
      "[step = 80] loss:26831524.2453125,r2:0.7311346834406413\n",
      "[step = 90] loss:25316054.12638889,r2:0.7457730745381631\n",
      "[step = 100] loss:24548389.87375,r2:0.7531126339451133\n"
     ]
    },
    {
     "name": "stderr",
     "output_type": "stream",
     "text": [
      "\r",
      " 40%|████████████████████████████████                                                | 100/250 [00:27<00:44,  3.36it/s]"
     ]
    },
    {
     "name": "stdout",
     "output_type": "stream",
     "text": [
      "epoch = 100,loss = 24194691.77920561,r2 = 0.7470853948544901,val_loss = 18996342.402777776,val_+r2 = 0.7816266082892952\n",
      "[step = 10] loss:22122080.375,r2:0.7853679940038869\n",
      "[step = 20] loss:26475839.8625,r2:0.7865431072125977\n",
      "[step = 30] loss:22135097.775,r2:0.8151881468256892\n",
      "[step = 40] loss:21539844.3625,r2:0.7927279648215895\n",
      "[step = 50] loss:24820867.72,r2:0.7681382987538281\n",
      "[step = 60] loss:26236951.879166666,r2:0.7523580956954703\n",
      "[step = 70] loss:26230078.960714284,r2:0.7432255484982195\n",
      "[step = 80] loss:25484221.14375,r2:0.738445312730657\n"
     ]
    },
    {
     "name": "stderr",
     "output_type": "stream",
     "text": [
      "\r",
      " 40%|████████████████████████████████▎                                               | 101/250 [00:28<00:44,  3.36it/s]"
     ]
    },
    {
     "name": "stdout",
     "output_type": "stream",
     "text": [
      "[step = 90] loss:24902459.44722222,r2:0.7472187691617058\n",
      "[step = 100] loss:24357555.935,r2:0.747942457938178\n",
      "epoch = 101,loss = 24299727.808411215,r2 = 0.7455496197761976,val_loss = 19194093.083333332,val_+r2 = 0.8204781061557056\n",
      "[step = 10] loss:31952636.85,r2:0.7971669134115943\n",
      "[step = 20] loss:32574245.75,r2:0.6617891627863737\n",
      "[step = 30] loss:31713873.691666666,r2:0.6979666096396159\n",
      "[step = 40] loss:29048523.04375,r2:0.7180570286435863\n"
     ]
    },
    {
     "name": "stderr",
     "output_type": "stream",
     "text": [
      "\r",
      " 41%|████████████████████████████████▋                                               | 102/250 [00:28<00:44,  3.35it/s]"
     ]
    },
    {
     "name": "stdout",
     "output_type": "stream",
     "text": [
      "[step = 50] loss:25866910.28625,r2:0.7362482170037302\n",
      "[step = 60] loss:25313926.389583334,r2:0.7422680395738793\n",
      "[step = 70] loss:24313773.766071428,r2:0.7492920901600387\n",
      "[step = 80] loss:23110981.7046875,r2:0.7581044736368104\n",
      "[step = 90] loss:23519486.45972222,r2:0.7627304447652913\n",
      "[step = 100] loss:24069450.47375,r2:0.7575781685971238\n",
      "epoch = 102,loss = 23879330.919392522,r2 = 0.7548365970299454,val_loss = 20303916.759259257,val_+r2 = 0.8369556349433579\n",
      "[step = 10] loss:22089930.325,r2:0.8159858783512449\n",
      "[step = 20] loss:19322804.7125,r2:0.8531270280616698\n",
      "[step = 30] loss:23444537.95,r2:0.7703368021950282\n",
      "[step = 40] loss:20851521.94375,r2:0.7798414016787051\n",
      "[step = 50] loss:21018280.4275,r2:0.7804897289556054\n",
      "[step = 60] loss:20055969.867708333,r2:0.7900706051798106\n",
      "[step = 70] loss:23383086.49017857,r2:0.7793342957263377\n",
      "[step = 80] loss:23641052.01015625,r2:0.7659838557875491\n",
      "[step = 90] loss:23467127.822916668,r2:0.7687206291685893\n",
      "[step = 100] loss:24226512.970625,r2:0.7748821768809911\n"
     ]
    },
    {
     "name": "stderr",
     "output_type": "stream",
     "text": [
      "\r",
      " 41%|████████████████████████████████▉                                               | 103/250 [00:28<00:43,  3.36it/s]"
     ]
    },
    {
     "name": "stdout",
     "output_type": "stream",
     "text": [
      "epoch = 103,loss = 25174153.215537384,r2 = 0.7652819311676861,val_loss = 19923470.51851852,val_+r2 = 0.771358574584787\n",
      "[step = 10] loss:25672871.625,r2:0.7031815516457269\n",
      "[step = 20] loss:25220396.3125,r2:0.5978015978830943\n",
      "[step = 30] loss:24271912.545833334,r2:0.6552093380079199\n",
      "[step = 40] loss:25750623.453125,r2:0.6778194008560886\n",
      "[step = 50] loss:23439631.8525,r2:0.7239810579641549\n",
      "[step = 60] loss:24258048.54375,r2:0.7325757150494312\n",
      "[step = 70] loss:23645818.551785715,r2:0.7386723284523211\n",
      "[step = 80] loss:22872447.9578125,r2:0.7398051545840779\n"
     ]
    },
    {
     "name": "stderr",
     "output_type": "stream",
     "text": [
      "\r",
      " 42%|█████████████████████████████████▎                                              | 104/250 [00:29<00:43,  3.37it/s]"
     ]
    },
    {
     "name": "stdout",
     "output_type": "stream",
     "text": [
      "[step = 90] loss:23595302.42638889,r2:0.7400230802688782\n",
      "[step = 100] loss:23689943.82125,r2:0.744306349229314\n",
      "epoch = 104,loss = 23557353.879672896,r2 = 0.7465341228559345,val_loss = 20862519.222222224,val_+r2 = 0.7890640435574282\n",
      "[step = 10] loss:30061422.6875,r2:0.7057412503294687\n",
      "[step = 20] loss:22758313.159375,r2:0.7537370362644265\n",
      "[step = 30] loss:26372202.90625,r2:0.7476986655069491\n",
      "[step = 40] loss:25743913.1921875,r2:0.7241846523049107\n",
      "[step = 50] loss:24261650.62375,r2:0.7468496582514131\n",
      "[step = 60] loss:25626449.878125,r2:0.7438554335345471\n"
     ]
    },
    {
     "name": "stderr",
     "output_type": "stream",
     "text": [
      "\r",
      " 42%|█████████████████████████████████▌                                              | 105/250 [00:29<00:42,  3.38it/s]"
     ]
    },
    {
     "name": "stdout",
     "output_type": "stream",
     "text": [
      "[step = 70] loss:24304307.25982143,r2:0.7482706378172109\n",
      "[step = 80] loss:23997030.17734375,r2:0.7455211081248005\n",
      "[step = 90] loss:24554273.324305557,r2:0.7282082494958216\n",
      "[step = 100] loss:25045291.600625,r2:0.7274240360870037\n",
      "epoch = 105,loss = 24889127.692172896,r2 = 0.7189212971587138,val_loss = 22651944.972222224,val_+r2 = 0.7712512443293337\n",
      "[step = 10] loss:22754481.7,r2:0.7883941877428049\n",
      "[step = 20] loss:15823372.459375,r2:0.8504354350963874\n",
      "[step = 30] loss:18361404.022916667,r2:0.8185159923876318\n",
      "[step = 40] loss:20582979.0546875,r2:0.7418005137584373\n"
     ]
    },
    {
     "name": "stderr",
     "output_type": "stream",
     "text": [
      "\r",
      " 42%|█████████████████████████████████▉                                              | 106/250 [00:29<00:42,  3.40it/s]"
     ]
    },
    {
     "name": "stdout",
     "output_type": "stream",
     "text": [
      "[step = 50] loss:20866029.27375,r2:0.7474051391803087\n",
      "[step = 60] loss:22374596.623958334,r2:0.7539457945323169\n",
      "[step = 70] loss:21671200.845535714,r2:0.7663141979375203\n",
      "[step = 80] loss:23586070.89609375,r2:0.7329047088450429\n",
      "[step = 90] loss:24019363.39375,r2:0.7266383199356234\n",
      "[step = 100] loss:24797159.959375,r2:0.7204891952254195\n",
      "epoch = 106,loss = 24039959.397780374,r2 = 0.7221032967455978,val_loss = 23578713.053240743,val_+r2 = 0.8468244644220242\n",
      "[step = 10] loss:40104644.725,r2:0.7086751936216928\n",
      "[step = 20] loss:33749270.4625,r2:0.703481365788907\n",
      "[step = 30] loss:33014135.658333335,r2:0.6707286850842229\n",
      "[step = 40] loss:29637069.78125,r2:0.7108548574114238\n",
      "[step = 50] loss:27776866.285,r2:0.7345338307721627\n",
      "[step = 60] loss:25262605.24375,r2:0.7454814143681514\n",
      "[step = 70] loss:26414424.11607143,r2:0.7500664647365591\n",
      "[step = 80] loss:26125532.1828125,r2:0.7555121255099639\n",
      "[step = 90] loss:24962851.338888887,r2:0.761499646604235\n"
     ]
    },
    {
     "name": "stderr",
     "output_type": "stream",
     "text": [
      "\r",
      " 43%|██████████████████████████████████▏                                             | 107/250 [00:29<00:42,  3.39it/s]"
     ]
    },
    {
     "name": "stdout",
     "output_type": "stream",
     "text": [
      "[step = 100] loss:23504457.23875,r2:0.7697442722303229\n",
      "epoch = 107,loss = 23757975.260514017,r2 = 0.7562612210633899,val_loss = 19014232.875,val_+r2 = 0.7911072995640064\n",
      "[step = 10] loss:21003683.8,r2:0.8311074051902878\n",
      "[step = 20] loss:31960642.125,r2:0.7480653467212137\n",
      "[step = 30] loss:27942462.65,r2:0.7532667607026181\n",
      "[step = 40] loss:27881482.25,r2:0.7365551022006674\n",
      "[step = 50] loss:26451741.23,r2:0.7421768620361537\n",
      "[step = 60] loss:24340421.133333333,r2:0.7565287286767078\n"
     ]
    },
    {
     "name": "stderr",
     "output_type": "stream",
     "text": [
      "\r",
      " 43%|██████████████████████████████████▌                                             | 108/250 [00:30<00:42,  3.37it/s]"
     ]
    },
    {
     "name": "stdout",
     "output_type": "stream",
     "text": [
      "[step = 70] loss:23889614.010714285,r2:0.7585457797741911\n",
      "[step = 80] loss:23596515.046875,r2:0.7428103662559754\n",
      "[step = 90] loss:22576645.75902778,r2:0.7540541662566661\n",
      "[step = 100] loss:22251385.2921875,r2:0.7580867790323803\n",
      "epoch = 108,loss = 23839015.910922896,r2 = 0.7518670820070846,val_loss = 20871717.25,val_+r2 = 0.8235476366908872\n",
      "[step = 10] loss:26503561.5125,r2:0.8018632016557353\n",
      "[step = 20] loss:22070322.60625,r2:0.8373221172054913\n",
      "[step = 30] loss:19767828.6125,r2:0.8417837615117503\n"
     ]
    },
    {
     "name": "stderr",
     "output_type": "stream",
     "text": [
      "\r",
      " 44%|██████████████████████████████████▉                                             | 109/250 [00:30<00:41,  3.38it/s]"
     ]
    },
    {
     "name": "stdout",
     "output_type": "stream",
     "text": [
      "[step = 40] loss:20300074.940625,r2:0.7867109415183351\n",
      "[step = 50] loss:19128009.815,r2:0.8021987411961401\n",
      "[step = 60] loss:20291178.641666666,r2:0.794156451296045\n",
      "[step = 70] loss:20485339.814285714,r2:0.7970615478866461\n",
      "[step = 80] loss:22904971.41875,r2:0.772046213252526\n",
      "[step = 90] loss:22649490.6,r2:0.777841553578575\n",
      "[step = 100] loss:23313025.10125,r2:0.7791875093088021\n",
      "epoch = 109,loss = 23493573.80957944,r2 = 0.7603816177179967,val_loss = 19510001.296296295,val_+r2 = 0.7944081039932192\n",
      "[step = 10] loss:26856930.4,r2:0.8088197208115847\n",
      "[step = 20] loss:26560775.35,r2:0.723551294824511\n",
      "[step = 30] loss:27178128.933333334,r2:0.7539441781509052\n",
      "[step = 40] loss:24873806.75,r2:0.7559629468814953\n",
      "[step = 50] loss:23683926.69125,r2:0.7396508525851806\n",
      "[step = 60] loss:23885744.478125,r2:0.7319470719593019\n",
      "[step = 70] loss:23318656.795535713,r2:0.7489438042312605\n",
      "[step = 80] loss:24689601.47109375,r2:0.7513903185939921\n"
     ]
    },
    {
     "name": "stderr",
     "output_type": "stream",
     "text": [
      "\r",
      " 44%|███████████████████████████████████▏                                            | 110/250 [00:30<00:41,  3.36it/s]"
     ]
    },
    {
     "name": "stdout",
     "output_type": "stream",
     "text": [
      "[step = 90] loss:24830348.329861112,r2:0.7593358218766841\n",
      "[step = 100] loss:23475807.03375,r2:0.7733191531165078\n",
      "epoch = 110,loss = 24154281.891355142,r2 = 0.7651703676577744,val_loss = 21438061.388888888,val_+r2 = 0.7183053904813855\n",
      "[step = 10] loss:28916050.7,r2:0.7525062728104436\n",
      "[step = 20] loss:27935831.9625,r2:0.7341830467365379\n",
      "[step = 30] loss:24711745.291666668,r2:0.7198033883617787\n",
      "[step = 40] loss:23529179.61875,r2:0.743390415121301\n",
      "[step = 50] loss:24200635.565,r2:0.7168106290977906\n"
     ]
    },
    {
     "name": "stderr",
     "output_type": "stream",
     "text": [
      "\r",
      " 44%|███████████████████████████████████▌                                            | 111/250 [00:31<00:41,  3.37it/s]"
     ]
    },
    {
     "name": "stdout",
     "output_type": "stream",
     "text": [
      "[step = 60] loss:22843307.2875,r2:0.740536244914044\n",
      "[step = 70] loss:23182219.49642857,r2:0.7380746627309904\n",
      "[step = 80] loss:24816860.396875,r2:0.7213949498478446\n",
      "[step = 90] loss:24072864.577777777,r2:0.7296634378305071\n",
      "[step = 100] loss:22832219.28,r2:0.7412794688852804\n",
      "epoch = 111,loss = 23634879.53037383,r2 = 0.7477598703777767,val_loss = 19644591.087962963,val_+r2 = 0.7633849095183837\n",
      "[step = 10] loss:9950659.9625,r2:0.9059484973554331\n",
      "[step = 20] loss:17677344.70625,r2:0.8147838402961829\n",
      "[step = 30] loss:23209975.404166665,r2:0.7496078466041202\n",
      "[step = 40] loss:23710217.746875,r2:0.7671616635667264\n",
      "[step = 50] loss:24591085.0025,r2:0.7582209815595362\n",
      "[step = 60] loss:24008773.389583334,r2:0.7449158861674617\n",
      "[step = 70] loss:23956362.826785713,r2:0.7563609141773917\n",
      "[step = 80] loss:22983500.226953126,r2:0.769463323355519\n",
      "[step = 90] loss:23478926.62951389,r2:0.7513912966573445\n",
      "[step = 100] loss:24255222.0140625,r2:0.7383375674884092\n"
     ]
    },
    {
     "name": "stderr",
     "output_type": "stream",
     "text": [
      "\r",
      " 45%|███████████████████████████████████▊                                            | 112/250 [00:31<00:40,  3.38it/s]"
     ]
    },
    {
     "name": "stdout",
     "output_type": "stream",
     "text": [
      "epoch = 112,loss = 24164274.513142522,r2 = 0.7313573933451231,val_loss = 19445235.87962963,val_+r2 = 0.8171184611270763\n",
      "[step = 10] loss:19592529.65,r2:0.7315679135490037\n",
      "[step = 20] loss:19641017.43125,r2:0.7746771760121798\n",
      "[step = 30] loss:24621063.870833334,r2:0.7126405241747319\n",
      "[step = 40] loss:26729502.63125,r2:0.7013306462585784\n",
      "[step = 50] loss:24527083.365,r2:0.7154877650543344\n",
      "[step = 60] loss:25345556.604166668,r2:0.7251739777877279\n",
      "[step = 70] loss:24082869.59285714,r2:0.7378308067905703\n",
      "[step = 80] loss:23606156.06875,r2:0.7540962063107253\n"
     ]
    },
    {
     "name": "stderr",
     "output_type": "stream",
     "text": [
      "\r",
      " 45%|████████████████████████████████████▏                                           | 113/250 [00:31<00:40,  3.40it/s]"
     ]
    },
    {
     "name": "stdout",
     "output_type": "stream",
     "text": [
      "[step = 90] loss:23048576.111111112,r2:0.7637948459892872\n",
      "[step = 100] loss:23571401.9625,r2:0.7618015098431912\n",
      "epoch = 113,loss = 23845426.179906543,r2 = 0.7584271947091272,val_loss = 19177541.333333332,val_+r2 = 0.8006803021384905\n",
      "[step = 10] loss:30745339.55,r2:0.7338017648876278\n",
      "[step = 20] loss:24257675.325,r2:0.7293077301911074\n",
      "[step = 30] loss:22236627.383333333,r2:0.7392843581993306\n",
      "[step = 40] loss:21174695.35625,r2:0.7460093382796862\n",
      "[step = 50] loss:21444481.76,r2:0.7615720601469208\n",
      "[step = 60] loss:25228499.679166667,r2:0.7190454799659161\n"
     ]
    },
    {
     "name": "stderr",
     "output_type": "stream",
     "text": [
      "\r",
      " 46%|████████████████████████████████████▍                                           | 114/250 [00:31<00:39,  3.41it/s]"
     ]
    },
    {
     "name": "stdout",
     "output_type": "stream",
     "text": [
      "[step = 70] loss:24128536.382142857,r2:0.7145595894691087\n",
      "[step = 80] loss:23660348.2359375,r2:0.7324953994370276\n",
      "[step = 90] loss:24737361.2875,r2:0.7428037848904403\n",
      "[step = 100] loss:24597323.32875,r2:0.7391210925850131\n",
      "epoch = 114,loss = 24138591.501168225,r2 = 0.7341591398641052,val_loss = 20090076.888888888,val_+r2 = 0.7923250281756599\n",
      "[step = 10] loss:15236296.2875,r2:0.7720908294332478\n",
      "[step = 20] loss:30038902.16875,r2:0.6899500652030854\n",
      "[step = 30] loss:30106634.095833335,r2:0.7187739084196981\n"
     ]
    },
    {
     "name": "stderr",
     "output_type": "stream",
     "text": [
      "\r",
      " 46%|████████████████████████████████████▊                                           | 115/250 [00:32<00:39,  3.41it/s]"
     ]
    },
    {
     "name": "stdout",
     "output_type": "stream",
     "text": [
      "[step = 40] loss:28976039.2,r2:0.7089500721449069\n",
      "[step = 50] loss:25976649.055,r2:0.7375931291602084\n",
      "[step = 60] loss:27468502.008333333,r2:0.7331462404954571\n",
      "[step = 70] loss:25600553.585714284,r2:0.7413282422545999\n",
      "[step = 80] loss:23810963.7828125,r2:0.7575250534871208\n",
      "[step = 90] loss:23353804.093055554,r2:0.764225859924286\n",
      "[step = 100] loss:23735036.67375,r2:0.7513176165106258\n",
      "epoch = 115,loss = 23433679.982476637,r2 = 0.7563769245200088,val_loss = 19903172.462962963,val_+r2 = 0.8038866792372789\n",
      "[step = 10] loss:27238031.3,r2:0.7735008712869368\n",
      "[step = 20] loss:23798051.0375,r2:0.7544770579877177\n",
      "[step = 30] loss:22017386.791666668,r2:0.7935676028134205\n",
      "[step = 40] loss:22256516.025,r2:0.7853841689819522\n",
      "[step = 50] loss:22088856.79,r2:0.7951113805731709\n",
      "[step = 60] loss:23475987.166666668,r2:0.7900771198665246\n",
      "[step = 70] loss:24770942.685714286,r2:0.7760114460223125\n",
      "[step = 80] loss:24587192.41875,r2:0.7709960858396709\n",
      "[step = 90] loss:24936676.805555556,r2:0.7671067639116707\n"
     ]
    },
    {
     "name": "stderr",
     "output_type": "stream",
     "text": [
      "\r",
      " 46%|█████████████████████████████████████                                           | 116/250 [00:32<00:39,  3.41it/s]"
     ]
    },
    {
     "name": "stdout",
     "output_type": "stream",
     "text": [
      "[step = 100] loss:24480604.145,r2:0.765988957229754\n",
      "epoch = 116,loss = 24308754.501168225,r2 = 0.7682455280807777,val_loss = 19637700.944444444,val_+r2 = 0.8166350643292382\n",
      "[step = 10] loss:13443671.675,r2:0.8826584190439167\n",
      "[step = 20] loss:16572140.0375,r2:0.8157712960568737\n",
      "[step = 30] loss:18924326.916666668,r2:0.82327687378726\n",
      "[step = 40] loss:21326550.63125,r2:0.7890608100157162\n",
      "[step = 50] loss:21077079.9425,r2:0.7929658104004961\n",
      "[step = 60] loss:21691129.977083333,r2:0.7708089469618419\n"
     ]
    },
    {
     "name": "stderr",
     "output_type": "stream",
     "text": [
      "\r",
      " 47%|█████████████████████████████████████▍                                          | 117/250 [00:32<00:39,  3.41it/s]"
     ]
    },
    {
     "name": "stdout",
     "output_type": "stream",
     "text": [
      "[step = 70] loss:22070649.505357143,r2:0.7684903137684037\n",
      "[step = 80] loss:21355804.3046875,r2:0.7658536626378729\n",
      "[step = 90] loss:21214262.89861111,r2:0.7650870563886447\n",
      "[step = 100] loss:23553461.14875,r2:0.7402734809379177\n",
      "epoch = 117,loss = 23948955.297897197,r2 = 0.7193320794773269,val_loss = 23620791.60185185,val_+r2 = 0.7156257814011773\n",
      "[step = 10] loss:17476095.85,r2:0.7380556803431886\n",
      "[step = 20] loss:27690617.475,r2:0.6600698450204582\n",
      "[step = 30] loss:22120447.783333335,r2:0.7151719518879402\n"
     ]
    },
    {
     "name": "stderr",
     "output_type": "stream",
     "text": [
      "\r",
      " 47%|█████████████████████████████████████▊                                          | 118/250 [00:33<00:38,  3.41it/s]"
     ]
    },
    {
     "name": "stdout",
     "output_type": "stream",
     "text": [
      "[step = 40] loss:21340475.98125,r2:0.7333723621090498\n",
      "[step = 50] loss:21971513.765,r2:0.7403612466204136\n",
      "[step = 60] loss:22343829.316666666,r2:0.7450158374924345\n",
      "[step = 70] loss:24047116.757142857,r2:0.7540575435249522\n",
      "[step = 80] loss:23475835.5125,r2:0.7608139748185309\n",
      "[step = 90] loss:23923512.855555557,r2:0.7577254693244271\n",
      "[step = 100] loss:24277001.685,r2:0.7509399863647417\n",
      "epoch = 118,loss = 24257529.392523363,r2 = 0.7509358516332421,val_loss = 19617516.175925925,val_+r2 = 0.8211879407393065\n",
      "[step = 10] loss:22547243.8,r2:0.7454453538665394\n",
      "[step = 20] loss:20430465.35,r2:0.7882824181440249\n",
      "[step = 30] loss:24954331.208333332,r2:0.7269874986577572\n",
      "[step = 40] loss:23270994.815625,r2:0.7460658863480514\n",
      "[step = 50] loss:27690825.16625,r2:0.7142115106258636\n",
      "[step = 60] loss:26748312.342708334,r2:0.7206788640666303\n",
      "[step = 70] loss:26060847.23660714,r2:0.7310609693461645\n",
      "[step = 80] loss:25463725.35703125,r2:0.736130088620749\n",
      "[step = 90] loss:26324214.986805554,r2:0.7226269998517978\n"
     ]
    },
    {
     "name": "stderr",
     "output_type": "stream",
     "text": [
      "\r",
      " 48%|██████████████████████████████████████                                          | 119/250 [00:33<00:38,  3.38it/s]"
     ]
    },
    {
     "name": "stdout",
     "output_type": "stream",
     "text": [
      "[step = 100] loss:25724560.263125,r2:0.7267540777915695\n",
      "epoch = 119,loss = 25109115.682827104,r2 = 0.7293811463579443,val_loss = 19455152.444444444,val_+r2 = 0.7845367176376812\n",
      "[step = 10] loss:25925918.75,r2:0.755906279704325\n",
      "[step = 20] loss:27467281.3,r2:0.7512335644035161\n",
      "[step = 30] loss:21960868.175,r2:0.7912811399900893\n",
      "[step = 40] loss:21491210.8046875,r2:0.802487007781898\n",
      "[step = 50] loss:20002014.47875,r2:0.791732023482389\n",
      "[step = 60] loss:20637617.386458334,r2:0.7888256246582543\n"
     ]
    },
    {
     "name": "stderr",
     "output_type": "stream",
     "text": [
      "\r",
      " 48%|██████████████████████████████████████▍                                         | 120/250 [00:33<00:38,  3.37it/s]"
     ]
    },
    {
     "name": "stdout",
     "output_type": "stream",
     "text": [
      "[step = 70] loss:21096482.18839286,r2:0.7486275189403712\n",
      "[step = 80] loss:21619583.73359375,r2:0.7446776393860605\n",
      "[step = 90] loss:23142706.685416665,r2:0.7491862053743193\n",
      "[step = 100] loss:24008235.801875,r2:0.7325645264293015\n",
      "epoch = 120,loss = 23330353.641939253,r2 = 0.7375614959999763,val_loss = 19855356.722222224,val_+r2 = 0.7802194195156473\n",
      "[step = 10] loss:26476636.85,r2:0.7355868694301947\n",
      "[step = 20] loss:25541281.5,r2:0.7786649609907157\n",
      "[step = 30] loss:29848887.483333334,r2:0.6735273141552677\n"
     ]
    },
    {
     "name": "stderr",
     "output_type": "stream",
     "text": [
      "\r",
      " 48%|██████████████████████████████████████▋                                         | 121/250 [00:34<00:38,  3.37it/s]"
     ]
    },
    {
     "name": "stdout",
     "output_type": "stream",
     "text": [
      "[step = 40] loss:27937980.575,r2:0.7047344622438869\n",
      "[step = 50] loss:26615659.34,r2:0.729461549331898\n",
      "[step = 60] loss:25501569.391666666,r2:0.7343884582593502\n",
      "[step = 70] loss:24978630.82142857,r2:0.7491440232831732\n",
      "[step = 80] loss:24892236.459375,r2:0.7397834574861635\n",
      "[step = 90] loss:23396277.875,r2:0.7580942291624266\n",
      "[step = 100] loss:24550480.4825,r2:0.758360792750371\n",
      "epoch = 121,loss = 24380081.05665888,r2 = 0.7604226729345807,val_loss = 19768465.814814813,val_+r2 = 0.8145231059593958\n",
      "[step = 10] loss:16176402.15,r2:0.7457228934366558\n",
      "[step = 20] loss:18487823.6375,r2:0.7643103918951996\n",
      "[step = 30] loss:21729448.875,r2:0.7581040891330844\n",
      "[step = 40] loss:21073621.80625,r2:0.7766544317207831\n",
      "[step = 50] loss:21028987.24,r2:0.7748956628957875\n",
      "[step = 60] loss:22922187.904166665,r2:0.7530872961804763\n",
      "[step = 70] loss:24404896.74642857,r2:0.7586685655274323\n"
     ]
    },
    {
     "name": "stderr",
     "output_type": "stream",
     "text": [
      "\r",
      " 49%|███████████████████████████████████████                                         | 122/250 [00:34<00:38,  3.31it/s]"
     ]
    },
    {
     "name": "stdout",
     "output_type": "stream",
     "text": [
      "[step = 80] loss:24434251.609375,r2:0.7565105902152959\n",
      "[step = 90] loss:23768067.236111112,r2:0.7646508237345846\n",
      "[step = 100] loss:23067481.905,r2:0.7646087889784077\n",
      "epoch = 122,loss = 23970459.32359813,r2 = 0.7515898181070213,val_loss = 19507829.953703705,val_+r2 = 0.8272232175743388\n",
      "[step = 10] loss:17331862.1125,r2:0.8457525337246536\n",
      "[step = 20] loss:19396076.30625,r2:0.7717743208956629\n",
      "[step = 30] loss:21410602.070833333,r2:0.7776839299340802\n",
      "[step = 40] loss:21619652.984375,r2:0.7846154597373771\n",
      "[step = 50] loss:23888936.7275,r2:0.7763451510175063\n",
      "[step = 60] loss:23479996.377083335,r2:0.7816606534923216\n",
      "[step = 70] loss:22334696.473214287,r2:0.776257037005069\n",
      "[step = 80] loss:24844644.3265625,r2:0.7421404406885137\n",
      "[step = 90] loss:24390997.848611113,r2:0.7507455027416735\n",
      "[step = 100] loss:23304213.97375,r2:0.7642671676886735\n"
     ]
    },
    {
     "name": "stderr",
     "output_type": "stream",
     "text": [
      "\r",
      " 49%|███████████████████████████████████████▎                                        | 123/250 [00:34<00:40,  3.14it/s]"
     ]
    },
    {
     "name": "stdout",
     "output_type": "stream",
     "text": [
      "epoch = 123,loss = 23527417.582943924,r2 = 0.7573699611652754,val_loss = 19728821.842592593,val_+r2 = 0.7919887101562061\n",
      "[step = 10] loss:36365684.225,r2:0.6508881898312091\n",
      "[step = 20] loss:32044694.325,r2:0.743503201283271\n",
      "[step = 30] loss:31785003.583333332,r2:0.7503840073791521\n",
      "[step = 40] loss:27147499.3375,r2:0.7682136348929605\n",
      "[step = 50] loss:25797473.8,r2:0.7736775742775085\n",
      "[step = 60] loss:24262338.154166665,r2:0.7751005148255313\n"
     ]
    },
    {
     "name": "stderr",
     "output_type": "stream",
     "text": [
      "\r",
      " 50%|███████████████████████████████████████▋                                        | 124/250 [00:35<00:41,  3.05it/s]"
     ]
    },
    {
     "name": "stdout",
     "output_type": "stream",
     "text": [
      "[step = 70] loss:24304132.560714286,r2:0.7600523736023167\n",
      "[step = 80] loss:24259955.759375,r2:0.7471360668197808\n",
      "[step = 90] loss:23283138.86388889,r2:0.7566868060771749\n",
      "[step = 100] loss:25515164.9975,r2:0.7536437367711002\n",
      "epoch = 124,loss = 24931329.025700934,r2 = 0.7532381808277736,val_loss = 19796499.722222224,val_+r2 = 0.7889762476726061\n",
      "[step = 10] loss:27144902.875,r2:0.6493246452938626\n",
      "[step = 20] loss:30468545.7875,r2:0.6727299017835888\n",
      "[step = 30] loss:32567509.366666667,r2:0.703268758206376\n",
      "[step = 40] loss:29795920.75,r2:0.7034456933352742\n",
      "[step = 50] loss:26896290.8,r2:0.71363935156566\n",
      "[step = 60] loss:24700842.523697916,r2:0.7258860884823493\n",
      "[step = 70] loss:23637698.19888393,r2:0.7473052979239652\n",
      "[step = 80] loss:23300166.085742187,r2:0.7510364875390652\n",
      "[step = 90] loss:22186571.3734375,r2:0.7549161477787298\n",
      "[step = 100] loss:22920842.49109375,r2:0.7395769806263033\n"
     ]
    },
    {
     "name": "stderr",
     "output_type": "stream",
     "text": [
      "\r",
      " 50%|████████████████████████████████████████                                        | 125/250 [00:35<00:42,  2.97it/s]"
     ]
    },
    {
     "name": "stdout",
     "output_type": "stream",
     "text": [
      "epoch = 125,loss = 23399979.72999416,r2 = 0.7309685223577741,val_loss = 21973296.555555556,val_+r2 = 0.756601848586857\n",
      "[step = 10] loss:17278635.95,r2:0.728867221181607\n",
      "[step = 20] loss:20292658.85,r2:0.7089491719344642\n",
      "[step = 30] loss:21587731.366666667,r2:0.7078641387999411\n",
      "[step = 40] loss:24961918.88125,r2:0.6944393600649\n",
      "[step = 50] loss:23784208.585,r2:0.711041413172116\n",
      "[step = 60] loss:26745188.504166666,r2:0.7072056297498314\n"
     ]
    },
    {
     "name": "stderr",
     "output_type": "stream",
     "text": [
      "\r",
      " 50%|████████████████████████████████████████▎                                       | 126/250 [00:35<00:42,  2.93it/s]"
     ]
    },
    {
     "name": "stdout",
     "output_type": "stream",
     "text": [
      "[step = 70] loss:26287424.632142857,r2:0.7158694727551937\n",
      "[step = 80] loss:24818824.75625,r2:0.727524071888564\n",
      "[step = 90] loss:24755190.644444443,r2:0.7371457795394399\n",
      "[step = 100] loss:24723671.7975,r2:0.7446958087395394\n",
      "epoch = 126,loss = 23661276.050817758,r2 = 0.7464090994233759,val_loss = 20560128.37037037,val_+r2 = 0.7569090838805643\n",
      "[step = 10] loss:38132470.1375,r2:0.5094426438484458\n",
      "[step = 20] loss:28473134.31875,r2:0.617271573169972\n",
      "[step = 30] loss:29628961.595833335,r2:0.6864697705727523\n",
      "[step = 40] loss:28722601.971875,r2:0.7047741706887276\n",
      "[step = 50] loss:28103578.9225,r2:0.69135720219805\n",
      "[step = 60] loss:27469815.635416668,r2:0.6911170988523485\n",
      "[step = 70] loss:25494991.12589286,r2:0.7243385184648916\n",
      "[step = 80] loss:23818812.23515625,r2:0.7436231080673925\n",
      "[step = 90] loss:23891982.925694443,r2:0.7500294103681264\n"
     ]
    },
    {
     "name": "stderr",
     "output_type": "stream",
     "text": [
      "\r",
      " 51%|████████████████████████████████████████▋                                       | 127/250 [00:36<00:42,  2.89it/s]"
     ]
    },
    {
     "name": "stdout",
     "output_type": "stream",
     "text": [
      "[step = 100] loss:24775184.433125,r2:0.7373206613523329\n",
      "epoch = 127,loss = 24831875.596378505,r2 = 0.7338805426056159,val_loss = 26124143.33101852,val_+r2 = 0.7377712077459481\n",
      "[step = 10] loss:14550398.14375,r2:0.8880456943362454\n",
      "[step = 20] loss:21304925.434375,r2:0.8643664083319231\n",
      "[step = 30] loss:20663251.522916667,r2:0.86916006897406\n",
      "[step = 40] loss:23015897.78828125,r2:0.842043215837218\n",
      "[step = 50] loss:21832662.450625,r2:0.8209384542332913\n"
     ]
    },
    {
     "name": "stderr",
     "output_type": "stream",
     "text": [
      "\r",
      " 51%|████████████████████████████████████████▉                                       | 128/250 [00:36<00:42,  2.85it/s]"
     ]
    },
    {
     "name": "stdout",
     "output_type": "stream",
     "text": [
      "[step = 60] loss:22042218.0921875,r2:0.8226705591166078\n",
      "[step = 70] loss:23722027.371875,r2:0.79372389264385\n",
      "[step = 80] loss:23767505.494140625,r2:0.7801993352402614\n",
      "[step = 90] loss:24431368.847569443,r2:0.770464156638667\n",
      "[step = 100] loss:24053641.3778125,r2:0.7751294027497957\n",
      "epoch = 128,loss = 23560446.516647197,r2 = 0.7805377744897825,val_loss = 19291890.0,val_+r2 = 0.8191610881138507\n",
      "[step = 10] loss:22545086.9625,r2:0.8107242996294419\n",
      "[step = 20] loss:18281254.11875,r2:0.8241994068100388\n",
      "[step = 30] loss:24238632.279166665,r2:0.8131583482960898\n",
      "[step = 40] loss:24011961.95078125,r2:0.8031012541326431\n",
      "[step = 50] loss:22259569.950625,r2:0.8155473373765494\n",
      "[step = 60] loss:23397095.8421875,r2:0.8024837209051406\n",
      "[step = 70] loss:25234511.879017856,r2:0.770352784688561\n",
      "[step = 80] loss:23666097.762109376,r2:0.7735198531413363\n"
     ]
    },
    {
     "name": "stderr",
     "output_type": "stream",
     "text": [
      "\r",
      " 52%|█████████████████████████████████████████▎                                      | 129/250 [00:36<00:42,  2.82it/s]"
     ]
    },
    {
     "name": "stdout",
     "output_type": "stream",
     "text": [
      "[step = 90] loss:23617801.096875,r2:0.7686043693120287\n",
      "[step = 100] loss:24866879.4521875,r2:0.7383147686379803\n",
      "epoch = 129,loss = 24056164.216997664,r2 = 0.7439958892769141,val_loss = 20628098.694444444,val_+r2 = 0.7794716514470921\n",
      "[step = 10] loss:27570771.8,r2:0.7585222273314662\n",
      "[step = 20] loss:28717168.2,r2:0.6540375762134705\n",
      "[step = 30] loss:24599503.4875,r2:0.7405319685750221\n",
      "[step = 40] loss:23345930.8640625,r2:0.7657232412045497\n",
      "[step = 50] loss:24502156.86375,r2:0.770204525112956\n",
      "[step = 60] loss:25008028.882291667,r2:0.7591868771402629\n",
      "[step = 70] loss:24539348.809821427,r2:0.756365935200676\n",
      "[step = 80] loss:24962264.26484375,r2:0.7457608315487378\n",
      "[step = 90] loss:23693776.815972224,r2:0.7548023316595215\n",
      "[step = 100] loss:23026078.823125,r2:0.7632285453371886\n"
     ]
    },
    {
     "name": "stderr",
     "output_type": "stream",
     "text": [
      "\r",
      " 52%|█████████████████████████████████████████▌                                      | 130/250 [00:37<00:43,  2.78it/s]"
     ]
    },
    {
     "name": "stdout",
     "output_type": "stream",
     "text": [
      "epoch = 130,loss = 23425312.141355142,r2 = 0.7565848820658476,val_loss = 19686316.863425925,val_+r2 = 0.7742800215126396\n",
      "[step = 10] loss:10950602.225,r2:0.8800747229692714\n",
      "[step = 20] loss:17361582.3125,r2:0.8274560734273532\n",
      "[step = 30] loss:16905886.216666665,r2:0.8171324066123508\n",
      "[step = 40] loss:19740545.353125,r2:0.796988051443376\n",
      "[step = 50] loss:21186284.4525,r2:0.7959652511132437\n",
      "[step = 60] loss:22231308.74375,r2:0.783071275219201\n"
     ]
    },
    {
     "name": "stderr",
     "output_type": "stream",
     "text": [
      "\r",
      " 52%|█████████████████████████████████████████▉                                      | 131/250 [00:37<00:43,  2.76it/s]"
     ]
    },
    {
     "name": "stdout",
     "output_type": "stream",
     "text": [
      "[step = 70] loss:23864099.266071428,r2:0.7484410958366349\n",
      "[step = 80] loss:23476603.8953125,r2:0.7360437168765335\n",
      "[step = 90] loss:23382802.106944446,r2:0.7409654830634947\n",
      "[step = 100] loss:22397878.48625,r2:0.758945481356232\n",
      "epoch = 131,loss = 23366760.851635516,r2 = 0.7542246884324078,val_loss = 20174283.51851852,val_+r2 = 0.8255332978558717\n",
      "[step = 10] loss:24156059.075,r2:0.742754387547942\n",
      "[step = 20] loss:28884877.5625,r2:0.6588972176698459\n",
      "[step = 30] loss:25405166.483333334,r2:0.6901454034855633\n",
      "[step = 40] loss:24799698.7,r2:0.7072070000789779\n",
      "[step = 50] loss:23789950.8,r2:0.7246667386085002\n",
      "[step = 60] loss:23655616.641666666,r2:0.7299384584445041\n",
      "[step = 70] loss:22707734.28125,r2:0.7356694769384123\n",
      "[step = 80] loss:21699160.63203125,r2:0.7399985715522526\n",
      "[step = 90] loss:22833781.075694446,r2:0.7365779097529735\n"
     ]
    },
    {
     "name": "stderr",
     "output_type": "stream",
     "text": [
      "\r",
      " 53%|██████████████████████████████████████████▏                                     | 132/250 [00:37<00:42,  2.76it/s]"
     ]
    },
    {
     "name": "stdout",
     "output_type": "stream",
     "text": [
      "[step = 100] loss:23459885.588125,r2:0.7391304246420713\n",
      "epoch = 132,loss = 23452932.367406543,r2 = 0.7446699446709336,val_loss = 21455477.425925925,val_+r2 = 0.8273586319288265\n",
      "[step = 10] loss:19494576.3,r2:0.7491536484328759\n",
      "[step = 20] loss:19426678.275,r2:0.7488292861900788\n",
      "[step = 30] loss:26743785.75,r2:0.7219197766031443\n",
      "[step = 40] loss:24049705.6125,r2:0.7534888379906635\n",
      "[step = 50] loss:23523807.73,r2:0.7613076326397942\n"
     ]
    },
    {
     "name": "stderr",
     "output_type": "stream",
     "text": [
      "\r",
      " 53%|██████████████████████████████████████████▌                                     | 133/250 [00:38<00:42,  2.77it/s]"
     ]
    },
    {
     "name": "stdout",
     "output_type": "stream",
     "text": [
      "[step = 60] loss:22790818.972916666,r2:0.7667354280793077\n",
      "[step = 70] loss:20977382.846428573,r2:0.7810063379790574\n",
      "[step = 80] loss:22022275.53125,r2:0.7672430214024172\n",
      "[step = 90] loss:23170747.96111111,r2:0.7690448603463069\n",
      "[step = 100] loss:23703480.2375,r2:0.7635225478276793\n",
      "epoch = 133,loss = 23547634.80140187,r2 = 0.7562388828424159,val_loss = 19079941.97685185,val_+r2 = 0.7986615081655926\n",
      "[step = 10] loss:15591158.1125,r2:0.8237531162924316\n",
      "[step = 20] loss:22710363.24375,r2:0.7680533473483947\n",
      "[step = 30] loss:24013828.2125,r2:0.7680927197889301\n",
      "[step = 40] loss:24085300.490625,r2:0.7457564447925892\n",
      "[step = 50] loss:21530186.71,r2:0.7732921804456635\n",
      "[step = 60] loss:23346559.0,r2:0.7471056645793316\n",
      "[step = 70] loss:23429988.87857143,r2:0.7506630234726667\n"
     ]
    },
    {
     "name": "stderr",
     "output_type": "stream",
     "text": [
      "\r",
      " 54%|██████████████████████████████████████████▉                                     | 134/250 [00:38<00:42,  2.76it/s]"
     ]
    },
    {
     "name": "stdout",
     "output_type": "stream",
     "text": [
      "[step = 80] loss:25023626.5234375,r2:0.7426313004348059\n",
      "[step = 90] loss:24087838.6375,r2:0.7536185075939467\n",
      "[step = 100] loss:24084896.41375,r2:0.7569849661552449\n",
      "epoch = 134,loss = 24311491.896028038,r2 = 0.7548002149555869,val_loss = 23027233.962962963,val_+r2 = 0.7153923191665029\n",
      "[step = 10] loss:26396878.575,r2:0.7941618902540732\n",
      "[step = 20] loss:23265865.0875,r2:0.8178517537619836\n",
      "[step = 30] loss:20496303.308333334,r2:0.8287270099475599\n",
      "[step = 40] loss:20283700.1875,r2:0.8151675590470646\n",
      "[step = 50] loss:24844357.83,r2:0.730610200937484\n",
      "[step = 60] loss:23671162.071875,r2:0.7485137551917913\n",
      "[step = 70] loss:23689140.583035715,r2:0.7297156671313582\n",
      "[step = 80] loss:25142601.42265625,r2:0.7082453448385814\n",
      "[step = 90] loss:24953097.786805555,r2:0.7172333737520803\n"
     ]
    },
    {
     "name": "stderr",
     "output_type": "stream",
     "text": [
      "\r",
      " 54%|███████████████████████████████████████████▏                                    | 135/250 [00:39<00:40,  2.81it/s]"
     ]
    },
    {
     "name": "stdout",
     "output_type": "stream",
     "text": [
      "[step = 100] loss:23538315.448125,r2:0.7332249145781597\n",
      "epoch = 135,loss = 23585772.605724297,r2 = 0.7310966448002898,val_loss = 21614311.824074075,val_+r2 = 0.7718350132904255\n",
      "[step = 10] loss:26594359.15,r2:0.8503335183064747\n",
      "[step = 20] loss:24829580.2125,r2:0.7754489831875351\n",
      "[step = 30] loss:24477140.966666665,r2:0.7955184420880665\n",
      "[step = 40] loss:24961470.775,r2:0.7887450596705825\n",
      "[step = 50] loss:24602763.935,r2:0.7994583153338527\n",
      "[step = 60] loss:24687899.314583335,r2:0.803857578056408\n"
     ]
    },
    {
     "name": "stderr",
     "output_type": "stream",
     "text": [
      "\r",
      " 54%|███████████████████████████████████████████▌                                    | 136/250 [00:39<00:38,  2.94it/s]"
     ]
    },
    {
     "name": "stdout",
     "output_type": "stream",
     "text": [
      "[step = 70] loss:25069821.341071427,r2:0.777785284809836\n",
      "[step = 80] loss:23380149.79296875,r2:0.7925028022904188\n",
      "[step = 90] loss:23047690.795138888,r2:0.7915726791417408\n",
      "[step = 100] loss:22528071.338125,r2:0.7914158808984562\n",
      "epoch = 136,loss = 23407435.75525701,r2 = 0.7726848693503847,val_loss = 19101731.092592593,val_+r2 = 0.8026495467535805\n",
      "[step = 10] loss:26269957.175,r2:0.8476675942216758\n",
      "[step = 20] loss:25212983.5125,r2:0.7696939361635217\n",
      "[step = 30] loss:23374480.025,r2:0.7846156257579262\n",
      "[step = 40] loss:23728103.58125,r2:0.7869566143833507\n",
      "[step = 50] loss:21890576.36,r2:0.7994431394057188\n",
      "[step = 60] loss:23352371.275,r2:0.7941095629839835\n",
      "[step = 70] loss:22609937.52142857,r2:0.8032742147644253\n",
      "[step = 80] loss:22397002.534375,r2:0.8005215567267421\n",
      "[step = 90] loss:22343928.43611111,r2:0.7923245148278393\n",
      "[step = 100] loss:22733996.89,r2:0.7912761715912612\n"
     ]
    },
    {
     "name": "stderr",
     "output_type": "stream",
     "text": [
      "\r",
      " 55%|███████████████████████████████████████████▊                                    | 137/250 [00:39<00:37,  3.02it/s]"
     ]
    },
    {
     "name": "stdout",
     "output_type": "stream",
     "text": [
      "epoch = 137,loss = 23007374.640186917,r2 = 0.7863559616983108,val_loss = 25563212.98148148,val_+r2 = 0.6695975993606326\n",
      "[step = 10] loss:12620081.35,r2:0.7400700432836955\n",
      "[step = 20] loss:18551957.61875,r2:0.6898898378460357\n",
      "[step = 30] loss:20054323.220833335,r2:0.7450195874921357\n",
      "[step = 40] loss:21704408.515625,r2:0.7268870226195066\n",
      "[step = 50] loss:21184258.8025,r2:0.7301122137504393\n",
      "[step = 60] loss:21755222.352083333,r2:0.7297535746742925\n",
      "[step = 70] loss:21525895.994642857,r2:0.7347837715844464\n"
     ]
    },
    {
     "name": "stderr",
     "output_type": "stream",
     "text": [
      "\r",
      " 55%|████████████████████████████████████████████▏                                   | 138/250 [00:39<00:36,  3.09it/s]"
     ]
    },
    {
     "name": "stdout",
     "output_type": "stream",
     "text": [
      "[step = 80] loss:20964703.3953125,r2:0.7404487162683189\n",
      "[step = 90] loss:21611884.027777776,r2:0.7492771926296087\n",
      "[step = 100] loss:23545396.8,r2:0.7490931235184475\n",
      "epoch = 138,loss = 23403008.420560747,r2 = 0.7401370105838189,val_loss = 21253055.01851852,val_+r2 = 0.8076280553077718\n",
      "[step = 10] loss:20371854.4625,r2:0.7784975153974263\n",
      "[step = 20] loss:27689884.7,r2:0.7626525403184735\n",
      "[step = 30] loss:26789440.266666666,r2:0.7851473174044953\n",
      "[step = 40] loss:25712356.29375,r2:0.7693874110902478\n"
     ]
    },
    {
     "name": "stderr",
     "output_type": "stream",
     "text": [
      "\r",
      " 56%|████████████████████████████████████████████▍                                   | 139/250 [00:40<00:35,  3.14it/s]"
     ]
    },
    {
     "name": "stdout",
     "output_type": "stream",
     "text": [
      "[step = 50] loss:27061319.445,r2:0.7572651837910753\n",
      "[step = 60] loss:27180520.941666666,r2:0.751763641282682\n",
      "[step = 70] loss:26902220.9,r2:0.7499568304265666\n",
      "[step = 80] loss:25625946.89375,r2:0.752543712704479\n",
      "[step = 90] loss:25262359.7,r2:0.7549894510761302\n",
      "[step = 100] loss:25176831.1275,r2:0.7589951853985797\n",
      "epoch = 139,loss = 25090761.90128505,r2 = 0.7644880428418344,val_loss = 19907107.016203705,val_+r2 = 0.8308355494992024\n",
      "[step = 10] loss:26272235.0375,r2:0.7546839011953559\n",
      "[step = 20] loss:24598650.05625,r2:0.7680123787589928\n",
      "[step = 30] loss:23745331.029166665,r2:0.7931096285932682\n",
      "[step = 40] loss:21528969.5359375,r2:0.8193045402785663\n",
      "[step = 50] loss:23504442.02875,r2:0.7943909780113527\n",
      "[step = 60] loss:21675190.171875,r2:0.807031135758619\n",
      "[step = 70] loss:23384997.922321428,r2:0.7845659277456665\n",
      "[step = 80] loss:24236817.88828125,r2:0.7776123772840297\n",
      "[step = 90] loss:23745877.500694446,r2:0.7752370901466004\n"
     ]
    },
    {
     "name": "stderr",
     "output_type": "stream",
     "text": [
      "\r",
      " 56%|████████████████████████████████████████████▊                                   | 140/250 [00:40<00:34,  3.17it/s]"
     ]
    },
    {
     "name": "stdout",
     "output_type": "stream",
     "text": [
      "[step = 100] loss:23162484.329375,r2:0.7774938507582777\n",
      "epoch = 140,loss = 23653638.686331775,r2 = 0.7788343703763911,val_loss = 26305644.833333332,val_+r2 = 0.6879672802809051\n",
      "[step = 10] loss:14583825.8,r2:0.868797757464044\n",
      "[step = 20] loss:19821824.525,r2:0.8183481213521377\n",
      "[step = 30] loss:19657324.325,r2:0.7969943095010076\n",
      "[step = 40] loss:26820395.81875,r2:0.7540558169400603\n",
      "[step = 50] loss:26813493.695,r2:0.7396134010062398\n",
      "[step = 60] loss:26030880.5875,r2:0.7336048043391173\n"
     ]
    },
    {
     "name": "stderr",
     "output_type": "stream",
     "text": [
      "\r",
      " 56%|█████████████████████████████████████████████                                   | 141/250 [00:40<00:34,  3.19it/s]"
     ]
    },
    {
     "name": "stdout",
     "output_type": "stream",
     "text": [
      "[step = 70] loss:25025876.239285715,r2:0.7355809388378339\n",
      "[step = 80] loss:24237389.275,r2:0.7447258468994485\n",
      "[step = 90] loss:24181829.105555557,r2:0.757414034607313\n",
      "[step = 100] loss:24330142.64,r2:0.7577960114341425\n",
      "epoch = 141,loss = 24635432.205607478,r2 = 0.7490325412971999,val_loss = 21747518.12037037,val_+r2 = 0.8227664985027574\n",
      "[step = 10] loss:24851886.4,r2:0.6180674622492356\n",
      "[step = 20] loss:24677935.275,r2:0.6169737167014661\n",
      "[step = 30] loss:21587341.041666668,r2:0.6845605461831318\n",
      "[step = 40] loss:23131315.5625,r2:0.6887422363594553\n",
      "[step = 50] loss:22434216.685,r2:0.7158968399562418\n",
      "[step = 60] loss:21766018.695833333,r2:0.717284163200497\n",
      "[step = 70] loss:20092968.50892857,r2:0.7410612200536042\n",
      "[step = 80] loss:22222724.2359375,r2:0.7360918133183653\n",
      "[step = 90] loss:22732547.004166666,r2:0.7292183983228682\n",
      "[step = 100] loss:22426840.875,r2:0.7381756733525933\n",
      "epoch = 142,loss = 22775148.341121495,r2 = 0.7451158418030951,val_loss = 20834864.972222224,val_+r2 = 0.7580137450104878\n"
     ]
    },
    {
     "name": "stderr",
     "output_type": "stream",
     "text": [
      "\r",
      " 57%|█████████████████████████████████████████████▍                                  | 142/250 [00:41<00:33,  3.21it/s]"
     ]
    },
    {
     "name": "stdout",
     "output_type": "stream",
     "text": [
      "[step = 10] loss:34151113.8,r2:0.7045619312771507\n",
      "[step = 20] loss:34787010.5375,r2:0.7493566441007479\n",
      "[step = 30] loss:31410530.891666666,r2:0.7289279293772059\n",
      "[step = 40] loss:28968951.953125,r2:0.7169960529997569\n",
      "[step = 50] loss:26638087.1875,r2:0.7509522651842174\n",
      "[step = 60] loss:25101312.105208334,r2:0.7666473643125872\n",
      "[step = 70] loss:24980434.29375,r2:0.7616007734063104\n",
      "[step = 80] loss:24501229.65078125,r2:0.7605517965661156\n"
     ]
    },
    {
     "name": "stderr",
     "output_type": "stream",
     "text": [
      "\r",
      " 57%|█████████████████████████████████████████████▊                                  | 143/250 [00:41<00:33,  3.21it/s]"
     ]
    },
    {
     "name": "stdout",
     "output_type": "stream",
     "text": [
      "[step = 90] loss:23633560.822916668,r2:0.7667142273443146\n",
      "[step = 100] loss:23217327.380625,r2:0.7706508229780473\n",
      "epoch = 143,loss = 23548749.72021028,r2 = 0.7513353278471652,val_loss = 19137530.990740743,val_+r2 = 0.7514577181332102\n",
      "[step = 10] loss:18999844.0625,r2:0.7024402873775539\n",
      "[step = 20] loss:22888218.58125,r2:0.692931151954269\n",
      "[step = 30] loss:23345030.7625,r2:0.7057976765769115\n",
      "[step = 40] loss:21607685.515625,r2:0.7442495725924598\n"
     ]
    },
    {
     "name": "stderr",
     "output_type": "stream",
     "text": [
      "\r",
      " 58%|██████████████████████████████████████████████                                  | 144/250 [00:41<00:32,  3.22it/s]"
     ]
    },
    {
     "name": "stdout",
     "output_type": "stream",
     "text": [
      "[step = 50] loss:23055700.1775,r2:0.7201588920490658\n",
      "[step = 60] loss:23139760.21875,r2:0.7287239327531104\n",
      "[step = 70] loss:22769671.110714287,r2:0.728289065178348\n",
      "[step = 80] loss:21462764.6734375,r2:0.7452523559971261\n",
      "[step = 90] loss:21827040.8625,r2:0.7501840506359387\n",
      "[step = 100] loss:22072487.14375,r2:0.7363290245390485\n",
      "epoch = 144,loss = 23343954.171728972,r2 = 0.7318703044850021,val_loss = 19980143.592592593,val_+r2 = 0.7528384322381638\n",
      "[step = 10] loss:24356399.3,r2:0.7331859723220564\n",
      "[step = 20] loss:21808075.45,r2:0.775197561333926\n",
      "[step = 30] loss:20210160.8375,r2:0.7680143096953314\n",
      "[step = 40] loss:25038827.403125,r2:0.7541466781393367\n",
      "[step = 50] loss:25357787.64875,r2:0.7294005603748113\n",
      "[step = 60] loss:26212779.644791666,r2:0.7198595093166894\n",
      "[step = 70] loss:24904243.545535713,r2:0.7330534282821223\n"
     ]
    },
    {
     "name": "stderr",
     "output_type": "stream",
     "text": [
      "\r",
      " 58%|██████████████████████████████████████████████▍                                 | 145/250 [00:42<00:32,  3.21it/s]"
     ]
    },
    {
     "name": "stdout",
     "output_type": "stream",
     "text": [
      "[step = 80] loss:24708843.40859375,r2:0.7348868178127226\n",
      "[step = 90] loss:24202170.135416668,r2:0.7462905120682262\n",
      "[step = 100] loss:24682603.071875,r2:0.7298206327696106\n",
      "epoch = 145,loss = 24550678.735397197,r2 = 0.7404809702186139,val_loss = 22593264.759259257,val_+r2 = 0.8218286472870957\n",
      "[step = 10] loss:21897882.1,r2:0.6604411074592166\n",
      "[step = 20] loss:25356041.275,r2:0.6747213422131569\n",
      "[step = 30] loss:23589940.516666666,r2:0.7324373913512251\n",
      "[step = 40] loss:26858391.40625,r2:0.7430475145214372\n"
     ]
    },
    {
     "name": "stderr",
     "output_type": "stream",
     "text": [
      "\r",
      " 58%|██████████████████████████████████████████████▋                                 | 146/250 [00:42<00:32,  3.21it/s]"
     ]
    },
    {
     "name": "stdout",
     "output_type": "stream",
     "text": [
      "[step = 50] loss:28742625.4975,r2:0.7327326494975996\n",
      "[step = 60] loss:26574628.247916665,r2:0.7521090903164906\n",
      "[step = 70] loss:25677877.880357143,r2:0.7512220952815915\n",
      "[step = 80] loss:24521109.7578125,r2:0.7628090611653678\n",
      "[step = 90] loss:23128790.80138889,r2:0.7743419808094046\n",
      "[step = 100] loss:23103049.51875,r2:0.7800902271736654\n",
      "epoch = 146,loss = 23450834.891355142,r2 = 0.7714492315449903,val_loss = 19839484.925925925,val_+r2 = 0.824869883669466\n",
      "[step = 10] loss:26035813.93125,r2:0.7702894901101015\n",
      "[step = 20] loss:26487744.515625,r2:0.7738684533470115\n",
      "[step = 30] loss:28291253.710416667,r2:0.726251295790372\n",
      "[step = 40] loss:29324701.8265625,r2:0.7237600876328003\n",
      "[step = 50] loss:27950713.93125,r2:0.7500419988675466\n",
      "[step = 60] loss:27313309.765625,r2:0.7231673609902721\n",
      "[step = 70] loss:25920011.649107143,r2:0.733827569467846\n",
      "[step = 80] loss:24756748.17109375,r2:0.7359457447490451\n",
      "[step = 90] loss:23840532.77986111,r2:0.7439853802784593\n"
     ]
    },
    {
     "name": "stderr",
     "output_type": "stream",
     "text": [
      "\r",
      " 59%|███████████████████████████████████████████████                                 | 147/250 [00:42<00:32,  3.21it/s]"
     ]
    },
    {
     "name": "stdout",
     "output_type": "stream",
     "text": [
      "[step = 100] loss:23896258.458125,r2:0.7466223164571615\n",
      "epoch = 147,loss = 23412955.012266356,r2 = 0.7525206530580677,val_loss = 19797220.037037037,val_+r2 = 0.8058819761562411\n",
      "[step = 10] loss:22019241.525,r2:0.7818631871641477\n",
      "[step = 20] loss:26621393.65,r2:0.7076530968940427\n",
      "[step = 30] loss:25264101.579166666,r2:0.7240560590701801\n",
      "[step = 40] loss:26778065.934375,r2:0.7177204577347588\n",
      "[step = 50] loss:26799372.2725,r2:0.6828776006300399\n",
      "[step = 60] loss:26000031.233333334,r2:0.6836303805653424\n"
     ]
    },
    {
     "name": "stderr",
     "output_type": "stream",
     "text": [
      "\r",
      " 59%|███████████████████████████████████████████████▎                                | 148/250 [00:43<00:31,  3.22it/s]"
     ]
    },
    {
     "name": "stdout",
     "output_type": "stream",
     "text": [
      "[step = 70] loss:25295652.02142857,r2:0.7082596392947219\n",
      "[step = 80] loss:24401547.10625,r2:0.7164972190842809\n",
      "[step = 90] loss:23794251.333333332,r2:0.7122898535149007\n",
      "[step = 100] loss:24147081.9,r2:0.7025737034671538\n",
      "epoch = 148,loss = 23477618.81775701,r2 = 0.7166577769003161,val_loss = 19963323.388888888,val_+r2 = 0.7705130878746681\n",
      "[step = 10] loss:32977605.5125,r2:0.6945404613197772\n",
      "[step = 20] loss:25480043.471875,r2:0.7618404113098356\n",
      "[step = 30] loss:23403726.35625,r2:0.7812213275816061\n"
     ]
    },
    {
     "name": "stderr",
     "output_type": "stream",
     "text": [
      "\r",
      " 60%|███████████████████████████████████████████████▋                                | 149/250 [00:43<00:31,  3.23it/s]"
     ]
    },
    {
     "name": "stdout",
     "output_type": "stream",
     "text": [
      "[step = 40] loss:23748113.0109375,r2:0.7615329466229142\n",
      "[step = 50] loss:21455016.0825,r2:0.7877446410249955\n",
      "[step = 60] loss:21884715.079166666,r2:0.7937274355245775\n",
      "[step = 70] loss:22082929.903571427,r2:0.7991881733419279\n",
      "[step = 80] loss:23635778.896875,r2:0.787643012864426\n",
      "[step = 90] loss:23354022.119444445,r2:0.7661650771000766\n",
      "[step = 100] loss:22833998.480625,r2:0.7663193192127865\n",
      "epoch = 149,loss = 22899404.201518692,r2 = 0.7609348390047073,val_loss = 18923401.47685185,val_+r2 = 0.8148231920839342\n",
      "[step = 10] loss:12318619.45,r2:0.7530271759418212\n",
      "[step = 20] loss:31827392.1,r2:0.6952383860361273\n",
      "[step = 30] loss:28987530.241666667,r2:0.7406462295788475\n",
      "[step = 40] loss:27955622.459375,r2:0.7326801310840905\n",
      "[step = 50] loss:26085876.9925,r2:0.7515292726540821\n",
      "[step = 60] loss:25517100.75,r2:0.7345914454750501\n",
      "[step = 70] loss:25414557.567857143,r2:0.7424718140683819\n",
      "[step = 80] loss:24157715.6125,r2:0.7477280737893294\n"
     ]
    },
    {
     "name": "stderr",
     "output_type": "stream",
     "text": [
      "\r",
      " 60%|████████████████████████████████████████████████                                | 150/250 [00:43<00:30,  3.23it/s]"
     ]
    },
    {
     "name": "stdout",
     "output_type": "stream",
     "text": [
      "[step = 90] loss:24676930.51111111,r2:0.7475200030344982\n",
      "[step = 100] loss:23821080.845,r2:0.7501223865848137\n",
      "epoch = 150,loss = 23343364.212616824,r2 = 0.7549952693533502,val_loss = 19507191.354166668,val_+r2 = 0.8049939708186303\n",
      "[step = 10] loss:18402893.55,r2:0.7714383119268838\n",
      "[step = 20] loss:17962107.0,r2:0.7452504459830298\n",
      "[step = 30] loss:21690315.15,r2:0.7452635714679889\n",
      "[step = 40] loss:23547640.75,r2:0.6868759216320622\n"
     ]
    },
    {
     "name": "stderr",
     "output_type": "stream",
     "text": [
      "\r",
      " 60%|████████████████████████████████████████████████▎                               | 151/250 [00:43<00:30,  3.24it/s]"
     ]
    },
    {
     "name": "stdout",
     "output_type": "stream",
     "text": [
      "[step = 50] loss:22472377.9225,r2:0.7068238604369208\n",
      "[step = 60] loss:21366250.41875,r2:0.7353417290622865\n",
      "[step = 70] loss:22539387.680357143,r2:0.7416964503943018\n",
      "[step = 80] loss:21700489.1703125,r2:0.7551808125402353\n",
      "[step = 90] loss:22340189.83472222,r2:0.7635304950461276\n",
      "[step = 100] loss:22760573.46125,r2:0.7644603052886633\n",
      "epoch = 151,loss = 22890423.487149533,r2 = 0.7551046301850152,val_loss = 19031039.60648148,val_+r2 = 0.7982851832036845\n",
      "[step = 10] loss:16882043.05,r2:0.6990931825509543\n",
      "[step = 20] loss:23471843.075,r2:0.5814350118922704\n",
      "[step = 30] loss:23354951.666666668,r2:0.6451111790695162\n",
      "[step = 40] loss:23266864.41875,r2:0.6151580458612413\n",
      "[step = 50] loss:24896751.255,r2:0.6577851743959687\n",
      "[step = 60] loss:22929930.125,r2:0.6778420616411946\n",
      "[step = 70] loss:22440612.714285713,r2:0.689417349935158\n",
      "[step = 80] loss:22041346.2046875,r2:0.7068996835522448\n",
      "[step = 90] loss:22383989.1375,r2:0.7176540973963342\n"
     ]
    },
    {
     "name": "stderr",
     "output_type": "stream",
     "text": [
      "\r",
      " 61%|████████████████████████████████████████████████▋                               | 152/250 [00:44<00:30,  3.23it/s]"
     ]
    },
    {
     "name": "stdout",
     "output_type": "stream",
     "text": [
      "[step = 100] loss:22726058.83375,r2:0.7252536861153926\n",
      "epoch = 152,loss = 22878690.94275701,r2 = 0.7234843230913001,val_loss = 19827774.532407407,val_+r2 = 0.7978651854194103\n",
      "[step = 10] loss:18876904.975,r2:0.7894123204880098\n",
      "[step = 20] loss:27215862.3875,r2:0.7690585429115535\n",
      "[step = 30] loss:24280445.704166666,r2:0.7409876421244631\n",
      "[step = 40] loss:24180972.153125,r2:0.7353612353522598\n",
      "[step = 50] loss:22751962.8775,r2:0.7520959841213737\n",
      "[step = 60] loss:21815848.85625,r2:0.7661131875828581\n"
     ]
    },
    {
     "name": "stderr",
     "output_type": "stream",
     "text": [
      "\r",
      " 61%|████████████████████████████████████████████████▉                               | 153/250 [00:44<00:29,  3.24it/s]"
     ]
    },
    {
     "name": "stdout",
     "output_type": "stream",
     "text": [
      "[step = 70] loss:22246087.71964286,r2:0.7704672487254841\n",
      "[step = 80] loss:21153982.8453125,r2:0.7699965322818108\n",
      "[step = 90] loss:22081367.0625,r2:0.7563660877735403\n",
      "[step = 100] loss:23567641.78625,r2:0.743536524917936\n",
      "epoch = 153,loss = 23258103.863317758,r2 = 0.7474079012003291,val_loss = 20985709.384259257,val_+r2 = 0.8095319123673159\n",
      "[step = 10] loss:18533104.25,r2:0.8395704184740866\n",
      "[step = 20] loss:21659820.4,r2:0.7662337029326374\n",
      "[step = 30] loss:19582742.633333333,r2:0.8101590278437226\n",
      "[step = 40] loss:19236972.896875,r2:0.7988305604756365\n",
      "[step = 50] loss:22463336.15,r2:0.7721198918998644\n",
      "[step = 60] loss:21668398.514583334,r2:0.7648062481175225\n",
      "[step = 70] loss:21294756.516071428,r2:0.7699815447040329\n",
      "[step = 80] loss:21674426.5265625,r2:0.7708009844227086\n",
      "[step = 90] loss:22837737.67638889,r2:0.7538663127825899\n",
      "[step = 100] loss:23058200.55375,r2:0.7599814291372395\n"
     ]
    },
    {
     "name": "stderr",
     "output_type": "stream",
     "text": [
      "\r",
      " 62%|█████████████████████████████████████████████████▎                              | 154/250 [00:44<00:29,  3.24it/s]"
     ]
    },
    {
     "name": "stdout",
     "output_type": "stream",
     "text": [
      "epoch = 154,loss = 23323018.610981308,r2 = 0.753873031567097,val_loss = 18978655.935185187,val_+r2 = 0.7633090042589245\n",
      "[step = 10] loss:18384871.8625,r2:0.897354979721154\n",
      "[step = 20] loss:18946872.25625,r2:0.8915116901234551\n",
      "[step = 30] loss:18370403.854166668,r2:0.8466777338855619\n",
      "[step = 40] loss:19538375.284375,r2:0.818018234674196\n",
      "[step = 50] loss:20899745.3075,r2:0.7941808525313843\n",
      "[step = 60] loss:22062433.13125,r2:0.7758371641534729\n",
      "[step = 70] loss:22178283.048214287,r2:0.7738237580774203\n"
     ]
    },
    {
     "name": "stderr",
     "output_type": "stream",
     "text": [
      "\r",
      " 62%|█████████████████████████████████████████████████▌                              | 155/250 [00:45<00:29,  3.24it/s]"
     ]
    },
    {
     "name": "stdout",
     "output_type": "stream",
     "text": [
      "[step = 80] loss:22201740.8796875,r2:0.7761804071425495\n",
      "[step = 90] loss:23320354.39861111,r2:0.764554271448017\n",
      "[step = 100] loss:22510797.10625,r2:0.7642049317164546\n",
      "epoch = 155,loss = 22722042.230140187,r2 = 0.7609616654286243,val_loss = 20311315.64814815,val_+r2 = 0.79765536744681\n",
      "[step = 10] loss:13235941.125,r2:0.8514279966408106\n",
      "[step = 20] loss:17901913.7125,r2:0.8158891008756181\n",
      "[step = 30] loss:19079873.6125,r2:0.7623214762881543\n",
      "[step = 40] loss:19146227.690625,r2:0.7721344803908885\n"
     ]
    },
    {
     "name": "stderr",
     "output_type": "stream",
     "text": [
      "\r",
      " 62%|█████████████████████████████████████████████████▉                              | 156/250 [00:45<00:28,  3.26it/s]"
     ]
    },
    {
     "name": "stdout",
     "output_type": "stream",
     "text": [
      "[step = 50] loss:19145010.0275,r2:0.7726231305429802\n",
      "[step = 60] loss:19236449.964583334,r2:0.7815106038093235\n",
      "[step = 70] loss:20876049.1125,r2:0.7768386297130035\n",
      "[step = 80] loss:23966945.2546875,r2:0.7367088418519558\n",
      "[step = 90] loss:24187477.429166667,r2:0.7416210855795253\n",
      "[step = 100] loss:23589663.11375,r2:0.7381669624806095\n",
      "epoch = 156,loss = 22816023.265186917,r2 = 0.7492451917492504,val_loss = 19369402.435185187,val_+r2 = 0.8361246595865176\n",
      "[step = 10] loss:26390282.3625,r2:0.7718639354495045\n",
      "[step = 20] loss:23003946.85625,r2:0.7895692377885319\n",
      "[step = 30] loss:26000622.670833334,r2:0.706524571511167\n",
      "[step = 40] loss:29229916.228125,r2:0.6771744980005626\n",
      "[step = 50] loss:26360377.2425,r2:0.7183034802079677\n",
      "[step = 60] loss:25412055.539583333,r2:0.7174314308443038\n",
      "[step = 70] loss:23416861.880357143,r2:0.7340123976479901\n",
      "[step = 80] loss:23166597.75,r2:0.7263140530951858\n",
      "[step = 90] loss:22637043.133333333,r2:0.7331654021305621\n"
     ]
    },
    {
     "name": "stderr",
     "output_type": "stream",
     "text": [
      "\r",
      " 63%|██████████████████████████████████████████████████▏                             | 157/250 [00:45<00:28,  3.26it/s]"
     ]
    },
    {
     "name": "stdout",
     "output_type": "stream",
     "text": [
      "[step = 100] loss:22671031.4625,r2:0.7176521596908191\n",
      "epoch = 157,loss = 22374212.55373832,r2 = 0.7266525581652775,val_loss = 21317969.25,val_+r2 = 0.8124479545075586\n",
      "[step = 10] loss:14881298.4125,r2:0.8313937801063471\n",
      "[step = 20] loss:21244892.50625,r2:0.7856453139312581\n",
      "[step = 30] loss:23269553.1375,r2:0.7321720317106207\n",
      "[step = 40] loss:22191256.815625,r2:0.7424894778717448\n",
      "[step = 50] loss:20733104.975,r2:0.7563503812994099\n",
      "[step = 60] loss:23079334.054166667,r2:0.7304340456773648\n",
      "[step = 70] loss:24565165.817857143,r2:0.725317357159585\n"
     ]
    },
    {
     "name": "stderr",
     "output_type": "stream",
     "text": [
      "\r",
      " 63%|██████████████████████████████████████████████████▌                             | 158/250 [00:46<00:28,  3.27it/s]"
     ]
    },
    {
     "name": "stdout",
     "output_type": "stream",
     "text": [
      "[step = 80] loss:22915889.2765625,r2:0.7447662273388963\n",
      "[step = 90] loss:23226704.190277778,r2:0.7430606786269465\n",
      "[step = 100] loss:22633777.12875,r2:0.7520461091016188\n",
      "epoch = 158,loss = 22487380.789719626,r2 = 0.7484686370807944,val_loss = 19517360.453703705,val_+r2 = 0.8184572869698125\n",
      "[step = 10] loss:20389315.9375,r2:0.7781229850466725\n",
      "[step = 20] loss:18414610.85,r2:0.7953633812001766\n",
      "[step = 30] loss:21555662.033333335,r2:0.7823545886759803\n",
      "[step = 40] loss:20446323.13125,r2:0.7747348388664522\n"
     ]
    },
    {
     "name": "stderr",
     "output_type": "stream",
     "text": [
      "\r",
      " 64%|██████████████████████████████████████████████████▉                             | 159/250 [00:46<00:27,  3.27it/s]"
     ]
    },
    {
     "name": "stdout",
     "output_type": "stream",
     "text": [
      "[step = 50] loss:22730691.915,r2:0.753122169722943\n",
      "[step = 60] loss:22935676.879166666,r2:0.7299241235865398\n",
      "[step = 70] loss:23816673.69642857,r2:0.7251868989822021\n",
      "[step = 80] loss:23721869.740625,r2:0.7341807556714005\n",
      "[step = 90] loss:24349882.527777776,r2:0.7355555323530741\n",
      "[step = 100] loss:23279603.84,r2:0.741602912852491\n",
      "epoch = 159,loss = 23001255.203271028,r2 = 0.7512689052786893,val_loss = 19147704.027777776,val_+r2 = 0.6979060305254082\n",
      "[step = 10] loss:26382924.725,r2:0.7009446769482489\n",
      "[step = 20] loss:24428983.9375,r2:0.7038513680991141\n",
      "[step = 30] loss:28323026.658333335,r2:0.6844147046594625\n",
      "[step = 40] loss:25675795.66875,r2:0.7269422608542759\n",
      "[step = 50] loss:23397655.1125,r2:0.7626967486478768\n",
      "[step = 60] loss:22849213.885416668,r2:0.7468974681168035\n",
      "[step = 70] loss:22284800.776785713,r2:0.7596649068040715\n",
      "[step = 80] loss:21915796.8734375,r2:0.7513391078689723\n",
      "[step = 90] loss:22516763.963888887,r2:0.744001822250882\n"
     ]
    },
    {
     "name": "stderr",
     "output_type": "stream",
     "text": [
      "\r",
      " 64%|███████████████████████████████████████████████████▏                            | 160/250 [00:46<00:27,  3.25it/s]"
     ]
    },
    {
     "name": "stdout",
     "output_type": "stream",
     "text": [
      "[step = 100] loss:23354516.9125,r2:0.7443241559082844\n",
      "epoch = 160,loss = 23213183.93457944,r2 = 0.7446890306265296,val_loss = 20003073.638888888,val_+r2 = 0.8091673869154024\n",
      "[step = 10] loss:29750297.15,r2:0.6409589464024086\n",
      "[step = 20] loss:27175597.675,r2:0.5819328320809258\n",
      "[step = 30] loss:23291376.9375,r2:0.6764528963610795\n",
      "[step = 40] loss:23699688.690625,r2:0.67838280186994\n",
      "[step = 50] loss:23636830.5975,r2:0.7084173200080444\n",
      "[step = 60] loss:22582656.075,r2:0.7129257566992632\n"
     ]
    },
    {
     "name": "stderr",
     "output_type": "stream",
     "text": [
      "\r",
      " 64%|███████████████████████████████████████████████████▌                            | 161/250 [00:47<00:27,  3.23it/s]"
     ]
    },
    {
     "name": "stdout",
     "output_type": "stream",
     "text": [
      "[step = 70] loss:22076257.72857143,r2:0.7054179418313561\n",
      "[step = 80] loss:22475773.753125,r2:0.7179659980650763\n",
      "[step = 90] loss:22573256.152777776,r2:0.7276455232197045\n",
      "[step = 100] loss:22161890.7375,r2:0.7397644816965435\n",
      "epoch = 161,loss = 22472704.304906543,r2 = 0.737307713323553,val_loss = 21634164.23148148,val_+r2 = 0.7763563599331258\n",
      "[step = 10] loss:30757858.2,r2:0.6446287884407106\n",
      "[step = 20] loss:32632494.575,r2:0.6914901572122918\n",
      "[step = 30] loss:31589879.216666665,r2:0.7258011126700329\n",
      "[step = 40] loss:28195186.475,r2:0.750006541437981\n",
      "[step = 50] loss:25709578.615,r2:0.7560888562608303\n",
      "[step = 60] loss:25021567.995833334,r2:0.7448869662923392\n",
      "[step = 70] loss:24347139.096428573,r2:0.7470644771915873\n",
      "[step = 80] loss:22977268.484375,r2:0.7579042316001521\n",
      "[step = 90] loss:22748675.55138889,r2:0.7606047508414598\n",
      "[step = 100] loss:22145313.32375,r2:0.7629465791914555\n"
     ]
    },
    {
     "name": "stderr",
     "output_type": "stream",
     "text": [
      "\r",
      " 65%|███████████████████████████████████████████████████▊                            | 162/250 [00:47<00:27,  3.23it/s]"
     ]
    },
    {
     "name": "stdout",
     "output_type": "stream",
     "text": [
      "epoch = 162,loss = 22061148.936331775,r2 = 0.75735591020392,val_loss = 20454042.89814815,val_+r2 = 0.8437329298306868\n",
      "[step = 10] loss:22194602.25,r2:0.8305364454259119\n",
      "[step = 20] loss:23682927.325,r2:0.8322641275791307\n",
      "[step = 30] loss:25864901.65,r2:0.788566197197274\n",
      "[step = 40] loss:24984168.903125,r2:0.780526645822115\n",
      "[step = 50] loss:23307992.5325,r2:0.7926736994011815\n",
      "[step = 60] loss:24706658.035416666,r2:0.7938745209175744\n",
      "[step = 70] loss:24972640.87142857,r2:0.7895032558580911\n"
     ]
    },
    {
     "name": "stderr",
     "output_type": "stream",
     "text": [
      "\r",
      " 65%|████████████████████████████████████████████████████▏                           | 163/250 [00:47<00:26,  3.23it/s]"
     ]
    },
    {
     "name": "stdout",
     "output_type": "stream",
     "text": [
      "[step = 80] loss:23834777.034375,r2:0.7904334421222281\n",
      "[step = 90] loss:22665242.205555554,r2:0.790938682401205\n",
      "[step = 100] loss:22418288.985,r2:0.764951181105871\n",
      "epoch = 163,loss = 22175666.53504673,r2 = 0.7658998727664841,val_loss = 19919257.189814813,val_+r2 = 0.7866855959604009\n",
      "[step = 10] loss:31345257.95,r2:0.7898388533969596\n",
      "[step = 20] loss:30162565.875,r2:0.7802344659478643\n",
      "[step = 30] loss:25589882.975,r2:0.7920665496446662\n",
      "[step = 40] loss:22429369.646875,r2:0.8120250541330659\n"
     ]
    },
    {
     "name": "stderr",
     "output_type": "stream",
     "text": [
      "\r",
      " 66%|████████████████████████████████████████████████████▍                           | 164/250 [00:47<00:26,  3.22it/s]"
     ]
    },
    {
     "name": "stdout",
     "output_type": "stream",
     "text": [
      "[step = 50] loss:23771132.5725,r2:0.7749879428678353\n",
      "[step = 60] loss:23364933.897916667,r2:0.766407985469976\n",
      "[step = 70] loss:23262336.483928572,r2:0.7629239135638778\n",
      "[step = 80] loss:23605602.3671875,r2:0.7606302199659385\n",
      "[step = 90] loss:23638748.41527778,r2:0.7573644139069236\n",
      "[step = 100] loss:23868511.08375,r2:0.7564697468937076\n",
      "epoch = 164,loss = 23079044.90245327,r2 = 0.7657554072175264,val_loss = 18619371.724537037,val_+r2 = 0.7771636409045484\n",
      "[step = 10] loss:21595550.2875,r2:0.7134760490009866\n",
      "[step = 20] loss:25459485.21875,r2:0.7170460097960035\n",
      "[step = 30] loss:25332589.470833335,r2:0.7485591730853638\n",
      "[step = 40] loss:27028808.978125,r2:0.7642537070014298\n",
      "[step = 50] loss:25539641.3525,r2:0.7613129401535056\n",
      "[step = 60] loss:23578496.702083334,r2:0.774565646828746\n",
      "[step = 70] loss:21497106.516071428,r2:0.7766893360042373\n",
      "[step = 80] loss:20719880.18125,r2:0.7750138706207608\n",
      "[step = 90] loss:20610563.808333334,r2:0.7720680178273865\n"
     ]
    },
    {
     "name": "stderr",
     "output_type": "stream",
     "text": [
      "\r",
      " 66%|████████████████████████████████████████████████████▊                           | 165/250 [00:48<00:26,  3.20it/s]"
     ]
    },
    {
     "name": "stdout",
     "output_type": "stream",
     "text": [
      "[step = 100] loss:21817682.10125,r2:0.7613570463359705\n",
      "epoch = 165,loss = 22127060.533878505,r2 = 0.7652059523598489,val_loss = 19091720.62037037,val_+r2 = 0.7807468687244868\n",
      "[step = 10] loss:25646658.15,r2:0.684406979784814\n",
      "[step = 20] loss:19196259.1,r2:0.7237622116635232\n",
      "[step = 30] loss:18448166.85,r2:0.7171512443704102\n",
      "[step = 40] loss:22848246.025,r2:0.6864463366764731\n",
      "[step = 50] loss:22831002.045,r2:0.7063061969090484\n",
      "[step = 60] loss:22464942.610416666,r2:0.724353644858722\n"
     ]
    },
    {
     "name": "stderr",
     "output_type": "stream",
     "text": [
      "\r",
      " 66%|█████████████████████████████████████████████████████                           | 166/250 [00:48<00:26,  3.19it/s]"
     ]
    },
    {
     "name": "stdout",
     "output_type": "stream",
     "text": [
      "[step = 70] loss:22554600.082142856,r2:0.7375038939117786\n",
      "[step = 80] loss:23725961.33125,r2:0.7344069746003363\n",
      "[step = 90] loss:22886327.48888889,r2:0.7326008503642945\n",
      "[step = 100] loss:23324871.63,r2:0.7424827123826023\n",
      "epoch = 166,loss = 22808729.485981308,r2 = 0.7453443456627086,val_loss = 19509252.138888888,val_+r2 = 0.8531097190674274\n",
      "[step = 10] loss:28531409.1625,r2:0.8212033956237349\n",
      "[step = 20] loss:20891609.43125,r2:0.8440781641263919\n",
      "[step = 30] loss:18659521.4125,r2:0.8416122524012123\n",
      "[step = 40] loss:23357281.384375,r2:0.7996746752176062\n",
      "[step = 50] loss:22083050.4925,r2:0.8101660909176793\n",
      "[step = 60] loss:21711722.86875,r2:0.815545336298255\n",
      "[step = 70] loss:22632733.9375,r2:0.7793632898709023\n",
      "[step = 80] loss:21920081.796875,r2:0.7859694129845651\n",
      "[step = 90] loss:22056300.58611111,r2:0.769092812216314\n",
      "[step = 100] loss:22662311.9725,r2:0.7713283567525641\n"
     ]
    },
    {
     "name": "stderr",
     "output_type": "stream",
     "text": [
      "\r",
      " 67%|█████████████████████████████████████████████████████▍                          | 167/250 [00:48<00:26,  3.18it/s]"
     ]
    },
    {
     "name": "stdout",
     "output_type": "stream",
     "text": [
      "epoch = 167,loss = 22534432.62149533,r2 = 0.7708566470363176,val_loss = 19438257.194444444,val_+r2 = 0.7967968228943255\n",
      "[step = 10] loss:36774181.95,r2:0.7008231401985454\n",
      "[step = 20] loss:28766640.4375,r2:0.7380263358577117\n",
      "[step = 30] loss:23325220.25,r2:0.7855063630728247\n",
      "[step = 40] loss:21623660.6375,r2:0.8044497861621391\n",
      "[step = 50] loss:20814876.0525,r2:0.8025573854957159\n",
      "[step = 60] loss:22237007.49375,r2:0.7978827870876782\n",
      "[step = 70] loss:23762876.04464286,r2:0.7828053280998665\n"
     ]
    },
    {
     "name": "stderr",
     "output_type": "stream",
     "text": [
      "\r",
      " 67%|█████████████████████████████████████████████████████▊                          | 168/250 [00:49<00:25,  3.19it/s]"
     ]
    },
    {
     "name": "stdout",
     "output_type": "stream",
     "text": [
      "[step = 80] loss:22690581.9015625,r2:0.794262590284213\n",
      "[step = 90] loss:22924002.993055556,r2:0.7839059729327963\n",
      "[step = 100] loss:22601826.38625,r2:0.7893540806361224\n",
      "epoch = 168,loss = 21899241.22079439,r2 = 0.7891870257315021,val_loss = 19305765.51851852,val_+r2 = 0.738149018419056\n",
      "[step = 10] loss:18176582.225,r2:0.7608718605534164\n",
      "[step = 20] loss:19484392.99375,r2:0.7815747760028771\n",
      "[step = 30] loss:20130757.604166668,r2:0.7747471473566981\n",
      "[step = 40] loss:21048868.865625,r2:0.7747539069469538\n"
     ]
    },
    {
     "name": "stderr",
     "output_type": "stream",
     "text": [
      "\r",
      " 68%|██████████████████████████████████████████████████████                          | 169/250 [00:49<00:25,  3.18it/s]"
     ]
    },
    {
     "name": "stdout",
     "output_type": "stream",
     "text": [
      "[step = 50] loss:21074867.2625,r2:0.7638352723257062\n",
      "[step = 60] loss:22283198.014583334,r2:0.7558764752769915\n",
      "[step = 70] loss:24774839.24107143,r2:0.7423208778301061\n",
      "[step = 80] loss:24621391.3828125,r2:0.7416235792508049\n",
      "[step = 90] loss:23857871.929166667,r2:0.7499036256629938\n",
      "[step = 100] loss:23009756.05,r2:0.7588411450315345\n",
      "epoch = 169,loss = 22292902.920560747,r2 = 0.7560781191630291,val_loss = 20665855.444444444,val_+r2 = 0.7956332794100894\n",
      "[step = 10] loss:23843113.8375,r2:0.6491995394619441\n",
      "[step = 20] loss:24561594.16875,r2:0.7178529041057803\n",
      "[step = 30] loss:22456463.6375,r2:0.7228117650529968\n",
      "[step = 40] loss:23852164.840625,r2:0.715560025133447\n",
      "[step = 50] loss:23270770.18,r2:0.7357161783142524\n",
      "[step = 60] loss:22474333.166666668,r2:0.7539584409823733\n",
      "[step = 70] loss:22435862.1375,r2:0.7566702001249997\n",
      "[step = 80] loss:22418867.6015625,r2:0.7529515290742833\n",
      "[step = 90] loss:23292822.470833335,r2:0.7519021288775523\n"
     ]
    },
    {
     "name": "stderr",
     "output_type": "stream",
     "text": [
      "\r",
      " 68%|██████████████████████████████████████████████████████▍                         | 170/250 [00:49<00:25,  3.17it/s]"
     ]
    },
    {
     "name": "stdout",
     "output_type": "stream",
     "text": [
      "[step = 100] loss:22745742.7775,r2:0.7599679892369109\n",
      "epoch = 170,loss = 23181703.137850467,r2 = 0.7560537302099398,val_loss = 23789633.259259257,val_+r2 = 0.7412480986900477\n",
      "[step = 10] loss:27723031.0,r2:0.8166344070811755\n",
      "[step = 20] loss:25510001.65,r2:0.787784153293595\n",
      "[step = 30] loss:24691295.275,r2:0.7896249357800393\n",
      "[step = 40] loss:25124019.98125,r2:0.7547567913100853\n",
      "[step = 50] loss:23053994.66875,r2:0.768882201622242\n",
      "[step = 60] loss:23444228.238541666,r2:0.7720090560692708\n"
     ]
    },
    {
     "name": "stderr",
     "output_type": "stream",
     "text": [
      "\r",
      " 68%|██████████████████████████████████████████████████████▋                         | 171/250 [00:50<00:24,  3.17it/s]"
     ]
    },
    {
     "name": "stdout",
     "output_type": "stream",
     "text": [
      "[step = 70] loss:23982961.497321427,r2:0.7572665775746784\n",
      "[step = 80] loss:23166564.41015625,r2:0.763542694666624\n",
      "[step = 90] loss:21897471.83263889,r2:0.7723027102204018\n",
      "[step = 100] loss:22152684.666875,r2:0.7660220617051102\n",
      "epoch = 171,loss = 22335987.346378505,r2 = 0.7688271087322823,val_loss = 18738027.740740743,val_+r2 = 0.8213140361197128\n",
      "[step = 10] loss:17677571.125,r2:0.8343288188806447\n",
      "[step = 20] loss:19170895.4625,r2:0.7969575968997573\n",
      "[step = 30] loss:21897247.141666666,r2:0.7778013208101536\n",
      "[step = 40] loss:22370293.39375,r2:0.7986315737291091\n",
      "[step = 50] loss:21885840.14,r2:0.778706141854313\n",
      "[step = 60] loss:22012590.39375,r2:0.772947373812202\n",
      "[step = 70] loss:22318341.70892857,r2:0.770641842602308\n",
      "[step = 80] loss:21944276.8390625,r2:0.7563358857584874\n",
      "[step = 90] loss:21905426.47638889,r2:0.7562533110140257\n",
      "[step = 100] loss:21708627.26375,r2:0.7604043128856207\n"
     ]
    },
    {
     "name": "stderr",
     "output_type": "stream",
     "text": [
      "\r",
      " 69%|███████████████████████████████████████████████████████                         | 172/250 [00:50<00:24,  3.17it/s]"
     ]
    },
    {
     "name": "stdout",
     "output_type": "stream",
     "text": [
      "epoch = 172,loss = 22045330.367406543,r2 = 0.7600331352656347,val_loss = 18825563.407407407,val_+r2 = 0.8128667392193689\n",
      "[step = 10] loss:24574279.45,r2:0.6975424444935204\n",
      "[step = 20] loss:19756282.8875,r2:0.7965614694498241\n",
      "[step = 30] loss:21665466.0625,r2:0.7952687717502671\n",
      "[step = 40] loss:21450756.128125,r2:0.8038310945492787\n",
      "[step = 50] loss:21500619.055,r2:0.8109661538808589\n",
      "[step = 60] loss:23547734.759375,r2:0.8042346872779714\n",
      "[step = 70] loss:21709507.17410714,r2:0.8005386149811002\n"
     ]
    },
    {
     "name": "stderr",
     "output_type": "stream",
     "text": [
      "\r",
      " 69%|███████████████████████████████████████████████████████▎                        | 173/250 [00:50<00:24,  3.17it/s]"
     ]
    },
    {
     "name": "stdout",
     "output_type": "stream",
     "text": [
      "[step = 80] loss:21688022.67890625,r2:0.7874870393508328\n",
      "[step = 90] loss:21371004.447916668,r2:0.7839911151065858\n",
      "[step = 100] loss:21432889.818125,r2:0.7832954500453496\n",
      "epoch = 173,loss = 22265963.269275703,r2 = 0.7748493955247354,val_loss = 20592695.388888888,val_+r2 = 0.7579948980120681\n",
      "[step = 10] loss:25283397.3,r2:0.7842470439969058\n",
      "[step = 20] loss:24190470.95,r2:0.730010299233537\n",
      "[step = 30] loss:23283412.766666666,r2:0.7546960063704802\n",
      "[step = 40] loss:21062298.84375,r2:0.7509437814957356\n"
     ]
    },
    {
     "name": "stderr",
     "output_type": "stream",
     "text": [
      "\r",
      " 70%|███████████████████████████████████████████████████████▋                        | 174/250 [00:51<00:23,  3.18it/s]"
     ]
    },
    {
     "name": "stdout",
     "output_type": "stream",
     "text": [
      "[step = 50] loss:20262936.825,r2:0.7512845795966498\n",
      "[step = 60] loss:18950795.575,r2:0.7718725352350363\n",
      "[step = 70] loss:18986994.122321427,r2:0.768429864105886\n",
      "[step = 80] loss:19034000.28515625,r2:0.7707110440594405\n",
      "[step = 90] loss:20085403.32013889,r2:0.7685429671180339\n",
      "[step = 100] loss:21589682.228125,r2:0.7484154716802947\n",
      "epoch = 174,loss = 22180941.924649533,r2 = 0.7419984993369407,val_loss = 20293333.708333332,val_+r2 = 0.8299861528992756\n",
      "[step = 10] loss:30353379.15,r2:0.525090445496195\n",
      "[step = 20] loss:26259126.3875,r2:0.6101047154605345\n",
      "[step = 30] loss:29635740.541666668,r2:0.5894112245174233\n",
      "[step = 40] loss:27797420.825,r2:0.5833738117919356\n",
      "[step = 50] loss:27952589.535,r2:0.6360733894451209\n",
      "[step = 60] loss:25720495.879166666,r2:0.673227220307698\n",
      "[step = 70] loss:25160660.542857144,r2:0.6996534796485713\n",
      "[step = 80] loss:25232509.778125,r2:0.6970308656786842\n",
      "[step = 90] loss:23581931.668055557,r2:0.7153395886860656\n"
     ]
    },
    {
     "name": "stderr",
     "output_type": "stream",
     "text": [
      "\r",
      " 70%|████████████████████████████████████████████████████████                        | 175/250 [00:51<00:23,  3.18it/s]"
     ]
    },
    {
     "name": "stdout",
     "output_type": "stream",
     "text": [
      "[step = 100] loss:22233795.28375,r2:0.7348127433809905\n",
      "epoch = 175,loss = 21690213.08878505,r2 = 0.7315850772370971,val_loss = 18576713.527777776,val_+r2 = 0.7846870554168691\n",
      "[step = 10] loss:20129405.2625,r2:0.8114026255256425\n",
      "[step = 20] loss:17511846.05625,r2:0.833021331241212\n",
      "[step = 30] loss:23608065.8375,r2:0.8030458158402898\n",
      "[step = 40] loss:23742044.965625,r2:0.7816187045809184\n",
      "[step = 50] loss:21131432.6975,r2:0.7665447997950604\n",
      "[step = 60] loss:22927793.560416665,r2:0.758578607336491\n"
     ]
    },
    {
     "name": "stderr",
     "output_type": "stream",
     "text": [
      "\r",
      " 70%|████████████████████████████████████████████████████████▎                       | 176/250 [00:51<00:24,  3.02it/s]"
     ]
    },
    {
     "name": "stdout",
     "output_type": "stream",
     "text": [
      "[step = 70] loss:22470411.301785715,r2:0.7570255216710963\n",
      "[step = 80] loss:22328836.7078125,r2:0.7600451828628405\n",
      "[step = 90] loss:22278349.940277778,r2:0.7447116591132794\n",
      "[step = 100] loss:22583638.66125,r2:0.740100698184111\n",
      "epoch = 176,loss = 22079971.2114486,r2 = 0.747393740377001,val_loss = 19476582.875,val_+r2 = 0.7946895258126547\n",
      "[step = 10] loss:24671733.45,r2:0.5758353494468568\n",
      "[step = 20] loss:20272719.375,r2:0.6803644641506739\n",
      "[step = 30] loss:22547208.775,r2:0.6883476676629215\n",
      "[step = 40] loss:21022937.04375,r2:0.7086027266002339\n",
      "[step = 50] loss:20631725.085,r2:0.7413352554738495\n",
      "[step = 60] loss:20453802.110416666,r2:0.7583087875200896\n"
     ]
    },
    {
     "name": "stderr",
     "output_type": "stream",
     "text": [
      "\r",
      " 71%|████████████████████████████████████████████████████████▋                       | 177/250 [00:52<00:25,  2.88it/s]"
     ]
    },
    {
     "name": "stdout",
     "output_type": "stream",
     "text": [
      "[step = 70] loss:21060897.63839286,r2:0.7552739476423015\n",
      "[step = 80] loss:19948972.33671875,r2:0.7645037077558363\n",
      "[step = 90] loss:20340291.802083332,r2:0.7606020177204008\n",
      "[step = 100] loss:21638660.906875,r2:0.7577750658600926\n",
      "epoch = 177,loss = 22176264.894275703,r2 = 0.7547144967905567,val_loss = 19037854.0,val_+r2 = 0.8347756702191192\n",
      "[step = 10] loss:24143080.2625,r2:0.7235295327186728\n",
      "[step = 20] loss:28580514.00625,r2:0.7072171590513591\n",
      "[step = 30] loss:21280706.1875,r2:0.7727689997952805\n",
      "[step = 40] loss:25023648.978125,r2:0.7504755037635852\n",
      "[step = 50] loss:23203882.4725,r2:0.7705052374634433\n",
      "[step = 60] loss:22205298.45,r2:0.7872732718798532\n",
      "[step = 70] loss:23034050.97857143,r2:0.7817064881531438\n",
      "[step = 80] loss:22074389.371875,r2:0.7806640520735314\n",
      "[step = 90] loss:21566937.21111111,r2:0.7902027340777171\n"
     ]
    },
    {
     "name": "stderr",
     "output_type": "stream",
     "text": [
      "\r",
      " 71%|████████████████████████████████████████████████████████▉                       | 178/250 [00:52<00:25,  2.84it/s]"
     ]
    },
    {
     "name": "stdout",
     "output_type": "stream",
     "text": [
      "[step = 100] loss:21845408.21125,r2:0.7839467305098761\n",
      "epoch = 178,loss = 22319248.879672896,r2 = 0.7769210708120071,val_loss = 19749063.814814813,val_+r2 = 0.7630916896069823\n",
      "[step = 10] loss:20852891.8,r2:0.7774917815078022\n",
      "[step = 20] loss:19053453.65,r2:0.819577457146625\n",
      "[step = 30] loss:20915826.558333334,r2:0.7814175817390131\n",
      "[step = 40] loss:22473113.2125,r2:0.7721125688989836\n",
      "[step = 50] loss:21533473.39,r2:0.76233256392146\n"
     ]
    },
    {
     "name": "stderr",
     "output_type": "stream",
     "text": [
      "\r",
      " 72%|█████████████████████████████████████████████████████████▎                      | 179/250 [00:52<00:24,  2.86it/s]"
     ]
    },
    {
     "name": "stdout",
     "output_type": "stream",
     "text": [
      "[step = 60] loss:19629876.525,r2:0.7906381070833711\n",
      "[step = 70] loss:20152788.09285714,r2:0.7851721101077949\n",
      "[step = 80] loss:20886458.35625,r2:0.7809289013505547\n",
      "[step = 90] loss:21395905.541666668,r2:0.7679009501763973\n",
      "[step = 100] loss:20935690.6475,r2:0.7653749316239457\n",
      "epoch = 179,loss = 21466325.69859813,r2 = 0.764896413515741,val_loss = 20150691.240740743,val_+r2 = 0.6247253819772551\n",
      "[step = 10] loss:33444486.5,r2:0.813260008595169\n",
      "[step = 20] loss:27486781.7625,r2:0.8191508224883777\n",
      "[step = 30] loss:26009965.633333333,r2:0.8186544376092202\n",
      "[step = 40] loss:24694130.6,r2:0.8125239675381575\n",
      "[step = 50] loss:21940284.3725,r2:0.8172587692950215\n",
      "[step = 60] loss:22680028.835416667,r2:0.7889039473750602\n",
      "[step = 70] loss:22967125.546428572,r2:0.7880965168927431\n",
      "[step = 80] loss:22830965.990625,r2:0.7899935994037326\n"
     ]
    },
    {
     "name": "stderr",
     "output_type": "stream",
     "text": [
      "\r",
      " 72%|█████████████████████████████████████████████████████████▌                      | 180/250 [00:53<00:24,  2.88it/s]"
     ]
    },
    {
     "name": "stdout",
     "output_type": "stream",
     "text": [
      "[step = 90] loss:22587280.236111112,r2:0.7911081842685901\n",
      "[step = 100] loss:21818726.1775,r2:0.7929031610565168\n",
      "epoch = 180,loss = 21610073.221962616,r2 = 0.7856596240874589,val_loss = 18155901.780092593,val_+r2 = 0.8059867395083374\n",
      "[step = 10] loss:22108295.275,r2:0.6486341651419697\n",
      "[step = 20] loss:19939110.525,r2:0.764376660851295\n",
      "[step = 30] loss:20780032.070833333,r2:0.753425043613617\n",
      "[step = 40] loss:18878921.85625,r2:0.7367644524801505\n",
      "[step = 50] loss:20046031.32,r2:0.7514837386811952\n",
      "[step = 60] loss:21391804.860416666,r2:0.7389080347547349\n",
      "[step = 70] loss:21090928.5875,r2:0.7413134420339633\n",
      "[step = 80] loss:21140841.9359375,r2:0.7525918794347156\n",
      "[step = 90] loss:20471301.202777777,r2:0.7523205763872494\n",
      "[step = 100] loss:20660491.6075,r2:0.7553525494871516\n"
     ]
    },
    {
     "name": "stderr",
     "output_type": "stream",
     "text": [
      "\r",
      " 72%|█████████████████████████████████████████████████████████▉                      | 181/250 [00:53<00:24,  2.86it/s]"
     ]
    },
    {
     "name": "stdout",
     "output_type": "stream",
     "text": [
      "epoch = 181,loss = 21258602.86682243,r2 = 0.7543672840285048,val_loss = 20219662.296296295,val_+r2 = 0.8195659845686437\n",
      "[step = 10] loss:28408380.75,r2:0.7046371674690503\n",
      "[step = 20] loss:22304257.9,r2:0.7776557585327338\n",
      "[step = 30] loss:21229934.216666665,r2:0.7518050078223208\n",
      "[step = 40] loss:21511731.928125,r2:0.7742900998698972\n",
      "[step = 50] loss:21667654.5475,r2:0.7841118838832761\n",
      "[step = 60] loss:22066249.364583332,r2:0.7868194767406766\n"
     ]
    },
    {
     "name": "stderr",
     "output_type": "stream",
     "text": [
      "\r",
      " 73%|██████████████████████████████████████████████████████████▏                     | 182/250 [00:53<00:23,  2.86it/s]"
     ]
    },
    {
     "name": "stdout",
     "output_type": "stream",
     "text": [
      "[step = 70] loss:21549589.855357144,r2:0.7844970777886568\n",
      "[step = 80] loss:21281533.273828126,r2:0.7923453338412597\n",
      "[step = 90] loss:20598589.290625,r2:0.7978355980848385\n",
      "[step = 100] loss:21835093.1940625,r2:0.788053046551953\n",
      "epoch = 182,loss = 21779813.672021028,r2 = 0.7747888953076592,val_loss = 29743243.85185185,val_+r2 = 0.7077343483528329\n",
      "[step = 10] loss:26252485.475,r2:0.640532910805405\n",
      "[step = 20] loss:28346636.290625,r2:0.7264861071372598\n",
      "[step = 30] loss:29917498.077083334,r2:0.714407142251621\n",
      "[step = 40] loss:27206879.6703125,r2:0.7096764990133163\n",
      "[step = 50] loss:25655443.63625,r2:0.7052705430128614\n",
      "[step = 60] loss:25940450.838541668,r2:0.6863819074128762\n",
      "[step = 70] loss:24870899.547321428,r2:0.7014932271191944\n",
      "[step = 80] loss:24288039.44453125,r2:0.7090059520325986\n",
      "[step = 90] loss:22597444.20902778,r2:0.7331930996456643\n"
     ]
    },
    {
     "name": "stderr",
     "output_type": "stream",
     "text": [
      "\r",
      " 73%|██████████████████████████████████████████████████████████▌                     | 183/250 [00:54<00:23,  2.84it/s]"
     ]
    },
    {
     "name": "stdout",
     "output_type": "stream",
     "text": [
      "[step = 100] loss:22150384.763125,r2:0.7408966443201731\n",
      "epoch = 183,loss = 22252317.388434578,r2 = 0.7431633478251306,val_loss = 19838748.777777776,val_+r2 = 0.7504758853645074\n",
      "[step = 10] loss:15274064.275,r2:0.8870930318138133\n",
      "[step = 20] loss:20091678.4625,r2:0.7659304309036143\n",
      "[step = 30] loss:20960757.408333335,r2:0.7730760580490983\n",
      "[step = 40] loss:20246662.7125,r2:0.7567385602832652\n",
      "[step = 50] loss:18661141.95875,r2:0.7773032090311411\n"
     ]
    },
    {
     "name": "stderr",
     "output_type": "stream",
     "text": [
      "\r",
      " 74%|██████████████████████████████████████████████████████████▉                     | 184/250 [00:54<00:23,  2.84it/s]"
     ]
    },
    {
     "name": "stdout",
     "output_type": "stream",
     "text": [
      "[step = 60] loss:18537422.857291665,r2:0.7892988694504982\n",
      "[step = 70] loss:18906103.82589286,r2:0.7926060084032314\n",
      "[step = 80] loss:18771950.76171875,r2:0.7827258417441383\n",
      "[step = 90] loss:18888840.425694443,r2:0.792324109579317\n",
      "[step = 100] loss:19572363.060625,r2:0.7924804376188815\n",
      "epoch = 184,loss = 21041847.514602803,r2 = 0.7830320740423208,val_loss = 28132780.277777776,val_+r2 = 0.6672441062592133\n",
      "[step = 10] loss:15532800.475,r2:0.7379107255422894\n",
      "[step = 20] loss:19520128.81875,r2:0.7609810416034559\n",
      "[step = 30] loss:17457575.208333332,r2:0.7682353689784626\n",
      "[step = 40] loss:21261094.5640625,r2:0.7849353386165707\n",
      "[step = 50] loss:21935124.36125,r2:0.7838013248634748\n",
      "[step = 60] loss:21885301.888541665,r2:0.7525683602599175\n",
      "[step = 70] loss:22029572.37589286,r2:0.7653307179683142\n"
     ]
    },
    {
     "name": "stderr",
     "output_type": "stream",
     "text": [
      "\r",
      " 74%|███████████████████████████████████████████████████████████▏                    | 185/250 [00:55<00:22,  2.88it/s]"
     ]
    },
    {
     "name": "stdout",
     "output_type": "stream",
     "text": [
      "[step = 80] loss:23801361.92265625,r2:0.7562367728610022\n",
      "[step = 90] loss:23523216.664583333,r2:0.765354843168885\n",
      "[step = 100] loss:23082505.468125,r2:0.7690539698022743\n",
      "epoch = 185,loss = 23271291.18516355,r2 = 0.7726330111893782,val_loss = 18452845.722222224,val_+r2 = 0.7762638846580965\n",
      "[step = 10] loss:14933678.025,r2:0.8103705068092617\n",
      "[step = 20] loss:19279735.1875,r2:0.7758687587740789\n",
      "[step = 30] loss:16665157.320833333,r2:0.7802721738760855\n",
      "[step = 40] loss:16763965.028125,r2:0.8003673748608513\n",
      "[step = 50] loss:19082955.9575,r2:0.7683875038609966\n",
      "[step = 60] loss:19731592.047916666,r2:0.7723691652364633\n",
      "[step = 70] loss:21023057.51785714,r2:0.7709819624369852\n",
      "[step = 80] loss:21265341.453125,r2:0.7521878505440704\n",
      "[step = 90] loss:22043394.680555556,r2:0.750152426005113\n",
      "[step = 100] loss:21229095.005,r2:0.7570974431651204\n"
     ]
    },
    {
     "name": "stderr",
     "output_type": "stream",
     "text": [
      "\r",
      " 74%|███████████████████████████████████████████████████████████▌                    | 186/250 [00:55<00:22,  2.89it/s]"
     ]
    },
    {
     "name": "stdout",
     "output_type": "stream",
     "text": [
      "epoch = 186,loss = 21067589.28037383,r2 = 0.7607327883612363,val_loss = 18914010.657407407,val_+r2 = 0.8361213469137451\n",
      "[step = 10] loss:19775074.875,r2:0.731520277402892\n",
      "[step = 20] loss:20002557.3875,r2:0.7673987013189494\n",
      "[step = 30] loss:16941353.883333333,r2:0.8139787270338305\n",
      "[step = 40] loss:19377302.81875,r2:0.773570395110523\n",
      "[step = 50] loss:19547740.025,r2:0.7865779282712465\n",
      "[step = 60] loss:19209348.9875,r2:0.7747046033835846\n"
     ]
    },
    {
     "name": "stderr",
     "output_type": "stream",
     "text": [
      "\r",
      " 75%|███████████████████████████████████████████████████████████▊                    | 187/250 [00:55<00:21,  2.90it/s]"
     ]
    },
    {
     "name": "stdout",
     "output_type": "stream",
     "text": [
      "[step = 70] loss:18860451.24910714,r2:0.7800381578332054\n",
      "[step = 80] loss:18843430.26796875,r2:0.7851471017404242\n",
      "[step = 90] loss:18176462.984027777,r2:0.7940975333245135\n",
      "[step = 100] loss:20692467.235625,r2:0.7843625033436378\n",
      "epoch = 187,loss = 21842731.80899533,r2 = 0.7668326970788154,val_loss = 19206725.888888888,val_+r2 = 0.8199822702773767\n",
      "[step = 10] loss:23450874.55,r2:0.7202068529090098\n",
      "[step = 20] loss:17747324.59375,r2:0.7516654204389154\n",
      "[step = 30] loss:21684853.2875,r2:0.746312279950964\n",
      "[step = 40] loss:23769403.028125,r2:0.7531994476018559\n",
      "[step = 50] loss:21885133.65,r2:0.7734896833722926\n",
      "[step = 60] loss:21873840.890625,r2:0.7629579426648891\n",
      "[step = 70] loss:21337866.566964287,r2:0.7594107463056181\n",
      "[step = 80] loss:21049043.10390625,r2:0.7645162850988543\n",
      "[step = 90] loss:20270256.378472224,r2:0.7798678504781216\n",
      "[step = 100] loss:22395304.550625,r2:0.7593829536131598\n"
     ]
    },
    {
     "name": "stderr",
     "output_type": "stream",
     "text": [
      "\r",
      " 75%|████████████████████████████████████████████████████████████▏                   | 188/250 [00:56<00:21,  2.92it/s]"
     ]
    },
    {
     "name": "stdout",
     "output_type": "stream",
     "text": [
      "epoch = 188,loss = 22371955.82067757,r2 = 0.7586099258791071,val_loss = 21534632.666666668,val_+r2 = 0.7918482240745938\n",
      "[step = 10] loss:24792361.05,r2:0.7949853459821556\n",
      "[step = 20] loss:29405262.05,r2:0.7309794929630138\n",
      "[step = 30] loss:26450849.925,r2:0.7260983590553823\n",
      "[step = 40] loss:24081103.86875,r2:0.7453422413927627\n",
      "[step = 50] loss:23339353.99,r2:0.7527921107939248\n",
      "[step = 60] loss:21033628.9375,r2:0.7776928515626801\n",
      "[step = 70] loss:20866236.546428572,r2:0.7706045843615206\n"
     ]
    },
    {
     "name": "stderr",
     "output_type": "stream",
     "text": [
      "\r",
      " 76%|████████████████████████████████████████████████████████████▍                   | 189/250 [00:56<00:20,  2.94it/s]"
     ]
    },
    {
     "name": "stdout",
     "output_type": "stream",
     "text": [
      "[step = 80] loss:21904365.371875,r2:0.7608975267995174\n",
      "[step = 90] loss:21565713.616666667,r2:0.7659043793619859\n",
      "[step = 100] loss:21176664.6175,r2:0.7686702003404905\n",
      "epoch = 189,loss = 21281338.93457944,r2 = 0.7672824069643628,val_loss = 19782440.99537037,val_+r2 = 0.8039168116655392\n",
      "[step = 10] loss:21108261.3625,r2:0.7676427719831382\n",
      "[step = 20] loss:21597058.23125,r2:0.7478726093725491\n",
      "[step = 30] loss:18293616.4,r2:0.7725403565900688\n",
      "[step = 40] loss:17870139.596875,r2:0.7715606369873784\n"
     ]
    },
    {
     "name": "stderr",
     "output_type": "stream",
     "text": [
      "\r",
      " 76%|████████████████████████████████████████████████████████████▊                   | 190/250 [00:56<00:20,  2.95it/s]"
     ]
    },
    {
     "name": "stdout",
     "output_type": "stream",
     "text": [
      "[step = 50] loss:20911175.075,r2:0.7377830184667515\n",
      "[step = 60] loss:20547834.804166667,r2:0.7409401527642675\n",
      "[step = 70] loss:20972657.55357143,r2:0.7014180669069273\n",
      "[step = 80] loss:20779146.653125,r2:0.7218405867596285\n",
      "[step = 90] loss:20576998.338888887,r2:0.7379443872665506\n",
      "[step = 100] loss:20827583.28625,r2:0.7478300509105381\n",
      "epoch = 190,loss = 21433634.141355142,r2 = 0.7430274386482695,val_loss = 18729237.12037037,val_+r2 = 0.8186867033308312\n",
      "[step = 10] loss:20378270.8375,r2:0.6797466599224862\n",
      "[step = 20] loss:17077081.15625,r2:0.7462466197656773\n",
      "[step = 30] loss:16316243.829166668,r2:0.7796971431816347\n",
      "[step = 40] loss:14829864.703125,r2:0.7865454949215848\n",
      "[step = 50] loss:16951740.5775,r2:0.7929935690388399\n",
      "[step = 60] loss:18119752.33125,r2:0.7822256706541816\n",
      "[step = 70] loss:20136517.764285713,r2:0.7650666036065881\n"
     ]
    },
    {
     "name": "stderr",
     "output_type": "stream",
     "text": [
      "\r",
      " 76%|█████████████████████████████████████████████████████████████                   | 191/250 [00:57<00:20,  2.95it/s]"
     ]
    },
    {
     "name": "stdout",
     "output_type": "stream",
     "text": [
      "[step = 80] loss:20515374.0,r2:0.7479982962061641\n",
      "[step = 90] loss:21121179.277777776,r2:0.7515473037965794\n",
      "[step = 100] loss:21691385.225,r2:0.7561611850873042\n",
      "epoch = 191,loss = 21151652.495327104,r2 = 0.7644771139667347,val_loss = 19075252.51851852,val_+r2 = 0.7152289117109659\n",
      "[step = 10] loss:27167989.5,r2:0.6753675867756225\n",
      "[step = 20] loss:21796636.14375,r2:0.76202758278897\n",
      "[step = 30] loss:21849729.633333333,r2:0.7797060113774912\n",
      "[step = 40] loss:20306251.634375,r2:0.8027666143659129\n",
      "[step = 50] loss:21789133.74,r2:0.7868089912816649\n",
      "[step = 60] loss:23041615.491666667,r2:0.7781290276992039\n",
      "[step = 70] loss:21237775.523214284,r2:0.7860315320852459\n",
      "[step = 80] loss:20652693.88359375,r2:0.7783522905050134\n",
      "[step = 90] loss:20877283.010416668,r2:0.7827879910220727\n",
      "[step = 100] loss:20031527.758125,r2:0.7873078548968229\n"
     ]
    },
    {
     "name": "stderr",
     "output_type": "stream",
     "text": [
      "\r",
      " 77%|█████████████████████████████████████████████████████████████▍                  | 192/250 [00:57<00:19,  2.96it/s]"
     ]
    },
    {
     "name": "stdout",
     "output_type": "stream",
     "text": [
      "epoch = 192,loss = 21149924.87441589,r2 = 0.7842615632386171,val_loss = 19010771.759259257,val_+r2 = 0.820736081089285\n",
      "[step = 10] loss:19270820.4,r2:0.7710018627463074\n",
      "[step = 20] loss:22818777.55,r2:0.7095024996321541\n",
      "[step = 30] loss:21740122.975,r2:0.7287579417874973\n",
      "[step = 40] loss:22961580.41875,r2:0.7556137528173502\n",
      "[step = 50] loss:21552749.325,r2:0.7570568172397562\n",
      "[step = 60] loss:20952450.297916666,r2:0.7585021253943118\n",
      "[step = 70] loss:20212785.34285714,r2:0.7409473359805437\n"
     ]
    },
    {
     "name": "stderr",
     "output_type": "stream",
     "text": [
      "\r",
      " 77%|█████████████████████████████████████████████████████████████▊                  | 193/250 [00:57<00:19,  2.96it/s]"
     ]
    },
    {
     "name": "stdout",
     "output_type": "stream",
     "text": [
      "[step = 80] loss:19963164.815625,r2:0.7538316207567446\n",
      "[step = 90] loss:19162848.55277778,r2:0.7690810200646679\n",
      "[step = 100] loss:20028090.925,r2:0.7673947911782267\n",
      "epoch = 193,loss = 20756755.48130841,r2 = 0.7715160189788741,val_loss = 20125407.055555556,val_+r2 = 0.7978340603826483\n",
      "[step = 10] loss:20177435.375,r2:0.8240768074267006\n",
      "[step = 20] loss:18963262.0875,r2:0.8237887959398197\n",
      "[step = 30] loss:17661583.341666665,r2:0.7973809621469935\n",
      "[step = 40] loss:16160245.58125,r2:0.8020471641561627\n",
      "[step = 50] loss:16826494.275,r2:0.785101324075676\n",
      "[step = 60] loss:22061229.0125,r2:0.766069584696884\n",
      "[step = 70] loss:21073142.910714287,r2:0.7880494076985282\n",
      "[step = 80] loss:19872447.4140625,r2:0.7955758194824428\n",
      "[step = 90] loss:20872543.40763889,r2:0.7975425740730584\n",
      "[step = 100] loss:21112686.086875,r2:0.7947904620891002\n"
     ]
    },
    {
     "name": "stderr",
     "output_type": "stream",
     "text": [
      "\r",
      " 78%|██████████████████████████████████████████████████████████████                  | 194/250 [00:58<00:18,  2.97it/s]"
     ]
    },
    {
     "name": "stdout",
     "output_type": "stream",
     "text": [
      "epoch = 194,loss = 21695376.415303737,r2 = 0.7936029509807901,val_loss = 19417004.425925925,val_+r2 = 0.8009394214997348\n",
      "[step = 10] loss:16508865.05,r2:0.6856975415737828\n",
      "[step = 20] loss:16111374.05625,r2:0.7144999619748139\n",
      "[step = 30] loss:17018661.170833334,r2:0.741325757687656\n",
      "[step = 40] loss:16583177.3734375,r2:0.7472283376901772\n",
      "[step = 50] loss:17626627.06375,r2:0.7459469909433739\n",
      "[step = 60] loss:18389092.144791666,r2:0.7608911050090349\n",
      "[step = 70] loss:19604808.609821428,r2:0.7651111789575262\n"
     ]
    },
    {
     "name": "stderr",
     "output_type": "stream",
     "text": [
      "\r",
      " 78%|██████████████████████████████████████████████████████████████▍                 | 195/250 [00:58<00:18,  2.97it/s]"
     ]
    },
    {
     "name": "stdout",
     "output_type": "stream",
     "text": [
      "[step = 80] loss:21234328.79609375,r2:0.7509383134239765\n",
      "[step = 90] loss:20931480.75902778,r2:0.7567970234762875\n",
      "[step = 100] loss:20511412.115625,r2:0.7563874479809582\n",
      "epoch = 195,loss = 21008438.365070093,r2 = 0.747154529985893,val_loss = 18882996.98148148,val_+r2 = 0.7815887914852239\n",
      "[step = 10] loss:19211910.55,r2:0.7817748852071482\n",
      "[step = 20] loss:18081166.59375,r2:0.8250827735919884\n",
      "[step = 30] loss:20043685.7875,r2:0.8211682455974763\n",
      "[step = 40] loss:20805801.684375,r2:0.7749726586147296\n"
     ]
    },
    {
     "name": "stderr",
     "output_type": "stream",
     "text": [
      "\r",
      " 78%|██████████████████████████████████████████████████████████████▋                 | 196/250 [00:58<00:18,  2.95it/s]"
     ]
    },
    {
     "name": "stdout",
     "output_type": "stream",
     "text": [
      "[step = 50] loss:21101491.46,r2:0.7869653017399568\n",
      "[step = 60] loss:22914458.366666667,r2:0.7581020188248776\n",
      "[step = 70] loss:22263583.864285715,r2:0.76327178072563\n",
      "[step = 80] loss:21680364.5046875,r2:0.7657633641320218\n",
      "[step = 90] loss:21367398.1375,r2:0.7737800137282552\n",
      "[step = 100] loss:21334316.66875,r2:0.7610039037564181\n",
      "epoch = 196,loss = 20733030.081775703,r2 = 0.7651835697750939,val_loss = 19183368.657407407,val_+r2 = 0.7285530730206474\n",
      "[step = 10] loss:23600659.9625,r2:0.7697554744004955\n",
      "[step = 20] loss:24700332.00625,r2:0.7159305328995551\n",
      "[step = 30] loss:25953099.729166668,r2:0.7380866014132086\n",
      "[step = 40] loss:25193370.1375,r2:0.7380077026519714\n",
      "[step = 50] loss:24648644.495,r2:0.7408610741463458\n",
      "[step = 60] loss:25006568.6125,r2:0.7352474460403488\n",
      "[step = 70] loss:24239051.6,r2:0.7273293720752835\n"
     ]
    },
    {
     "name": "stderr",
     "output_type": "stream",
     "text": [
      "\r",
      " 79%|███████████████████████████████████████████████████████████████                 | 197/250 [00:59<00:17,  2.95it/s]"
     ]
    },
    {
     "name": "stdout",
     "output_type": "stream",
     "text": [
      "[step = 80] loss:22802084.265625,r2:0.7467091563591806\n",
      "[step = 90] loss:21877604.95,r2:0.7538843190218093\n",
      "[step = 100] loss:20553585.1725,r2:0.7681449179748954\n",
      "epoch = 197,loss = 20817007.08878505,r2 = 0.773099797316526,val_loss = 18768370.861111112,val_+r2 = 0.8176115383611223\n",
      "[step = 10] loss:16327337.95,r2:0.8363964164223324\n",
      "[step = 20] loss:16636735.4875,r2:0.7930216699589601\n",
      "[step = 30] loss:20103678.258333333,r2:0.7313893377436086\n",
      "[step = 40] loss:18477628.03125,r2:0.7490446619026032\n"
     ]
    },
    {
     "name": "stderr",
     "output_type": "stream",
     "text": [
      "\r",
      " 79%|███████████████████████████████████████████████████████████████▎                | 198/250 [00:59<00:17,  2.97it/s]"
     ]
    },
    {
     "name": "stdout",
     "output_type": "stream",
     "text": [
      "[step = 50] loss:18299422.3775,r2:0.7718360299687592\n",
      "[step = 60] loss:19420677.93125,r2:0.7591344442464234\n",
      "[step = 70] loss:20127389.326785713,r2:0.753133266475481\n",
      "[step = 80] loss:22269669.9953125,r2:0.7475744089715974\n",
      "[step = 90] loss:21521998.409722224,r2:0.7636328578898185\n",
      "[step = 100] loss:21849869.4275,r2:0.7601546765594774\n",
      "epoch = 198,loss = 21693979.478971962,r2 = 0.7675286974201022,val_loss = 19471381.916666668,val_+r2 = 0.7473413840562307\n",
      "[step = 10] loss:6947460.525,r2:0.8000048849384255\n",
      "[step = 20] loss:12536734.11875,r2:0.8034207319625443\n",
      "[step = 30] loss:18087261.4125,r2:0.7388341838755679\n",
      "[step = 40] loss:17942783.159375,r2:0.7321643480532115\n",
      "[step = 50] loss:18493577.82,r2:0.7445947896186886\n",
      "[step = 60] loss:19300935.954166666,r2:0.7317439860984062\n",
      "[step = 70] loss:20687692.76785714,r2:0.7453755699504964\n"
     ]
    },
    {
     "name": "stderr",
     "output_type": "stream",
     "text": [
      "\r",
      " 80%|███████████████████████████████████████████████████████████████▋                | 199/250 [00:59<00:17,  2.95it/s]"
     ]
    },
    {
     "name": "stdout",
     "output_type": "stream",
     "text": [
      "[step = 80] loss:19968592.73125,r2:0.7634094266882148\n",
      "[step = 90] loss:20655643.169444446,r2:0.7625794750422514\n",
      "[step = 100] loss:20496065.1275,r2:0.7573037421887926\n",
      "epoch = 199,loss = 20481602.33878505,r2 = 0.7577144424376713,val_loss = 19171819.787037037,val_+r2 = 0.7496042469190903\n",
      "[step = 10] loss:14736841.575,r2:0.8442741163120381\n",
      "[step = 20] loss:14463241.46875,r2:0.8560073812367994\n",
      "[step = 30] loss:16048584.5875,r2:0.858440975767026\n",
      "[step = 40] loss:17326684.303125,r2:0.8207343390976783\n",
      "[step = 50] loss:21967877.9975,r2:0.7947981062580822\n",
      "[step = 60] loss:21735837.102083333,r2:0.8080057128246221\n",
      "[step = 70] loss:20939620.414285716,r2:0.8049365280239433\n",
      "[step = 80] loss:21279259.01875,r2:0.781409555944107\n",
      "[step = 90] loss:21461511.0,r2:0.754237946794461\n",
      "[step = 100] loss:20809075.4875,r2:0.7592283499317424\n"
     ]
    },
    {
     "name": "stderr",
     "output_type": "stream",
     "text": [
      "\r",
      " 80%|████████████████████████████████████████████████████████████████                | 200/250 [01:00<00:16,  2.95it/s]"
     ]
    },
    {
     "name": "stdout",
     "output_type": "stream",
     "text": [
      "epoch = 200,loss = 20559453.88084112,r2 = 0.7642217376207998,val_loss = 19377503.87037037,val_+r2 = 0.7686316582316375\n",
      "[step = 10] loss:19190579.9875,r2:0.8099756188963086\n",
      "[step = 20] loss:19310075.73125,r2:0.8086255951179158\n",
      "[step = 30] loss:23750871.6625,r2:0.801664010632455\n",
      "[step = 40] loss:25851517.559375,r2:0.7684795034949288\n",
      "[step = 50] loss:23359602.33,r2:0.7961534051357979\n",
      "[step = 60] loss:23503524.375,r2:0.7898222943489245\n"
     ]
    },
    {
     "name": "stderr",
     "output_type": "stream",
     "text": [
      "\r",
      " 80%|████████████████████████████████████████████████████████████████▎               | 201/250 [01:00<00:16,  2.94it/s]"
     ]
    },
    {
     "name": "stdout",
     "output_type": "stream",
     "text": [
      "[step = 70] loss:23444591.01785714,r2:0.7840647921671152\n",
      "[step = 80] loss:22355737.93125,r2:0.7875737784611263\n",
      "[step = 90] loss:21212088.7,r2:0.7838684100663307\n",
      "[step = 100] loss:20722647.1275,r2:0.790368179591501\n",
      "epoch = 201,loss = 21442095.792056076,r2 = 0.7751765953517736,val_loss = 19019567.703703705,val_+r2 = 0.7845928041428442\n",
      "[step = 10] loss:19194908.35,r2:0.8170179473950894\n",
      "[step = 20] loss:21099077.175,r2:0.7837738128382069\n",
      "[step = 30] loss:20864607.029166665,r2:0.8055154002900963\n",
      "[step = 40] loss:19698030.590625,r2:0.7665252687792087\n",
      "[step = 50] loss:18930185.4825,r2:0.7978707529075797\n",
      "[step = 60] loss:19520722.235416666,r2:0.7881794980460816\n",
      "[step = 70] loss:21834320.59464286,r2:0.7723176035844856\n",
      "[step = 80] loss:22519164.4328125,r2:0.7734498280959682\n",
      "[step = 90] loss:21515405.656944446,r2:0.7842995752038948\n",
      "[step = 100] loss:20898943.89875,r2:0.7865940729769855\n"
     ]
    },
    {
     "name": "stderr",
     "output_type": "stream",
     "text": [
      "\r",
      " 81%|████████████████████████████████████████████████████████████████▋               | 202/250 [01:00<00:16,  2.95it/s]"
     ]
    },
    {
     "name": "stdout",
     "output_type": "stream",
     "text": [
      "epoch = 202,loss = 21126895.765186917,r2 = 0.7850698392548768,val_loss = 18313483.458333332,val_+r2 = 0.7380764256363627\n",
      "[step = 10] loss:21586021.7125,r2:0.7478086174962754\n",
      "[step = 20] loss:23708528.20625,r2:0.7239935886555889\n",
      "[step = 30] loss:21940769.970833335,r2:0.7119987942361699\n",
      "[step = 40] loss:21058609.128125,r2:0.7522271336679581\n",
      "[step = 50] loss:19926594.005,r2:0.7659191605936886\n",
      "[step = 60] loss:19481692.666666668,r2:0.7856362054145072\n",
      "[step = 70] loss:19763964.614285715,r2:0.7700754483340432\n"
     ]
    },
    {
     "name": "stderr",
     "output_type": "stream",
     "text": [
      "\r",
      " 81%|████████████████████████████████████████████████████████████████▉               | 203/250 [01:01<00:15,  2.98it/s]"
     ]
    },
    {
     "name": "stdout",
     "output_type": "stream",
     "text": [
      "[step = 80] loss:19806722.565625,r2:0.7760063139693905\n",
      "[step = 90] loss:20751316.588888887,r2:0.7788704342814989\n",
      "[step = 100] loss:19825930.67875,r2:0.7896727469323349\n",
      "epoch = 203,loss = 20207827.58995327,r2 = 0.7895224821645522,val_loss = 18530695.759259257,val_+r2 = 0.7686276015748971\n",
      "[step = 10] loss:14334819.4,r2:0.8186689685291935\n",
      "[step = 20] loss:15907828.825,r2:0.8264710089501544\n",
      "[step = 30] loss:16814572.316666666,r2:0.8004381591152643\n",
      "[step = 40] loss:17622863.0125,r2:0.8072569464466547\n",
      "[step = 50] loss:17213943.59,r2:0.805449386030034\n",
      "[step = 60] loss:17980187.833333332,r2:0.7992736596522175\n",
      "[step = 70] loss:17911785.914285716,r2:0.795609235868243\n",
      "[step = 80] loss:18407035.6875,r2:0.7965032474675282\n",
      "[step = 90] loss:18800806.330555554,r2:0.7926668369494456\n",
      "[step = 100] loss:19747116.6375,r2:0.7821869532711356\n"
     ]
    },
    {
     "name": "stderr",
     "output_type": "stream",
     "text": [
      "\r",
      " 82%|█████████████████████████████████████████████████████████████████▎              | 204/250 [01:01<00:15,  2.98it/s]"
     ]
    },
    {
     "name": "stdout",
     "output_type": "stream",
     "text": [
      "epoch = 204,loss = 19861965.376168225,r2 = 0.7828691596991034,val_loss = 19033995.703703705,val_+r2 = 0.8098374840654827\n",
      "[step = 10] loss:8885117.275,r2:0.8747462157048339\n",
      "[step = 20] loss:9425855.99375,r2:0.8503640626920417\n",
      "[step = 30] loss:15042142.404166667,r2:0.8353147714711233\n",
      "[step = 40] loss:14191249.509375,r2:0.8214590530860258\n",
      "[step = 50] loss:17303303.3975,r2:0.8085396000521741\n",
      "[step = 60] loss:17150632.739583332,r2:0.7958139427474683\n"
     ]
    },
    {
     "name": "stderr",
     "output_type": "stream",
     "text": [
      "\r",
      " 82%|█████████████████████████████████████████████████████████████████▌              | 205/250 [01:01<00:15,  2.97it/s]"
     ]
    },
    {
     "name": "stdout",
     "output_type": "stream",
     "text": [
      "[step = 70] loss:18598686.8,r2:0.7871516346317313\n",
      "[step = 80] loss:20363528.1625,r2:0.7546926693141169\n",
      "[step = 90] loss:21296130.695833333,r2:0.7611493510500363\n",
      "[step = 100] loss:21212019.2325,r2:0.765733841034378\n",
      "epoch = 205,loss = 21263380.441588785,r2 = 0.7692768065286517,val_loss = 18750332.62962963,val_+r2 = 0.7717350700245327\n",
      "[step = 10] loss:21658172.6,r2:0.8119514890081314\n",
      "[step = 20] loss:18813400.1,r2:0.7362712193423513\n",
      "[step = 30] loss:19556743.075,r2:0.7636116273446435\n",
      "[step = 40] loss:18376635.675,r2:0.7939316315419758\n",
      "[step = 50] loss:19313698.335,r2:0.8029363046096823\n",
      "[step = 60] loss:18477844.445833333,r2:0.8126292466732735\n",
      "[step = 70] loss:18447857.989285715,r2:0.8185140157135679\n",
      "[step = 80] loss:18106461.315625,r2:0.8183459059623985\n",
      "[step = 90] loss:20203114.558333334,r2:0.8101436390579587\n"
     ]
    },
    {
     "name": "stderr",
     "output_type": "stream",
     "text": [
      "\r",
      " 82%|█████████████████████████████████████████████████████████████████▉              | 206/250 [01:02<00:14,  2.96it/s]"
     ]
    },
    {
     "name": "stdout",
     "output_type": "stream",
     "text": [
      "[step = 100] loss:21401840.375,r2:0.7807379519223329\n",
      "epoch = 206,loss = 20878304.37149533,r2 = 0.7826342817361905,val_loss = 20362432.01851852,val_+r2 = 0.8233796326154753\n",
      "[step = 10] loss:18600494.325,r2:0.7593507169124791\n",
      "[step = 20] loss:18166030.91875,r2:0.7303461784452592\n",
      "[step = 30] loss:17093166.454166666,r2:0.7750093345960571\n",
      "[step = 40] loss:17795574.553125,r2:0.7754131051727188\n",
      "[step = 50] loss:16901509.54375,r2:0.7899972295451095\n"
     ]
    },
    {
     "name": "stderr",
     "output_type": "stream",
     "text": [
      "\r",
      " 83%|██████████████████████████████████████████████████████████████████▏             | 207/250 [01:02<00:14,  2.98it/s]"
     ]
    },
    {
     "name": "stdout",
     "output_type": "stream",
     "text": [
      "[step = 60] loss:15886647.298958333,r2:0.8071104009709925\n",
      "[step = 70] loss:17196669.533035714,r2:0.7870174906090247\n",
      "[step = 80] loss:18760897.29765625,r2:0.7864169656101186\n",
      "[step = 90] loss:20176757.064583335,r2:0.7735122044427157\n",
      "[step = 100] loss:20116091.78625,r2:0.7801018355591915\n",
      "epoch = 207,loss = 20839902.772196263,r2 = 0.7764887568082791,val_loss = 19811909.722222224,val_+r2 = 0.7413249168710186\n",
      "[step = 10] loss:22441552.95,r2:0.8005250090140124\n",
      "[step = 20] loss:21406668.3125,r2:0.7662264587061223\n",
      "[step = 30] loss:22566539.475,r2:0.7809097271340586\n",
      "[step = 40] loss:23281333.828125,r2:0.7865314067002419\n",
      "[step = 50] loss:22335438.1525,r2:0.7584715616055345\n",
      "[step = 60] loss:21929634.189583335,r2:0.7560572679548309\n",
      "[step = 70] loss:22070009.141071428,r2:0.7682619534891977\n",
      "[step = 80] loss:22272045.08828125,r2:0.7655033319476446\n"
     ]
    },
    {
     "name": "stderr",
     "output_type": "stream",
     "text": [
      "\r",
      " 83%|██████████████████████████████████████████████████████████████████▌             | 208/250 [01:02<00:14,  2.99it/s]"
     ]
    },
    {
     "name": "stdout",
     "output_type": "stream",
     "text": [
      "[step = 90] loss:21385365.770833332,r2:0.7735951769161883\n",
      "[step = 100] loss:22077428.78875,r2:0.7714640833208474\n",
      "epoch = 208,loss = 22051714.22546729,r2 = 0.7784233023345177,val_loss = 19506238.458333332,val_+r2 = 0.7991927368058427\n",
      "[step = 10] loss:25842371.225,r2:0.7582759593352539\n",
      "[step = 20] loss:26728361.5625,r2:0.7456187436831703\n",
      "[step = 30] loss:24218429.079166666,r2:0.747769030684995\n",
      "[step = 40] loss:23923856.678125,r2:0.7210713177573359\n"
     ]
    },
    {
     "name": "stderr",
     "output_type": "stream",
     "text": [
      "\r",
      " 84%|██████████████████████████████████████████████████████████████████▉             | 209/250 [01:03<00:13,  3.00it/s]"
     ]
    },
    {
     "name": "stdout",
     "output_type": "stream",
     "text": [
      "[step = 50] loss:21147317.4325,r2:0.7554835251156011\n",
      "[step = 60] loss:20098716.104166668,r2:0.7756427295170749\n",
      "[step = 70] loss:19064806.23660714,r2:0.7899942470383966\n",
      "[step = 80] loss:19380559.66328125,r2:0.8013542842487095\n",
      "[step = 90] loss:19831341.43125,r2:0.7913488464782925\n",
      "[step = 100] loss:19563628.651875,r2:0.7969084325856395\n",
      "epoch = 209,loss = 20188103.987733644,r2 = 0.7960978197890689,val_loss = 18995997.944444444,val_+r2 = 0.8266923000133919\n",
      "[step = 10] loss:17403234.3,r2:0.8181677113564957\n",
      "[step = 20] loss:22895021.625,r2:0.803589037021762\n",
      "[step = 30] loss:26215995.316666666,r2:0.7871119744578389\n",
      "[step = 40] loss:26252053.56875,r2:0.7268717349200688\n",
      "[step = 50] loss:24725072.055,r2:0.750368767423109\n",
      "[step = 60] loss:23423949.375,r2:0.7665937178703569\n",
      "[step = 70] loss:23296844.082142856,r2:0.764994915531055\n"
     ]
    },
    {
     "name": "stderr",
     "output_type": "stream",
     "text": [
      "\r",
      " 84%|███████████████████████████████████████████████████████████████████▏            | 210/250 [01:03<00:13,  2.96it/s]"
     ]
    },
    {
     "name": "stdout",
     "output_type": "stream",
     "text": [
      "[step = 80] loss:22311991.26875,r2:0.7770056200589468\n",
      "[step = 90] loss:21847039.05,r2:0.7801535312901211\n",
      "[step = 100] loss:20590619.77625,r2:0.7831075015725051\n",
      "epoch = 210,loss = 20948523.310747664,r2 = 0.786219189037972,val_loss = 18548090.412037037,val_+r2 = 0.7966105227291602\n",
      "[step = 10] loss:8564076.75,r2:0.8827056029115873\n",
      "[step = 20] loss:15800663.115625,r2:0.7387869907282083\n",
      "[step = 30] loss:16523496.96875,r2:0.7867214522524877\n",
      "[step = 40] loss:15073158.0859375,r2:0.8061823210550545\n"
     ]
    },
    {
     "name": "stderr",
     "output_type": "stream",
     "text": [
      "\r",
      " 84%|███████████████████████████████████████████████████████████████████▌            | 211/250 [01:03<00:13,  2.96it/s]"
     ]
    },
    {
     "name": "stdout",
     "output_type": "stream",
     "text": [
      "[step = 50] loss:15914428.95625,r2:0.8082587502214245\n",
      "[step = 60] loss:16083650.715625,r2:0.8139839757982715\n",
      "[step = 70] loss:18335904.395535715,r2:0.7960193806541889\n",
      "[step = 80] loss:19098298.47734375,r2:0.7850982127026195\n",
      "[step = 90] loss:19276517.379861113,r2:0.7903568776528828\n",
      "[step = 100] loss:20088851.206875,r2:0.7920851317928087\n",
      "epoch = 211,loss = 19704106.83878505,r2 = 0.7909159807172523,val_loss = 19395391.23148148,val_+r2 = 0.74054472942143\n",
      "[step = 10] loss:15762877.25,r2:0.7773864172178455\n",
      "[step = 20] loss:21176163.1625,r2:0.748876449743834\n",
      "[step = 30] loss:19311453.895833332,r2:0.7692561031443378\n",
      "[step = 40] loss:22124354.646875,r2:0.7521058962771647\n",
      "[step = 50] loss:24724862.5875,r2:0.7387613500827986\n",
      "[step = 60] loss:23281128.695833333,r2:0.7603127209062499\n",
      "[step = 70] loss:22407175.675,r2:0.7610252257540306\n"
     ]
    },
    {
     "name": "stderr",
     "output_type": "stream",
     "text": [
      "\r",
      " 85%|███████████████████████████████████████████████████████████████████▊            | 212/250 [01:04<00:12,  2.96it/s]"
     ]
    },
    {
     "name": "stdout",
     "output_type": "stream",
     "text": [
      "[step = 80] loss:22298080.284375,r2:0.7551759101594401\n",
      "[step = 90] loss:20883413.754861113,r2:0.7676634092537231\n",
      "[step = 100] loss:21042014.606875,r2:0.7614005871131294\n",
      "epoch = 212,loss = 20832588.34754673,r2 = 0.761392193226483,val_loss = 20264431.0,val_+r2 = 0.7487164299128993\n",
      "[step = 10] loss:27958520.925,r2:0.7730682270954217\n",
      "[step = 20] loss:23925547.5625,r2:0.78381873482727\n",
      "[step = 30] loss:20200995.464583334,r2:0.8075571122892872\n",
      "[step = 40] loss:18983574.115625,r2:0.8079055944615684\n",
      "[step = 50] loss:19104679.7975,r2:0.7935123049135159\n",
      "[step = 60] loss:19140627.00625,r2:0.7989024001475271\n",
      "[step = 70] loss:18274148.680357143,r2:0.8103648109984286\n",
      "[step = 80] loss:18617423.1953125,r2:0.7973872612507863\n",
      "[step = 90] loss:19847122.61388889,r2:0.8016695221107767\n",
      "[step = 100] loss:19878669.4975,r2:0.7958378494797946\n"
     ]
    },
    {
     "name": "stderr",
     "output_type": "stream",
     "text": [
      "\r",
      " 85%|████████████████████████████████████████████████████████████████████▏           | 213/250 [01:04<00:12,  2.94it/s]"
     ]
    },
    {
     "name": "stdout",
     "output_type": "stream",
     "text": [
      "epoch = 213,loss = 20305371.016355142,r2 = 0.7908414877976113,val_loss = 19227368.134259257,val_+r2 = 0.790303435028222\n",
      "[step = 10] loss:14609535.0,r2:0.7890588485844855\n",
      "[step = 20] loss:19109652.41875,r2:0.741028370441552\n",
      "[step = 30] loss:19140662.495833334,r2:0.7323156311215261\n",
      "[step = 40] loss:18812794.246875,r2:0.7597213488779079\n",
      "[step = 50] loss:17893862.3625,r2:0.7770130202356975\n",
      "[step = 60] loss:16486082.878125,r2:0.8025899345338962\n",
      "[step = 70] loss:16679643.563392857,r2:0.8073149383127195\n"
     ]
    },
    {
     "name": "stderr",
     "output_type": "stream",
     "text": [
      "\r",
      " 86%|████████████████████████████████████████████████████████████████████▍           | 214/250 [01:04<00:12,  2.96it/s]"
     ]
    },
    {
     "name": "stdout",
     "output_type": "stream",
     "text": [
      "[step = 80] loss:17281291.69296875,r2:0.7995515092797918\n",
      "[step = 90] loss:18300493.838194445,r2:0.7718284950520087\n",
      "[step = 100] loss:19069735.434375,r2:0.7787551615928736\n",
      "epoch = 214,loss = 20182357.256425235,r2 = 0.7696562180568811,val_loss = 18865651.24537037,val_+r2 = 0.7677105647988098\n",
      "[step = 10] loss:18513918.7375,r2:0.7863231775476549\n",
      "[step = 20] loss:16527081.90625,r2:0.808089611530775\n",
      "[step = 30] loss:18094087.154166665,r2:0.7595240860147947\n",
      "[step = 40] loss:21948872.565625,r2:0.752307983807573\n",
      "[step = 50] loss:19563341.9525,r2:0.7876698263329182\n",
      "[step = 60] loss:19904861.464583334,r2:0.7771641153846923\n",
      "[step = 70] loss:18612804.34464286,r2:0.7873870775519557\n",
      "[step = 80] loss:18942994.9734375,r2:0.7909811644785117\n",
      "[step = 90] loss:20059927.968055554,r2:0.7890597538673519\n",
      "[step = 100] loss:19934082.75375,r2:0.7833631865006907\n"
     ]
    },
    {
     "name": "stderr",
     "output_type": "stream",
     "text": [
      "\r",
      " 86%|████████████████████████████████████████████████████████████████████▊           | 215/250 [01:05<00:11,  2.97it/s]"
     ]
    },
    {
     "name": "stdout",
     "output_type": "stream",
     "text": [
      "epoch = 215,loss = 20150413.31191589,r2 = 0.7821342660607007,val_loss = 18387646.23148148,val_+r2 = 0.8701610380033349\n",
      "[step = 10] loss:14018379.7625,r2:0.8381000501264222\n",
      "[step = 20] loss:20200414.7,r2:0.7651479965381606\n",
      "[step = 30] loss:22963635.2,r2:0.7158963080593356\n",
      "[step = 40] loss:22469739.98125,r2:0.7333682512709151\n",
      "[step = 50] loss:23203766.59,r2:0.7104044266207592\n",
      "[step = 60] loss:24271991.125,r2:0.6997117613006871\n",
      "[step = 70] loss:23493714.46785714,r2:0.7267368446803839\n"
     ]
    },
    {
     "name": "stderr",
     "output_type": "stream",
     "text": [
      "\r",
      " 86%|█████████████████████████████████████████████████████████████████████           | 216/250 [01:05<00:11,  2.96it/s]"
     ]
    },
    {
     "name": "stdout",
     "output_type": "stream",
     "text": [
      "[step = 80] loss:22193894.384375,r2:0.7468572085902789\n",
      "[step = 90] loss:20642619.55,r2:0.7618685788389263\n",
      "[step = 100] loss:20719115.37125,r2:0.7672478971203734\n",
      "epoch = 216,loss = 20199532.889018692,r2 = 0.7672982191724576,val_loss = 18010741.564814813,val_+r2 = 0.8172534596636944\n",
      "[step = 10] loss:17106164.05,r2:0.634264017089928\n",
      "[step = 20] loss:13240042.9625,r2:0.7844678647735146\n",
      "[step = 30] loss:13740480.491666667,r2:0.7902158281247824\n",
      "[step = 40] loss:15382207.25625,r2:0.7980476130706098\n",
      "[step = 50] loss:17306104.035,r2:0.798588038018073\n",
      "[step = 60] loss:16946231.122916665,r2:0.8109436858795697\n",
      "[step = 70] loss:17547480.276785713,r2:0.8099619449857303\n",
      "[step = 80] loss:18730120.9734375,r2:0.8026401449044096\n",
      "[step = 90] loss:18962371.643055554,r2:0.8012118814221189\n",
      "[step = 100] loss:18809595.065,r2:0.7955146157448776\n"
     ]
    },
    {
     "name": "stderr",
     "output_type": "stream",
     "text": [
      "\r",
      " 87%|█████████████████████████████████████████████████████████████████████▍          | 217/250 [01:05<00:11,  2.95it/s]"
     ]
    },
    {
     "name": "stdout",
     "output_type": "stream",
     "text": [
      "epoch = 217,loss = 19663950.46728972,r2 = 0.7741829471927185,val_loss = 20797290.51851852,val_+r2 = 0.7613915197278814\n",
      "[step = 10] loss:16922502.525,r2:0.8066704096727705\n",
      "[step = 20] loss:15812748.7,r2:0.8173985685915983\n",
      "[step = 30] loss:18371359.275,r2:0.801946722934402\n",
      "[step = 40] loss:20960339.86875,r2:0.7801909245652677\n",
      "[step = 50] loss:22595238.28,r2:0.7654221284293868\n",
      "[step = 60] loss:23888289.316666666,r2:0.771307274315133\n",
      "[step = 70] loss:22269808.389285713,r2:0.7852646075391352\n"
     ]
    },
    {
     "name": "stderr",
     "output_type": "stream",
     "text": [
      "\r",
      " 87%|█████████████████████████████████████████████████████████████████████▊          | 218/250 [01:06<00:10,  2.96it/s]"
     ]
    },
    {
     "name": "stdout",
     "output_type": "stream",
     "text": [
      "[step = 80] loss:20924120.625,r2:0.7824573732709916\n",
      "[step = 90] loss:20727402.777777776,r2:0.7798569053762645\n",
      "[step = 100] loss:20278912.275,r2:0.7804660988798843\n",
      "epoch = 218,loss = 20022580.509345796,r2 = 0.7866810128753207,val_loss = 19592322.49537037,val_+r2 = 0.6987634252201489\n",
      "[step = 10] loss:15978802.175,r2:0.73242697595737\n",
      "[step = 20] loss:19309497.6125,r2:0.7292569340951116\n",
      "[step = 30] loss:17588268.025,r2:0.7725590261148534\n",
      "[step = 40] loss:18709068.99375,r2:0.7706185050801349\n",
      "[step = 50] loss:18306832.48,r2:0.7712450231277943\n",
      "[step = 60] loss:17029089.779166665,r2:0.7926602010606899\n",
      "[step = 70] loss:18329145.73660714,r2:0.7702735460449219\n",
      "[step = 80] loss:17301896.24765625,r2:0.7749140846232992\n",
      "[step = 90] loss:18445378.98125,r2:0.772167672832752\n",
      "[step = 100] loss:18814558.279375,r2:0.7717839844642675\n"
     ]
    },
    {
     "name": "stderr",
     "output_type": "stream",
     "text": [
      "\r",
      " 88%|██████████████████████████████████████████████████████████████████████          | 219/250 [01:06<00:10,  2.97it/s]"
     ]
    },
    {
     "name": "stdout",
     "output_type": "stream",
     "text": [
      "epoch = 219,loss = 19615166.453855142,r2 = 0.768924666756243,val_loss = 18953239.305555556,val_+r2 = 0.8325885327869799\n",
      "[step = 10] loss:20345100.45,r2:0.8496046851784247\n",
      "[step = 20] loss:28189528.85,r2:0.7689403291289312\n",
      "[step = 30] loss:23213329.179166667,r2:0.7831739879401636\n",
      "[step = 40] loss:21969035.3421875,r2:0.7756584306416128\n",
      "[step = 50] loss:21412023.05375,r2:0.7520144473265361\n",
      "[step = 60] loss:21812289.711458333,r2:0.7517453179714596\n",
      "[step = 70] loss:19905803.51875,r2:0.7706948546828332\n"
     ]
    },
    {
     "name": "stderr",
     "output_type": "stream",
     "text": [
      "\r",
      " 88%|██████████████████████████████████████████████████████████████████████▍         | 220/250 [01:06<00:10,  2.95it/s]"
     ]
    },
    {
     "name": "stdout",
     "output_type": "stream",
     "text": [
      "[step = 80] loss:19730138.27265625,r2:0.7655351960402639\n",
      "[step = 90] loss:20945541.038194444,r2:0.7568860693041568\n",
      "[step = 100] loss:19964546.704375,r2:0.7535531283972007\n",
      "epoch = 220,loss = 19741604.96203271,r2 = 0.7642078605308978,val_loss = 18868012.861111112,val_+r2 = 0.8099729023647514\n",
      "[step = 10] loss:23322709.45,r2:0.6719871638020711\n",
      "[step = 20] loss:18825138.675,r2:0.712941465526782\n",
      "[step = 30] loss:18078150.7,r2:0.7311567458227377\n",
      "[step = 40] loss:17871940.5375,r2:0.7585528717088929\n",
      "[step = 50] loss:17978681.84,r2:0.7679882812730304\n",
      "[step = 60] loss:18308093.9125,r2:0.778808030015345\n",
      "[step = 70] loss:19023736.564285714,r2:0.7735503744734016\n",
      "[step = 80] loss:20757278.075,r2:0.7761010396875843\n"
     ]
    },
    {
     "name": "stderr",
     "output_type": "stream",
     "text": [
      "\r",
      " 88%|██████████████████████████████████████████████████████████████████████▋         | 221/250 [01:07<00:10,  2.77it/s]"
     ]
    },
    {
     "name": "stdout",
     "output_type": "stream",
     "text": [
      "[step = 90] loss:20262168.519444443,r2:0.7837471510717087\n",
      "[step = 100] loss:20286546.0775,r2:0.7818606786699372\n",
      "epoch = 221,loss = 19540079.292056076,r2 = 0.7914159550589145,val_loss = 18376641.453703705,val_+r2 = 0.8338535722538777\n",
      "[step = 10] loss:8276170.76875,r2:0.8784472580235765\n",
      "[step = 20] loss:13429262.671875,r2:0.798761103955093\n",
      "[step = 30] loss:14753224.072916666,r2:0.7730326822254113\n",
      "[step = 40] loss:15961062.9328125,r2:0.7696147044823141\n",
      "[step = 50] loss:18487319.60625,r2:0.7396542145503592\n",
      "[step = 60] loss:18988241.255208332,r2:0.7370510143665066\n",
      "[step = 70] loss:17990956.01875,r2:0.7457632995754909\n",
      "[step = 80] loss:19808294.5578125,r2:0.7427502680438962\n",
      "[step = 90] loss:20453321.379166666,r2:0.7435619645126376\n"
     ]
    },
    {
     "name": "stderr",
     "output_type": "stream",
     "text": [
      "\r",
      " 89%|███████████████████████████████████████████████████████████████████████         | 222/250 [01:07<00:10,  2.61it/s]"
     ]
    },
    {
     "name": "stdout",
     "output_type": "stream",
     "text": [
      "[step = 100] loss:19860451.02375,r2:0.7565192702038384\n",
      "epoch = 222,loss = 20793064.181074765,r2 = 0.7573398327807568,val_loss = 24082922.759259257,val_+r2 = 0.7851359167683453\n",
      "[step = 10] loss:24275071.6,r2:0.6698356627796855\n",
      "[step = 20] loss:22686830.5875,r2:0.7521939730823107\n",
      "[step = 30] loss:20025933.916666668,r2:0.7949033690579712\n",
      "[step = 40] loss:19911276.3875,r2:0.7986080966230812\n",
      "[step = 50] loss:21154184.5225,r2:0.7769166036726916\n",
      "[step = 60] loss:20875583.36875,r2:0.7796384647609363\n",
      "[step = 70] loss:20190501.739285715,r2:0.7855268776118741\n",
      "[step = 80] loss:19462280.721875,r2:0.7972836224770292\n",
      "[step = 90] loss:18786352.644444443,r2:0.7883843312166068\n",
      "[step = 100] loss:20450843.1975,r2:0.7905142587515762\n"
     ]
    },
    {
     "name": "stderr",
     "output_type": "stream",
     "text": [
      "\r",
      " 89%|███████████████████████████████████████████████████████████████████████▎        | 223/250 [01:08<00:10,  2.56it/s]"
     ]
    },
    {
     "name": "stdout",
     "output_type": "stream",
     "text": [
      "epoch = 223,loss = 20085675.004672896,r2 = 0.799033635512036,val_loss = 19167984.26851852,val_+r2 = 0.7447662698171695\n",
      "[step = 10] loss:19018518.3875,r2:0.7063395346985311\n",
      "[step = 20] loss:16387454.265625,r2:0.7649822598826356\n",
      "[step = 30] loss:13452530.514583332,r2:0.7961762635151621\n",
      "[step = 40] loss:16248910.3671875,r2:0.7738347742857395\n",
      "[step = 50] loss:17466863.66375,r2:0.7701329217708169\n"
     ]
    },
    {
     "name": "stderr",
     "output_type": "stream",
     "text": [
      "\r",
      " 90%|███████████████████████████████████████████████████████████████████████▋        | 224/250 [01:08<00:10,  2.51it/s]"
     ]
    },
    {
     "name": "stdout",
     "output_type": "stream",
     "text": [
      "[step = 60] loss:19353157.357291665,r2:0.7603516021113907\n",
      "[step = 70] loss:20145051.33482143,r2:0.7444570563513295\n",
      "[step = 80] loss:19029791.21796875,r2:0.7594549478681366\n",
      "[step = 90] loss:18591954.99375,r2:0.7678710410684744\n",
      "[step = 100] loss:19570067.414375,r2:0.7678714565671398\n",
      "epoch = 224,loss = 19475998.67932243,r2 = 0.7746434094095209,val_loss = 20316413.087962963,val_+r2 = 0.8003446361723867\n",
      "[step = 10] loss:29494098.1,r2:0.7730285274856947\n",
      "[step = 20] loss:21824218.39375,r2:0.8297417084940459\n",
      "[step = 30] loss:20871071.229166668,r2:0.8324305200785471\n",
      "[step = 40] loss:22228893.671875,r2:0.8060610989728284\n",
      "[step = 50] loss:21794418.7525,r2:0.805374585195641\n",
      "[step = 60] loss:20904934.80625,r2:0.7925466538836815\n"
     ]
    },
    {
     "name": "stderr",
     "output_type": "stream",
     "text": [
      "\r",
      " 90%|████████████████████████████████████████████████████████████████████████        | 225/250 [01:08<00:10,  2.45it/s]"
     ]
    },
    {
     "name": "stdout",
     "output_type": "stream",
     "text": [
      "[step = 70] loss:19836016.673214287,r2:0.8006078837459324\n",
      "[step = 80] loss:19922066.959375,r2:0.8020463332726605\n",
      "[step = 90] loss:20329842.077777777,r2:0.8017931251619328\n",
      "[step = 100] loss:20215811.36125,r2:0.7879404924030178\n",
      "epoch = 225,loss = 19767650.240654204,r2 = 0.7964433496763605,val_loss = 19668465.462962963,val_+r2 = 0.7487435068836218\n",
      "[step = 10] loss:14968285.7125,r2:0.8147494273889043\n",
      "[step = 20] loss:14539020.75625,r2:0.8253906231576007\n",
      "[step = 30] loss:18551056.520833332,r2:0.7973672156081208\n",
      "[step = 40] loss:19743614.434375,r2:0.7904510461152868\n",
      "[step = 50] loss:18772712.2225,r2:0.8098326411837722\n",
      "[step = 60] loss:18667917.935416665,r2:0.8183337239213314\n"
     ]
    },
    {
     "name": "stderr",
     "output_type": "stream",
     "text": [
      "\r",
      " 90%|████████████████████████████████████████████████████████████████████████▎       | 226/250 [01:09<00:10,  2.38it/s]"
     ]
    },
    {
     "name": "stdout",
     "output_type": "stream",
     "text": [
      "[step = 70] loss:18145481.429910716,r2:0.8276953993335375\n",
      "[step = 80] loss:18404789.710546874,r2:0.8086878589065505\n",
      "[step = 90] loss:19159160.034375,r2:0.8017308827985901\n",
      "[step = 100] loss:19220284.0109375,r2:0.8000517709053153\n",
      "epoch = 226,loss = 19682951.767231308,r2 = 0.8019564508911426,val_loss = 22148392.722222224,val_+r2 = 0.7532226219666228\n",
      "[step = 10] loss:24744733.6375,r2:0.7265470530024883\n",
      "[step = 20] loss:18737704.40625,r2:0.8087309911622999\n",
      "[step = 30] loss:21175723.120833334,r2:0.7858840620157145\n",
      "[step = 40] loss:18934011.915625,r2:0.7943932211254857\n",
      "[step = 50] loss:19742602.88,r2:0.7972576477544703\n",
      "[step = 60] loss:21407054.933333334,r2:0.789433868042756\n",
      "[step = 70] loss:21073678.80357143,r2:0.7938671634406845\n"
     ]
    },
    {
     "name": "stderr",
     "output_type": "stream",
     "text": [
      "\r",
      " 91%|████████████████████████████████████████████████████████████████████████▋       | 227/250 [01:09<00:09,  2.35it/s]"
     ]
    },
    {
     "name": "stdout",
     "output_type": "stream",
     "text": [
      "[step = 80] loss:20616697.896875,r2:0.7909040355161331\n",
      "[step = 90] loss:20626276.669444446,r2:0.7996079697497798\n",
      "[step = 100] loss:19396801.13,r2:0.8055251705116533\n",
      "epoch = 227,loss = 20423922.54088785,r2 = 0.7831332987180608,val_loss = 20578236.388888888,val_+r2 = 0.7843081377751903\n",
      "[step = 10] loss:20060349.175,r2:0.8491593498409029\n",
      "[step = 20] loss:17305590.79375,r2:0.8498105944026697\n",
      "[step = 30] loss:18092720.639583334,r2:0.8265571645961984\n",
      "[step = 40] loss:18580352.4171875,r2:0.8264862699002418\n",
      "[step = 50] loss:20387089.52875,r2:0.8136482675734693\n",
      "[step = 60] loss:22053785.823958334,r2:0.7749464613803219\n",
      "[step = 70] loss:20494890.18660714,r2:0.7860807554766186\n"
     ]
    },
    {
     "name": "stderr",
     "output_type": "stream",
     "text": [
      "\r",
      " 91%|████████████████████████████████████████████████████████████████████████▉       | 228/250 [01:10<00:09,  2.31it/s]"
     ]
    },
    {
     "name": "stdout",
     "output_type": "stream",
     "text": [
      "[step = 80] loss:20142224.28671875,r2:0.7879609513339612\n",
      "[step = 90] loss:19483869.95763889,r2:0.7937007932353007\n",
      "[step = 100] loss:19875712.769375,r2:0.787816597625933\n",
      "epoch = 228,loss = 20438415.52745327,r2 = 0.7815464972542099,val_loss = 26139045.87037037,val_+r2 = 0.7202071326875278\n",
      "[step = 10] loss:21668488.25,r2:0.8702973053623856\n",
      "[step = 20] loss:20505586.68125,r2:0.8426393254280781\n",
      "[step = 30] loss:20466954.120833334,r2:0.8099691512430154\n",
      "[step = 40] loss:18289395.403125,r2:0.8145552557532589\n",
      "[step = 50] loss:20245886.8325,r2:0.7983878834150913\n",
      "[step = 60] loss:20292719.397916667,r2:0.799974743463101\n",
      "[step = 70] loss:19513305.114285715,r2:0.8006077074559073\n",
      "[step = 80] loss:19819292.45625,r2:0.7922137512397559\n",
      "[step = 90] loss:18839593.31388889,r2:0.7993456770915522\n",
      "[step = 100] loss:19019713.66875,r2:0.7943440331665925\n"
     ]
    },
    {
     "name": "stderr",
     "output_type": "stream",
     "text": [
      "\r",
      " 92%|█████████████████████████████████████████████████████████████████████████▎      | 229/250 [01:10<00:08,  2.49it/s]"
     ]
    },
    {
     "name": "stdout",
     "output_type": "stream",
     "text": [
      "epoch = 229,loss = 19441371.010514017,r2 = 0.7933757015513409,val_loss = 19725932.013888888,val_+r2 = 0.7376461555476214\n",
      "[step = 10] loss:26766320.8,r2:0.8098381979251187\n",
      "[step = 20] loss:21519984.7,r2:0.8001027499292453\n",
      "[step = 30] loss:18373195.079166666,r2:0.8001080934312103\n",
      "[step = 40] loss:19341461.9390625,r2:0.7720449003007586\n",
      "[step = 50] loss:19665541.16125,r2:0.7909597628464802\n",
      "[step = 60] loss:20332569.646875,r2:0.7841786158856864\n",
      "[step = 70] loss:19175450.440178573,r2:0.8038982865029778\n"
     ]
    },
    {
     "name": "stderr",
     "output_type": "stream",
     "text": [
      "\r",
      " 92%|█████████████████████████████████████████████████████████████████████████▌      | 230/250 [01:10<00:07,  2.62it/s]"
     ]
    },
    {
     "name": "stdout",
     "output_type": "stream",
     "text": [
      "[step = 80] loss:20161011.35546875,r2:0.7923265490447452\n",
      "[step = 90] loss:19871622.538194444,r2:0.7967613927984882\n",
      "[step = 100] loss:19552230.514375,r2:0.7994657350723807\n",
      "epoch = 230,loss = 19889402.28329439,r2 = 0.7960980266369919,val_loss = 20027261.12962963,val_+r2 = 0.7904096350945752\n",
      "[step = 10] loss:19204393.25,r2:0.764076718981036\n",
      "[step = 20] loss:20506154.725,r2:0.6751176255859763\n",
      "[step = 30] loss:19107070.408333335,r2:0.7231068941647055\n",
      "[step = 40] loss:17923805.625,r2:0.7596543063086174\n",
      "[step = 50] loss:18972675.335,r2:0.7491146520918829\n",
      "[step = 60] loss:18073716.608333334,r2:0.7708826239853737\n",
      "[step = 70] loss:17603063.639285713,r2:0.7767155180389738\n",
      "[step = 80] loss:19525837.915625,r2:0.7677151834232901\n",
      "[step = 90] loss:19142338.086805556,r2:0.7788382833489774\n",
      "[step = 100] loss:20235248.791875,r2:0.779113970426559\n"
     ]
    },
    {
     "name": "stderr",
     "output_type": "stream",
     "text": [
      "\r",
      " 92%|█████████████████████████████████████████████████████████████████████████▉      | 231/250 [01:11<00:06,  2.75it/s]"
     ]
    },
    {
     "name": "stdout",
     "output_type": "stream",
     "text": [
      "epoch = 231,loss = 19918051.786799066,r2 = 0.7863093632931748,val_loss = 19686786.361111112,val_+r2 = 0.7967985424247258\n",
      "[step = 10] loss:16394174.5125,r2:0.8593864658672411\n",
      "[step = 20] loss:25426137.35625,r2:0.7505940148181396\n",
      "[step = 30] loss:23677458.154166665,r2:0.7714813235096908\n",
      "[step = 40] loss:21408710.965625,r2:0.7865040004904496\n",
      "[step = 50] loss:21621970.1475,r2:0.7918026651265933\n",
      "[step = 60] loss:21506483.50625,r2:0.8004412391875927\n",
      "[step = 70] loss:20537034.35,r2:0.8058132397921822\n"
     ]
    },
    {
     "name": "stderr",
     "output_type": "stream",
     "text": [
      "\r",
      " 93%|██████████████████████████████████████████████████████████████████████████▏     | 232/250 [01:11<00:06,  2.85it/s]"
     ]
    },
    {
     "name": "stdout",
     "output_type": "stream",
     "text": [
      "[step = 80] loss:20165081.80859375,r2:0.7978225596009667\n",
      "[step = 90] loss:19769717.996527776,r2:0.7946469617855586\n",
      "[step = 100] loss:19696769.405625,r2:0.7864130673359402\n",
      "epoch = 232,loss = 19695315.166471962,r2 = 0.7845724124044018,val_loss = 21145495.87037037,val_+r2 = 0.7971279919616436\n",
      "[step = 10] loss:25259269.2,r2:0.781454041664981\n",
      "[step = 20] loss:18781442.3125,r2:0.8004586248648081\n",
      "[step = 30] loss:18012491.783333335,r2:0.8194815987041731\n",
      "[step = 40] loss:15511661.10390625,r2:0.8301933626162619\n",
      "[step = 50] loss:18296076.723125,r2:0.816989048946115\n",
      "[step = 60] loss:16827805.915104166,r2:0.8157560212069949\n",
      "[step = 70] loss:17245123.352232143,r2:0.8174342015053134\n",
      "[step = 80] loss:18380334.137890626,r2:0.7796644505133733\n",
      "[step = 90] loss:18328851.728125,r2:0.7686832440668587\n",
      "[step = 100] loss:18410338.8528125,r2:0.7744773068797821\n"
     ]
    },
    {
     "name": "stderr",
     "output_type": "stream",
     "text": [
      "\r",
      " 93%|██████████████████████████████████████████████████████████████████████████▌     | 233/250 [01:11<00:06,  2.81it/s]"
     ]
    },
    {
     "name": "stdout",
     "output_type": "stream",
     "text": [
      "epoch = 233,loss = 18945181.413843457,r2 = 0.7677954674786817,val_loss = 19229182.76851852,val_+r2 = 0.7985118103223641\n",
      "[step = 10] loss:19015205.4125,r2:0.7944085803889027\n",
      "[step = 20] loss:23294855.03125,r2:0.736881181497998\n",
      "[step = 30] loss:23292922.6375,r2:0.7593206525406404\n",
      "[step = 40] loss:23831349.43125,r2:0.7627621739798018\n",
      "[step = 50] loss:22717170.665,r2:0.7457755384386071\n",
      "[step = 60] loss:20739032.44375,r2:0.7756332214771786\n"
     ]
    },
    {
     "name": "stderr",
     "output_type": "stream",
     "text": [
      "\r",
      " 94%|██████████████████████████████████████████████████████████████████████████▉     | 234/250 [01:12<00:05,  2.84it/s]"
     ]
    },
    {
     "name": "stdout",
     "output_type": "stream",
     "text": [
      "[step = 70] loss:19787303.1625,r2:0.7886090173842869\n",
      "[step = 80] loss:19246368.0265625,r2:0.7901902688422475\n",
      "[step = 90] loss:19397932.381944444,r2:0.7964701158016737\n",
      "[step = 100] loss:19784774.65625,r2:0.7832512465648204\n",
      "epoch = 234,loss = 19253750.158878505,r2 = 0.7899049551375779,val_loss = 19813994.666666668,val_+r2 = 0.736140948278283\n",
      "[step = 10] loss:10779605.8,r2:0.9131038381861488\n",
      "[step = 20] loss:14561185.0,r2:0.8356900696916707\n",
      "[step = 30] loss:17258430.6625,r2:0.8194680017637705\n",
      "[step = 40] loss:18539877.221875,r2:0.7998109925700863\n",
      "[step = 50] loss:16818399.4675,r2:0.8198354495753511\n",
      "[step = 60] loss:16657324.040625,r2:0.8208035310622023\n",
      "[step = 70] loss:19689331.16875,r2:0.8176101770323697\n",
      "[step = 80] loss:20620798.65703125,r2:0.7953959699437749\n",
      "[step = 90] loss:20421349.942361113,r2:0.7872200278260244\n",
      "[step = 100] loss:20550145.378125,r2:0.7795900338979296\n"
     ]
    },
    {
     "name": "stderr",
     "output_type": "stream",
     "text": [
      "\r",
      " 94%|███████████████████████████████████████████████████████████████████████████▏    | 235/250 [01:12<00:05,  2.92it/s]"
     ]
    },
    {
     "name": "stdout",
     "output_type": "stream",
     "text": [
      "epoch = 235,loss = 20179179.932827104,r2 = 0.7842859761354813,val_loss = 20016993.935185187,val_+r2 = 0.7693738419453001\n",
      "[step = 10] loss:15155802.35,r2:0.7026500851776066\n",
      "[step = 20] loss:15308806.76875,r2:0.7425839583033234\n",
      "[step = 30] loss:17073164.175,r2:0.7738950740804784\n",
      "[step = 40] loss:18645463.425,r2:0.7646474843066398\n",
      "[step = 50] loss:17221217.9425,r2:0.7872503536895877\n",
      "[step = 60] loss:19078333.052083332,r2:0.7931940429789343\n",
      "[step = 70] loss:18935545.489285715,r2:0.783276948819214\n"
     ]
    },
    {
     "name": "stderr",
     "output_type": "stream",
     "text": [
      "\r",
      " 94%|███████████████████████████████████████████████████████████████████████████▌    | 236/250 [01:12<00:04,  3.00it/s]"
     ]
    },
    {
     "name": "stdout",
     "output_type": "stream",
     "text": [
      "[step = 80] loss:19162876.228125,r2:0.7637543175114114\n",
      "[step = 90] loss:18072514.026388887,r2:0.7789998116412443\n",
      "[step = 100] loss:18991414.505,r2:0.7784555532556375\n",
      "epoch = 236,loss = 19409321.177570093,r2 = 0.7827536736817866,val_loss = 20259875.23148148,val_+r2 = 0.6771262860979521\n",
      "[step = 10] loss:19041556.3,r2:0.8043926140686718\n",
      "[step = 20] loss:16895568.09375,r2:0.797918698154536\n",
      "[step = 30] loss:17463176.179166667,r2:0.7644681381185255\n",
      "[step = 40] loss:18555095.040625,r2:0.7549708460245405\n",
      "[step = 50] loss:19509337.7225,r2:0.7512078480631453\n",
      "[step = 60] loss:20819485.185416665,r2:0.7416544716087358\n",
      "[step = 70] loss:20773591.9625,r2:0.7415681131387305\n",
      "[step = 80] loss:20872723.4953125,r2:0.749766221738747\n",
      "[step = 90] loss:20192491.150694445,r2:0.7582734580281058\n",
      "[step = 100] loss:20610406.348125,r2:0.7610214258097548\n"
     ]
    },
    {
     "name": "stderr",
     "output_type": "stream",
     "text": [
      "\r",
      " 95%|███████████████████████████████████████████████████████████████████████████▊    | 237/250 [01:13<00:04,  2.89it/s]"
     ]
    },
    {
     "name": "stdout",
     "output_type": "stream",
     "text": [
      "epoch = 237,loss = 19791108.245911215,r2 = 0.7711325615777025,val_loss = 19445377.50462963,val_+r2 = 0.7894046012543968\n",
      "[step = 10] loss:17687846.7375,r2:0.7573082067977078\n",
      "[step = 20] loss:22842109.18125,r2:0.7863983208343905\n",
      "[step = 30] loss:24378725.9875,r2:0.759083081468005\n",
      "[step = 40] loss:21726920.784375,r2:0.7569852863374198\n",
      "[step = 50] loss:19971081.7725,r2:0.7753989335232536\n",
      "[step = 60] loss:19517150.53125,r2:0.7804463944420191\n"
     ]
    },
    {
     "name": "stderr",
     "output_type": "stream",
     "text": [
      "\r",
      " 95%|████████████████████████████████████████████████████████████████████████████▏   | 238/250 [01:13<00:04,  2.94it/s]"
     ]
    },
    {
     "name": "stdout",
     "output_type": "stream",
     "text": [
      "[step = 70] loss:20301191.651785713,r2:0.7730622839853196\n",
      "[step = 80] loss:19478786.1203125,r2:0.7829466592295059\n",
      "[step = 90] loss:18807541.348611113,r2:0.7947514135578683\n",
      "[step = 100] loss:18903926.52625,r2:0.7840327926474866\n",
      "epoch = 238,loss = 18546640.09170561,r2 = 0.7926897422971799,val_loss = 20440343.166666668,val_+r2 = 0.7547155167613807\n",
      "[step = 10] loss:25345730.7,r2:0.8052265680958073\n",
      "[step = 20] loss:24875336.925,r2:0.7570116880655345\n",
      "[step = 30] loss:23799384.5375,r2:0.7531336163246775\n",
      "[step = 40] loss:23721545.1609375,r2:0.7225195760750558\n",
      "[step = 50] loss:22045119.27375,r2:0.7553392097705598\n",
      "[step = 60] loss:20884235.207291666,r2:0.7576794475349803\n",
      "[step = 70] loss:19947433.20982143,r2:0.7712346140049369\n",
      "[step = 80] loss:18681381.05546875,r2:0.7824915735866792\n",
      "[step = 90] loss:18023406.076388888,r2:0.7988881914732276\n",
      "[step = 100] loss:18364366.53125,r2:0.8022863847137995\n"
     ]
    },
    {
     "name": "stderr",
     "output_type": "stream",
     "text": [
      "\r",
      " 96%|████████████████████████████████████████████████████████████████████████████▍   | 239/250 [01:13<00:03,  3.00it/s]"
     ]
    },
    {
     "name": "stdout",
     "output_type": "stream",
     "text": [
      "epoch = 239,loss = 18491552.483644858,r2 = 0.7974500647120162,val_loss = 21884123.546296295,val_+r2 = 0.7812423080628886\n",
      "[step = 10] loss:11650779.55,r2:0.8597049998506968\n",
      "[step = 20] loss:16068098.475,r2:0.7997494702317238\n",
      "[step = 30] loss:16701276.783333333,r2:0.8279077420791936\n",
      "[step = 40] loss:15790359.084375,r2:0.8213829618511287\n",
      "[step = 50] loss:17037288.925,r2:0.797759073099666\n",
      "[step = 60] loss:17965187.245833334,r2:0.7528706354100796\n",
      "[step = 70] loss:18701203.075,r2:0.7569131931003762\n"
     ]
    },
    {
     "name": "stderr",
     "output_type": "stream",
     "text": [
      "\r",
      " 96%|████████████████████████████████████████████████████████████████████████████▊   | 240/250 [01:14<00:03,  3.05it/s]"
     ]
    },
    {
     "name": "stdout",
     "output_type": "stream",
     "text": [
      "[step = 80] loss:18307096.7234375,r2:0.7724833354241901\n",
      "[step = 90] loss:18423248.881944444,r2:0.7731865841000056\n",
      "[step = 100] loss:18408826.03625,r2:0.7803307048453487\n",
      "epoch = 240,loss = 19002652.97313084,r2 = 0.7745619644542896,val_loss = 20601606.342592593,val_+r2 = 0.7203934158330332\n",
      "[step = 10] loss:9391026.025,r2:0.8070077971852049\n",
      "[step = 20] loss:14680863.41875,r2:0.7756842295985764\n",
      "[step = 30] loss:16768221.145833334,r2:0.8046641965228701\n",
      "[step = 40] loss:19394897.5875,r2:0.7795572085992093\n"
     ]
    },
    {
     "name": "stderr",
     "output_type": "stream",
     "text": [
      "\r",
      " 96%|█████████████████████████████████████████████████████████████████████████████   | 241/250 [01:14<00:02,  3.05it/s]"
     ]
    },
    {
     "name": "stdout",
     "output_type": "stream",
     "text": [
      "[step = 50] loss:20322030.36,r2:0.7587091118746584\n",
      "[step = 60] loss:20829122.916666668,r2:0.751586434662522\n",
      "[step = 70] loss:20265908.351785716,r2:0.7600213027375742\n",
      "[step = 80] loss:19763717.8078125,r2:0.7677992961899122\n",
      "[step = 90] loss:19204462.491666667,r2:0.7750392976001693\n",
      "[step = 100] loss:18746527.76625,r2:0.7762124438120894\n",
      "epoch = 241,loss = 19159343.25817757,r2 = 0.7772733236395563,val_loss = 21009832.462962963,val_+r2 = 0.732619665940289\n",
      "[step = 10] loss:13076817.7875,r2:0.8684493556885892\n",
      "[step = 20] loss:16331174.665625,r2:0.8400656827548099\n",
      "[step = 30] loss:20891336.23125,r2:0.7935089103715854\n",
      "[step = 40] loss:19162829.2546875,r2:0.8127158021726476\n",
      "[step = 50] loss:19022216.34375,r2:0.7964344355386206\n",
      "[step = 60] loss:17451851.732291665,r2:0.7886028354005569\n"
     ]
    },
    {
     "name": "stderr",
     "output_type": "stream",
     "text": [
      "\r",
      " 97%|█████████████████████████████████████████████████████████████████████████████▍  | 242/250 [01:15<00:02,  2.75it/s]"
     ]
    },
    {
     "name": "stdout",
     "output_type": "stream",
     "text": [
      "[step = 70] loss:18161263.559821427,r2:0.7860077919187235\n",
      "[step = 80] loss:18242694.44140625,r2:0.782223730224794\n",
      "[step = 90] loss:18315420.85347222,r2:0.786443998460488\n",
      "[step = 100] loss:17998557.195625,r2:0.793235775131371\n",
      "epoch = 242,loss = 18660954.895443924,r2 = 0.7902417301896459,val_loss = 25234333.85185185,val_+r2 = 0.7346382780060401\n",
      "[step = 10] loss:16380508.675,r2:0.8891707813346077\n",
      "[step = 20] loss:16992055.296875,r2:0.873833904214887\n",
      "[step = 30] loss:18405040.547916666,r2:0.8207325741805839\n",
      "[step = 40] loss:19645441.3984375,r2:0.7656590692931693\n",
      "[step = 50] loss:17658908.52625,r2:0.7810627037770409\n",
      "[step = 60] loss:18591864.063541666,r2:0.7880978100362142\n",
      "[step = 70] loss:19234382.711607143,r2:0.7797617186496368\n",
      "[step = 80] loss:18714555.6328125,r2:0.7785375123510742\n",
      "[step = 90] loss:18613012.92638889,r2:0.764177863935552\n",
      "[step = 100] loss:19332027.44875,r2:0.7690124923144368\n"
     ]
    },
    {
     "name": "stderr",
     "output_type": "stream",
     "text": [
      "\r",
      " 97%|█████████████████████████████████████████████████████████████████████████████▊  | 243/250 [01:15<00:02,  2.52it/s]"
     ]
    },
    {
     "name": "stdout",
     "output_type": "stream",
     "text": [
      "epoch = 243,loss = 18880784.843457945,r2 = 0.774549771436311,val_loss = 22112814.083333332,val_+r2 = 0.7686977477315543\n",
      "[step = 10] loss:17179850.8,r2:0.8371691126968598\n",
      "[step = 20] loss:20419301.4125,r2:0.7914372873272224\n",
      "[step = 30] loss:21265866.191666666,r2:0.7788176826867752\n",
      "[step = 40] loss:20871696.66875,r2:0.7748544360994462\n",
      "[step = 50] loss:19052221.735,r2:0.7576425032284899\n",
      "[step = 60] loss:19726339.552083332,r2:0.7629370777548299\n",
      "[step = 70] loss:19515909.248214286,r2:0.7733101504119458\n",
      "[step = 80] loss:18732955.3859375,r2:0.7761395736735894\n",
      "[step = 90] loss:19493905.527777776,r2:0.7770238284809206\n",
      "[step = 100] loss:18331190.4525,r2:0.792616206263477\n"
     ]
    },
    {
     "name": "stderr",
     "output_type": "stream",
     "text": [
      "\r",
      " 98%|██████████████████████████████████████████████████████████████████████████████  | 244/250 [01:15<00:02,  2.36it/s]"
     ]
    },
    {
     "name": "stdout",
     "output_type": "stream",
     "text": [
      "epoch = 244,loss = 18919427.420560747,r2 = 0.789947849374293,val_loss = 20159474.402777776,val_+r2 = 0.7684843659983741\n",
      "[step = 10] loss:19540282.225,r2:0.8029459018998383\n",
      "[step = 20] loss:18938423.175,r2:0.8046965171717867\n",
      "[step = 30] loss:16407151.95,r2:0.8385932915837249\n",
      "[step = 40] loss:17273130.8625,r2:0.8275449295810313\n",
      "[step = 50] loss:17507014.5125,r2:0.8325791197997294\n"
     ]
    },
    {
     "name": "stderr",
     "output_type": "stream",
     "text": [
      "\r",
      " 98%|██████████████████████████████████████████████████████████████████████████████▍ | 245/250 [01:16<00:02,  2.35it/s]"
     ]
    },
    {
     "name": "stdout",
     "output_type": "stream",
     "text": [
      "[step = 60] loss:17767522.320833333,r2:0.8064746714869997\n",
      "[step = 70] loss:19478216.70625,r2:0.7908391556665793\n",
      "[step = 80] loss:20075602.63046875,r2:0.7789480456702147\n",
      "[step = 90] loss:18871242.475694444,r2:0.7871302788407546\n",
      "[step = 100] loss:18644306.951875,r2:0.7925489754984476\n",
      "epoch = 245,loss = 18835549.3989486,r2 = 0.795525836868325,val_loss = 21286169.37037037,val_+r2 = 0.7907353037194833\n",
      "[step = 10] loss:26269480.0,r2:0.7466885562597017\n",
      "[step = 20] loss:20064604.925,r2:0.7981279625709279\n",
      "[step = 30] loss:19300894.233333334,r2:0.8106126963272826\n",
      "[step = 40] loss:21352636.9625,r2:0.8029291004753103\n",
      "[step = 50] loss:20526889.2325,r2:0.7966020535969734\n",
      "[step = 60] loss:19987159.172916666,r2:0.7922879978273613\n"
     ]
    },
    {
     "name": "stderr",
     "output_type": "stream",
     "text": [
      "\r",
      " 98%|██████████████████████████████████████████████████████████████████████████████▋ | 246/250 [01:16<00:01,  2.33it/s]"
     ]
    },
    {
     "name": "stdout",
     "output_type": "stream",
     "text": [
      "[step = 70] loss:20418928.173214287,r2:0.7912750863227668\n",
      "[step = 80] loss:19459988.3203125,r2:0.800505379579957\n",
      "[step = 90] loss:18696775.440277778,r2:0.8029910445244386\n",
      "[step = 100] loss:18743926.1925,r2:0.7915043894070398\n",
      "epoch = 246,loss = 18283341.314252336,r2 = 0.794679124351566,val_loss = 20438724.638888888,val_+r2 = 0.8088083902599953\n",
      "[step = 10] loss:10063763.3625,r2:0.8100320421866213\n",
      "[step = 20] loss:9849789.39375,r2:0.8508337708030664\n",
      "[step = 30] loss:11170794.854166666,r2:0.873950530550841\n",
      "[step = 40] loss:13019972.259375,r2:0.867139322374442\n",
      "[step = 50] loss:15393445.8375,r2:0.8266694714256778\n",
      "[step = 60] loss:17160492.122916665,r2:0.7881730266088081\n"
     ]
    },
    {
     "name": "stderr",
     "output_type": "stream",
     "text": [
      "\r",
      " 99%|███████████████████████████████████████████████████████████████████████████████ | 247/250 [01:17<00:01,  2.27it/s]"
     ]
    },
    {
     "name": "stdout",
     "output_type": "stream",
     "text": [
      "[step = 70] loss:18082485.985714287,r2:0.7964286713764801\n",
      "[step = 80] loss:17894831.74375,r2:0.7922072762655635\n",
      "[step = 90] loss:18579714.205555554,r2:0.7787120944516687\n",
      "[step = 100] loss:18267952.76,r2:0.7770280558365258\n",
      "epoch = 247,loss = 18205498.108644858,r2 = 0.7616084417584825,val_loss = 19721519.951388888,val_+r2 = 0.7500975040039068\n",
      "[step = 10] loss:18038233.9,r2:0.8457192794904597\n",
      "[step = 20] loss:14062101.8375,r2:0.8435635952766658\n",
      "[step = 30] loss:16533158.629166666,r2:0.8097932824699441\n",
      "[step = 40] loss:15727439.6625,r2:0.823858221320432\n",
      "[step = 50] loss:14047782.735,r2:0.8393138794247011\n"
     ]
    },
    {
     "name": "stderr",
     "output_type": "stream",
     "text": [
      "\r",
      " 99%|███████████████████████████████████████████████████████████████████████████████▎| 248/250 [01:17<00:00,  2.25it/s]"
     ]
    },
    {
     "name": "stdout",
     "output_type": "stream",
     "text": [
      "[step = 60] loss:16042087.216666667,r2:0.8283259683984237\n",
      "[step = 70] loss:17186109.2375,r2:0.8197739771117593\n",
      "[step = 80] loss:19349646.3078125,r2:0.8139836384846098\n",
      "[step = 90] loss:18738289.7375,r2:0.8166707648752455\n",
      "[step = 100] loss:19336432.36625,r2:0.8068795466582691\n",
      "epoch = 248,loss = 19152447.867990654,r2 = 0.8028262642230485,val_loss = 20553918.344907407,val_+r2 = 0.775357423961718\n",
      "[step = 10] loss:27515972.0625,r2:0.7790972221161332\n",
      "[step = 20] loss:22777585.01875,r2:0.7500167907499234\n",
      "[step = 30] loss:18942219.245833334,r2:0.7874599615491643\n",
      "[step = 40] loss:20451341.921875,r2:0.7569376158542203\n",
      "[step = 50] loss:19323813.94625,r2:0.7682163131346685\n",
      "[step = 60] loss:19032252.565625,r2:0.7775260347052914\n",
      "[step = 70] loss:18723465.49910714,r2:0.7922142854359878\n",
      "[step = 80] loss:20310459.35859375,r2:0.7810515187393857\n",
      "[step = 90] loss:20306831.46875,r2:0.7820742169042835\n",
      "[step = 100] loss:20201149.696875,r2:0.7833434431785727\n"
     ]
    },
    {
     "name": "stderr",
     "output_type": "stream",
     "text": [
      "\r",
      "100%|███████████████████████████████████████████████████████████████████████████████▋| 249/250 [01:18<00:00,  2.11it/s]"
     ]
    },
    {
     "name": "stdout",
     "output_type": "stream",
     "text": [
      "epoch = 249,loss = 19444968.0625,r2 = 0.7878186054164688,val_loss = 20055118.472222224,val_+r2 = 0.8480366331538642\n",
      "[step = 10] loss:31676945.875,r2:0.6931394543031962\n",
      "[step = 20] loss:22172547.9125,r2:0.7592369038380131\n",
      "[step = 30] loss:20782436.830208335,r2:0.7889460358337659\n",
      "[step = 40] loss:22107551.60390625,r2:0.7598108975447487\n",
      "[step = 50] loss:20713486.575625,r2:0.7745175536077411\n",
      "[step = 60] loss:19885100.325520832,r2:0.7920278676376351\n",
      "[step = 70] loss:19372527.879017856,r2:0.7882187230231489\n",
      "[step = 80] loss:19683402.945703126,r2:0.7814703660133255\n",
      "[step = 90] loss:20124937.035069443,r2:0.7789603665562963\n"
     ]
    },
    {
     "name": "stderr",
     "output_type": "stream",
     "text": [
      "100%|████████████████████████████████████████████████████████████████████████████████| 250/250 [01:18<00:00,  3.17it/s]"
     ]
    },
    {
     "name": "stdout",
     "output_type": "stream",
     "text": [
      "[step = 100] loss:19604920.7465625,r2:0.786910237887525\n",
      "epoch = 250,loss = 18733001.578563083,r2 = 0.7977262954349649,val_loss = 22070949.416666668,val_+r2 = 0.6963737892034239\n",
      "Training done\n"
     ]
    },
    {
     "name": "stderr",
     "output_type": "stream",
     "text": [
      "\n"
     ]
    }
   ],
   "source": [
    "# Ceate my model\n",
    "model1 = createModel()\n",
    "# Total epochs of training\n",
    "epochs = 250 # 500 was tested, overfit occured after about 250 epochs.\n",
    "# The frequency of prting log\n",
    "log_printing_frequency = 10\n",
    "history1 = modelTrain(model1,epochs,dataloader_train,dataloader_test,log_printing_frequency)"
   ]
  },
  {
   "cell_type": "markdown",
   "id": "46a71139",
   "metadata": {},
   "source": [
    "8) Results"
   ]
  },
  {
   "cell_type": "code",
   "execution_count": 17,
   "id": "9fe4acaa",
   "metadata": {},
   "outputs": [
    {
     "data": {
      "text/html": [
       "<div>\n",
       "<style scoped>\n",
       "    .dataframe tbody tr th:only-of-type {\n",
       "        vertical-align: middle;\n",
       "    }\n",
       "\n",
       "    .dataframe tbody tr th {\n",
       "        vertical-align: top;\n",
       "    }\n",
       "\n",
       "    .dataframe thead th {\n",
       "        text-align: right;\n",
       "    }\n",
       "</style>\n",
       "<table border=\"1\" class=\"dataframe\">\n",
       "  <thead>\n",
       "    <tr style=\"text-align: right;\">\n",
       "      <th></th>\n",
       "      <th>epoch</th>\n",
       "      <th>loss</th>\n",
       "      <th>r2</th>\n",
       "      <th>val_loss</th>\n",
       "      <th>val_r2</th>\n",
       "    </tr>\n",
       "  </thead>\n",
       "  <tbody>\n",
       "    <tr>\n",
       "      <th>0</th>\n",
       "      <td>1.0</td>\n",
       "      <td>1.818179e+08</td>\n",
       "      <td>-0.539091</td>\n",
       "      <td>7.115904e+07</td>\n",
       "      <td>0.349135</td>\n",
       "    </tr>\n",
       "    <tr>\n",
       "      <th>1</th>\n",
       "      <td>2.0</td>\n",
       "      <td>4.733273e+07</td>\n",
       "      <td>0.518940</td>\n",
       "      <td>3.284567e+07</td>\n",
       "      <td>0.669266</td>\n",
       "    </tr>\n",
       "    <tr>\n",
       "      <th>2</th>\n",
       "      <td>3.0</td>\n",
       "      <td>4.058565e+07</td>\n",
       "      <td>0.555955</td>\n",
       "      <td>3.422727e+07</td>\n",
       "      <td>0.696479</td>\n",
       "    </tr>\n",
       "    <tr>\n",
       "      <th>3</th>\n",
       "      <td>4.0</td>\n",
       "      <td>4.054092e+07</td>\n",
       "      <td>0.611463</td>\n",
       "      <td>3.193866e+07</td>\n",
       "      <td>0.694931</td>\n",
       "    </tr>\n",
       "    <tr>\n",
       "      <th>4</th>\n",
       "      <td>5.0</td>\n",
       "      <td>3.821296e+07</td>\n",
       "      <td>0.565773</td>\n",
       "      <td>3.250750e+07</td>\n",
       "      <td>0.581640</td>\n",
       "    </tr>\n",
       "  </tbody>\n",
       "</table>\n",
       "</div>"
      ],
      "text/plain": [
       "   epoch          loss        r2      val_loss    val_r2\n",
       "0    1.0  1.818179e+08 -0.539091  7.115904e+07  0.349135\n",
       "1    2.0  4.733273e+07  0.518940  3.284567e+07  0.669266\n",
       "2    3.0  4.058565e+07  0.555955  3.422727e+07  0.696479\n",
       "3    4.0  4.054092e+07  0.611463  3.193866e+07  0.694931\n",
       "4    5.0  3.821296e+07  0.565773  3.250750e+07  0.581640"
      ]
     },
     "execution_count": 17,
     "metadata": {},
     "output_type": "execute_result"
    }
   ],
   "source": [
    "# Initial scores and loss\n",
    "history1.head()"
   ]
  },
  {
   "cell_type": "code",
   "execution_count": 18,
   "id": "8204dcf7",
   "metadata": {},
   "outputs": [],
   "source": [
    "# Save log as csv file\n",
    "history1.to_csv('./logs/log1.csv',index=False)"
   ]
  },
  {
   "cell_type": "code",
   "execution_count": 19,
   "id": "4259159f",
   "metadata": {},
   "outputs": [],
   "source": [
    "# Draw curve of loss and scores\n",
    "def curvePlotling(df,metric):\n",
    "    sns.lineplot(x = 'epoch',y = metric,data =df,color = 'r',markers=True, dashes=False)\n",
    "    sns.lineplot(x = 'epoch',y = 'val_'+metric,data =df,color = 'b',markers=True, dashes=False)\n",
    "    plt.legend([\"train_\"+metric, ' ', 'val_'+metric])"
   ]
  },
  {
   "cell_type": "code",
   "execution_count": 20,
   "id": "2d2eb20a",
   "metadata": {},
   "outputs": [
    {
     "data": {
      "image/png": "[encoded data removed]",
      "text/plain": [
       "<Figure size 640x480 with 1 Axes>"
      ]
     },
     "metadata": {},
     "output_type": "display_data"
    }
   ],
   "source": [
    "# Draw loss curve\n",
    "curvePlotling(history1,'loss')"
   ]
  },
  {
   "cell_type": "code",
   "execution_count": 21,
   "id": "0c592037",
   "metadata": {},
   "outputs": [
    {
     "data": {
      "image/png": "[encoded data removed]",
      "text/plain": [
       "<Figure size 640x480 with 1 Axes>"
      ]
     },
     "metadata": {},
     "output_type": "display_data"
    }
   ],
   "source": [
    "# Draw r2 scores\n",
    "curvePlotling(history1,'r2')"
   ]
  },
  {
   "cell_type": "code",
   "execution_count": 22,
   "id": "1e303a99",
   "metadata": {},
   "outputs": [
    {
     "data": {
      "text/plain": [
       "tensor([10953.8887,  9525.8057, 59572.3320, 13814.6465, 11957.2842,  4839.9233,\n",
       "         3814.7449, 15025.7109,  9310.8516,  9034.6045,  7284.4463, 12192.2568,\n",
       "         8498.1875,  6450.9863, 20476.2207, 13358.3008, 13265.9512,  7431.8999,\n",
       "         8780.6270, 24885.8652, 25617.4219, 15667.7979, 12099.9287, 26030.6719,\n",
       "         3635.5847,  9114.5742,  5628.2856,  8740.0654,  5654.5264, 12223.2227,\n",
       "         9155.7314, 54758.3945, 13071.7705, 10842.8115, 18362.6895,  5163.4849,\n",
       "         8849.2227, 42953.9258, 43923.8281,  2574.1006,  6099.9971,  4135.0254,\n",
       "        22725.7383, 60421.9570, 41033.7031,  8494.1875, 13193.5225,  8691.0684,\n",
       "         8646.7871, 14827.4375,  5854.3491,  7865.7964, 33794.1289, 46735.9492,\n",
       "        11783.0117,  6587.7788,  3947.0452,  9619.6709,  8679.9316, 16848.1934,\n",
       "         3186.8298, 43404.1992, 17145.0723, 10259.4580, 14527.9209,  9814.5068,\n",
       "        27002.7578, 42855.3750,  5260.9424, 10595.4297, 13304.1367, 14777.9775,\n",
       "        16147.8467, 13637.7920, 14011.7178, 13949.6172,  8005.3066,  9481.7324,\n",
       "        19721.5332, 51423.8750, 12635.8721, 53187.3281,  2286.7100,  8249.7715,\n",
       "        45722.7188, 21683.6973,  2742.1487,  4129.6665, 13639.3936, 41183.1602,\n",
       "        17941.2070, 10958.9844,  3948.9924,  8520.0859,  6585.8804, 11278.5508,\n",
       "        33734.2578, 31271.4609,  8502.2793, 10667.1465,  3698.2000,  8006.7778,\n",
       "         4655.4302, 42319.0078, 27497.1953,  4991.2773, 10816.9355,  5228.9482,\n",
       "        13148.9424, 50202.4727, 13247.5635,  5377.1299, 11270.1094, 27758.9746,\n",
       "        54518.4492,  8691.7314,  2154.2251,  9915.2930, 14843.9170, 10394.0684,\n",
       "        46185.8477, 12132.7422, 12847.6201, 13699.4102,  9614.6895,  6273.9756,\n",
       "        23579.8359, 22479.4355, 52492.7305,  3032.6555,  7867.7847,  3907.5681,\n",
       "         5661.9971, 10139.0664, 36669.3633, 32434.9961, 23800.8711, 11635.4180,\n",
       "        25431.8242,  5401.9365,  2324.8384, 11533.5225,  9982.8936, 11438.2998,\n",
       "         6436.2891, 14406.0361, 14518.4092,  5595.8130,  2352.8167, 12031.1484,\n",
       "        10145.3877, 42220.8867, 12152.3076,  3927.3599,  5148.3301,  6354.2700,\n",
       "         4886.8062,  3930.8530, 11965.2549, 12518.8584,  9679.7422, 12794.3252,\n",
       "        14010.7031, 10156.5176,  5161.2295,  9368.8223, 18154.6914, 13734.2686,\n",
       "         6174.7251,  3364.3442,  8986.1338,  6840.4883, 10621.5352,  3781.4958,\n",
       "         3937.0640,  5096.1851,  4745.7832,  6804.6816, 32014.8184,  2907.0435,\n",
       "        13670.1709,  9585.2646, 12542.7744,  4016.0479,  5370.7090, 30557.9395,\n",
       "         5480.9160,  3049.8235, 15628.5996, 13569.4697, 38363.8281,  4088.2332,\n",
       "         5234.7725, 24546.9492,  4648.8848,  2756.6289,  9976.7725, 17679.2207,\n",
       "         5650.0728,  6485.9043, 14019.3096, 51876.7031, 15077.9336, 18327.1992,\n",
       "         9200.6025, 48283.9609,  5350.4658, 12129.7588,  5238.2871,  3090.7583,\n",
       "        12044.7432, 14913.1055,  6902.8662,  2908.2812,  6892.0811,  2689.9282,\n",
       "         7818.4731,  8699.9570, 19298.2383,  7261.7568,  6301.2383,  8610.4453,\n",
       "         8543.4697,  4120.1318, 12083.0859, 15398.9854, 13463.6045, 12222.3936,\n",
       "         7084.3140,  3806.3884,  3487.4766, 10083.5723, 13217.3838, 11151.0000,\n",
       "         5937.2764,  7262.0093, 10701.8467, 26895.6621,  7096.9834, 11746.1094,\n",
       "         5058.5020, 38854.9688,  7665.2383,  9254.0498, 10952.9678, 14029.0078,\n",
       "         5485.6245, 11109.2764,  3592.9800,  7498.8169, 20041.5117, 51254.2148,\n",
       "         3954.6606,  3854.1025,  3467.3855,  2429.3047,  9703.0205,  3973.2251,\n",
       "         7603.0630,  5737.3096,  9027.5000, 35319.0859, 38385.1719, 17035.8496,\n",
       "         8091.5508, 11709.6904, 43375.3477,  8864.9258],\n",
       "       grad_fn=<SelectBackward0>)"
      ]
     },
     "execution_count": 22,
     "metadata": {},
     "output_type": "execute_result"
    }
   ],
   "source": [
    "# Prediction on test dataset\n",
    "y_pred = model1(X_test_tensor)\n",
    "y_pred"
   ]
  },
  {
   "cell_type": "markdown",
   "id": "d5cd9d9f",
   "metadata": {},
   "source": [
    "9) Predict my medical cost and save model."
   ]
  },
  {
   "cell_type": "code",
   "execution_count": 23,
   "id": "344b967f",
   "metadata": {},
   "outputs": [],
   "source": [
    "def predictMyself(model, personal_info):\n",
    "    personal_info_array = scaler.transform(personal_info)\n",
    "    personal_info_array = np.array(personal_info_array)\n",
    "    personal_info_tensor = torch.tensor(personal_info_array).float()\n",
    "    return model.forward(personal_info_tensor)"
   ]
  },
  {
   "cell_type": "code",
   "execution_count": 24,
   "id": "3fed52bc",
   "metadata": {},
   "outputs": [
    {
     "data": {
      "text/plain": [
       "tensor([13656.2725], grad_fn=<SelectBackward0>)"
      ]
     },
     "execution_count": 24,
     "metadata": {},
     "output_type": "execute_result"
    }
   ],
   "source": [
    "my_info_list = [[28, 20.11, 0, 1, 1, 0, 1 ,0]]\n",
    "predictMyself(model1, my_info_list)"
   ]
  },
  {
   "cell_type": "code",
   "execution_count": 25,
   "id": "11420212",
   "metadata": {},
   "outputs": [
    {
     "data": {
      "text/plain": [
       "tensor([3825.8660], grad_fn=<SelectBackward0>)"
      ]
     },
     "execution_count": 25,
     "metadata": {},
     "output_type": "execute_result"
    }
   ],
   "source": [
    "if_I_dont_smoke = [[28, 20.11, 0, 1, 0, 0, 1 ,0]]\n",
    "predictMyself(model1, if_I_dont_smoke)"
   ]
  },
  {
   "cell_type": "markdown",
   "id": "dacb784e",
   "metadata": {},
   "source": [
    "In the 'regression_main.ipynb', I predicted my cost is ＄17051, when I no longer smoke, it would be ＄4365 with GradientBoostingRegression."
   ]
  },
  {
   "cell_type": "code",
   "execution_count": 26,
   "id": "b52072c0",
   "metadata": {},
   "outputs": [],
   "source": [
    "# Save parameters to 'models' path\n",
    "torch.save(model1.state_dict(),'./models/model1.pkl')"
   ]
  },
  {
   "cell_type": "code",
   "execution_count": 27,
   "id": "143a5cef",
   "metadata": {},
   "outputs": [
    {
     "data": {
      "text/plain": [
       "<All keys matched successfully>"
      ]
     },
     "execution_count": 27,
     "metadata": {},
     "output_type": "execute_result"
    }
   ],
   "source": [
    "# Create a new model\n",
    "new_model = insurance_net()\n",
    "# Load parameters to a untrained model\n",
    "new_model.load_state_dict(torch.load('./models/model1.pkl'))"
   ]
  },
  {
   "cell_type": "code",
   "execution_count": 28,
   "id": "e2a03207",
   "metadata": {},
   "outputs": [
    {
     "data": {
      "text/plain": [
       "tensor([13656.2725], grad_fn=<SelectBackward0>)"
      ]
     },
     "execution_count": 28,
     "metadata": {},
     "output_type": "execute_result"
    }
   ],
   "source": [
    "# Predict my medical cost by a new model\n",
    "predictMyself(new_model, my_info_list)"
   ]
  },
  {
   "cell_type": "code",
   "execution_count": 29,
   "id": "d6b73869",
   "metadata": {},
   "outputs": [
    {
     "data": {
      "text/plain": [
       "tensor([3825.8660], grad_fn=<SelectBackward0>)"
      ]
     },
     "execution_count": 29,
     "metadata": {},
     "output_type": "execute_result"
    }
   ],
   "source": [
    "if_I_dont_smoke = [[28, 20.11, 0, 1, 0, 0, 1 ,0]]\n",
    "predictMyself(new_model, if_I_dont_smoke)"
   ]
  },
  {
   "cell_type": "code",
   "execution_count": null,
   "id": "35b9a1ec",
   "metadata": {},
   "outputs": [],
   "source": []
  }
 ],
 "metadata": {
  "kernelspec": {
   "display_name": "Python 3 (ipykernel)",
   "language": "python",
   "name": "python3"
  },
  "language_info": {
   "codemirror_mode": {
    "name": "ipython",
    "version": 3
   },
   "file_extension": ".py",
   "mimetype": "text/x-python",
   "name": "python",
   "nbconvert_exporter": "python",
   "pygments_lexer": "ipython3",
   "version": "3.11.9"
  }
 },
 "nbformat": 4,
 "nbformat_minor": 5
}
