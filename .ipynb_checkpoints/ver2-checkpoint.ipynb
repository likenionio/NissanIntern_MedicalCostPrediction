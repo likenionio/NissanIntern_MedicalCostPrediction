{
 "cells": [
  {
   "cell_type": "code",
   "execution_count": 8,
   "id": "ec6d2079",
   "metadata": {},
   "outputs": [],
   "source": [
    "import numpy as np\n",
    "import pandas as pd\n",
    "from sklearn.preprocessing import StandardScaler, MinMaxScaler\n",
    "from sklearn.model_selection import train_test_split\n",
    "from sklearn.metrics import mean_squared_error, mean_absolute_error\n",
    "from sklearn.datasets import fetch_california_housing\n",
    "\n",
    "import torch\n",
    "import torch.nn as nn\n",
    "import torch.nn.functional as F\n",
    "from torch.optim import SGD\n",
    "import torch.utils.data as Data\n",
    "import matplotlib.pyplot as plt\n",
    "import seaborn as sns\n"
   ]
  },
  {
   "cell_type": "code",
   "execution_count": 9,
   "id": "c6b4609f",
   "metadata": {},
   "outputs": [],
   "source": [
    "housedata_df = pd.read_csv(\"insurance.csv\")"
   ]
  },
  {
   "cell_type": "code",
   "execution_count": 13,
   "id": "dbb78456",
   "metadata": {},
   "outputs": [],
   "source": [
    "X = pd.get_dummies(housedata_df.drop(['charges'], axis=1) , drop_first=True, dtype=int).values\n",
    "y = housedata_df.charges.values\n",
    "\n",
    "# 切分训练集和测试集\n",
    "X_train, X_test, y_train, y_test = train_test_split(X, y, test_size=0.3, random_state=42)\n"
   ]
  },
  {
   "cell_type": "code",
   "execution_count": 14,
   "id": "5e45d659",
   "metadata": {},
   "outputs": [],
   "source": [
    "# 数据标准化处理\n",
    "scale = MinMaxScaler()\n",
    "x_train_std = scale.fit_transform(X_train)\n",
    "x_test_std = scale.transform(X_test)\n"
   ]
  },
  {
   "cell_type": "code",
   "execution_count": 15,
   "id": "3426a601",
   "metadata": {},
   "outputs": [],
   "source": [
    "# 将数据集转为张量\n",
    "X_train_t = torch.from_numpy(x_train_std.astype(np.float32))\n",
    "y_train_t = torch.from_numpy(y_train.astype(np.float32))\n",
    "X_test_t = torch.from_numpy(x_test_std.astype(np.float32))\n",
    "y_test_t = torch.from_numpy(y_test.astype(np.float32))\n",
    "\n",
    "# 将训练数据处理为数据加载器\n",
    "train_data = Data.TensorDataset(X_train_t, y_train_t)\n",
    "test_data = Data.TensorDataset(X_test_t, y_test_t)\n",
    "train_loader = Data.DataLoader(dataset=train_data, batch_size=64, shuffle=True, num_workers=1)\n"
   ]
  },
  {
   "cell_type": "code",
   "execution_count": 16,
   "id": "ead0c3f1",
   "metadata": {},
   "outputs": [],
   "source": [
    "# 搭建全连接神经网络回归\n",
    "class FNN_Regression(nn.Module):\n",
    "    def __init__(self):\n",
    "        super(FNN_Regression, self).__init__()\n",
    "        # 第一个隐含层\n",
    "        self.hidden1 = nn.Linear(in_features=8, out_features=100, bias=True)\n",
    "        # 第二个隐含层\n",
    "        self.hidden2 = nn.Linear(100, 100)\n",
    "        # 第三个隐含层\n",
    "        self.hidden3 = nn.Linear(100, 50)\n",
    "        # 回归预测层\n",
    "        self.predict = nn.Linear(50, 1)\n",
    "\n",
    "    # 定义网络前向传播路径\n",
    "    def forward(self, x):\n",
    "        x = F.relu(self.hidden1(x))\n",
    "        x = F.relu(self.hidden2(x))\n",
    "        x = F.relu(self.hidden3(x))\n",
    "        output = self.predict(x)\n",
    "        # 输出一个一维向量\n",
    "        return output[:, 0]\n"
   ]
  },
  {
   "cell_type": "code",
   "execution_count": 18,
   "id": "cea1bdf3",
   "metadata": {},
   "outputs": [],
   "source": [
    "testnet = FNN_Regression()\n",
    "# 定义优化器\n",
    "optimizer = torch.optim.SGD(testnet.parameters(), lr=0.01)\n",
    "loss_func = nn.MSELoss()  # 均方根误差损失函数\n",
    "train_loss_all = []\n",
    "\n",
    "# 对模型迭代训练，总共epoch轮\n",
    "for epoch in range(30):\n",
    "    train_loss = 0\n",
    "    train_num = 0\n",
    "    # 对训练数据的加载器进行迭代计算\n",
    "    for step, (b_x, b_y) in enumerate(train_loader):\n",
    "        output = testnet(b_x)  # MLP在训练batch上的输出\n",
    "        loss = loss_func(output, b_y)  # 均方根损失函数\n",
    "        optimizer.zero_grad()  # 每次迭代梯度初始化0\n",
    "        loss.backward()  # 反向传播，计算梯度\n",
    "        optimizer.step()  # 使用梯度进行优化\n",
    "        train_loss += loss.item() * b_x.size(0)\n",
    "        train_num += b_x.size(0)\n",
    "    train_loss_all.append(train_loss / train_num)\n"
   ]
  },
  {
   "cell_type": "code",
   "execution_count": 20,
   "id": "c389d2c1",
   "metadata": {},
   "outputs": [],
   "source": [
    "def predict_single(input, target, model):\n",
    "    inputs = input.unsqueeze(0)\n",
    "    predictions = model(inputs)               \n",
    "    prediction = predictions[0].detach()\n",
    "    print(\"Input:\", input)\n",
    "    print(\"Target:\", target)\n",
    "    print(\"Prediction:\", prediction)"
   ]
  },
  {
   "cell_type": "code",
   "execution_count": 22,
   "id": "19940e7e",
   "metadata": {},
   "outputs": [
    {
     "name": "stdout",
     "output_type": "stream",
     "text": [
      "Input: tensor([0.5870, 0.2479, 0.4000, 0.0000, 0.0000, 0.0000, 0.0000, 0.0000])\n",
      "Target: tensor(9095.0684)\n",
      "Prediction: tensor(nan)\n"
     ]
    }
   ],
   "source": [
    "input, target = X_test_t[0], y_test_t[0]\n",
    "predict_single(input, target, testnet)"
   ]
  },
  {
   "cell_type": "code",
   "execution_count": null,
   "id": "22cbb174",
   "metadata": {},
   "outputs": [],
   "source": []
  }
 ],
 "metadata": {
  "kernelspec": {
   "display_name": "Python 3 (ipykernel)",
   "language": "python",
   "name": "python3"
  },
  "language_info": {
   "codemirror_mode": {
    "name": "ipython",
    "version": 3
   },
   "file_extension": ".py",
   "mimetype": "text/x-python",
   "name": "python",
   "nbconvert_exporter": "python",
   "pygments_lexer": "ipython3",
   "version": "3.10.9"
  }
 },
 "nbformat": 4,
 "nbformat_minor": 5
}
