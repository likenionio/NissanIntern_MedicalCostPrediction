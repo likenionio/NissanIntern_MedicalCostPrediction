{
 "cells": [
  {
   "cell_type": "code",
   "execution_count": 2,
   "id": "be9c34c2",
   "metadata": {},
   "outputs": [],
   "source": [
    "import numpy as np\n",
    "import pandas as pd\n",
    "import matplotlib as plt\n",
    "%matplotlib inline\n",
    "import torch\n",
    "import torch.nn as nn\n",
    "import torch.nn.functional as F\n",
    "import torchvision\n",
    "from sklearn.model_selection import train_test_split\n",
    "from sklearn.preprocessing import StandardScaler\n",
    "from sklearn.metrics import mean_squared_error\n",
    "from torch.utils.data import DataLoader, TensorDataset, random_split"
   ]
  },
  {
   "cell_type": "code",
   "execution_count": 3,
   "id": "de016ff8",
   "metadata": {},
   "outputs": [],
   "source": [
    "import warnings\n",
    "warnings.filterwarnings('ignore')"
   ]
  },
  {
   "cell_type": "code",
   "execution_count": 4,
   "id": "18d3c1e1",
   "metadata": {},
   "outputs": [
    {
     "data": {
      "text/plain": [
       "(   age     sex     bmi  children smoker     region      charges\n",
       " 0   19  female  27.900         0    yes  southwest  16884.92400\n",
       " 1   18    male  33.770         1     no  southeast   1725.55230\n",
       " 2   28    male  33.000         3     no  southeast   4449.46200\n",
       " 3   33    male  22.705         0     no  northwest  21984.47061\n",
       " 4   32    male  28.880         0     no  northwest   3866.85520,\n",
       " (1338, 7))"
      ]
     },
     "execution_count": 4,
     "metadata": {},
     "output_type": "execute_result"
    }
   ],
   "source": [
    "df = pd.read_csv('insurance.csv')\n",
    "df.head(), df.shape"
   ]
  },
  {
   "cell_type": "code",
   "execution_count": 5,
   "id": "33126f35",
   "metadata": {},
   "outputs": [
    {
     "data": {
      "text/plain": [
       "['age', 'sex', 'bmi', 'children', 'smoker', 'region']"
      ]
     },
     "execution_count": 5,
     "metadata": {},
     "output_type": "execute_result"
    }
   ],
   "source": [
    "input_cols = list(df.drop('charges',axis=1).columns)\n",
    "input_cols"
   ]
  },
  {
   "cell_type": "code",
   "execution_count": 6,
   "id": "7d10d8e4",
   "metadata": {},
   "outputs": [
    {
     "data": {
      "text/plain": [
       "['sex', 'smoker', 'region']"
      ]
     },
     "execution_count": 6,
     "metadata": {},
     "output_type": "execute_result"
    }
   ],
   "source": [
    "categorical_cols = list(df.select_dtypes(include='object').columns)\n",
    "categorical_cols"
   ]
  },
  {
   "cell_type": "code",
   "execution_count": 7,
   "id": "52660a44",
   "metadata": {},
   "outputs": [
    {
     "data": {
      "text/plain": [
       "['charges']"
      ]
     },
     "execution_count": 7,
     "metadata": {},
     "output_type": "execute_result"
    }
   ],
   "source": [
    "output_cols = [df.columns[-1]]\n",
    "output_cols"
   ]
  },
  {
   "cell_type": "code",
   "execution_count": 11,
   "id": "95f93b1a",
   "metadata": {},
   "outputs": [
    {
     "data": {
      "text/html": [
       "<div>\n",
       "<style scoped>\n",
       "    .dataframe tbody tr th:only-of-type {\n",
       "        vertical-align: middle;\n",
       "    }\n",
       "\n",
       "    .dataframe tbody tr th {\n",
       "        vertical-align: top;\n",
       "    }\n",
       "\n",
       "    .dataframe thead th {\n",
       "        text-align: right;\n",
       "    }\n",
       "</style>\n",
       "<table border=\"1\" class=\"dataframe\">\n",
       "  <thead>\n",
       "    <tr style=\"text-align: right;\">\n",
       "      <th></th>\n",
       "      <th>age</th>\n",
       "      <th>bmi</th>\n",
       "      <th>children</th>\n",
       "      <th>charges</th>\n",
       "    </tr>\n",
       "  </thead>\n",
       "  <tbody>\n",
       "    <tr>\n",
       "      <th>count</th>\n",
       "      <td>1337.000000</td>\n",
       "      <td>1337.000000</td>\n",
       "      <td>1337.000000</td>\n",
       "      <td>1337.000000</td>\n",
       "    </tr>\n",
       "    <tr>\n",
       "      <th>mean</th>\n",
       "      <td>39.222139</td>\n",
       "      <td>30.663452</td>\n",
       "      <td>1.095737</td>\n",
       "      <td>13279.121487</td>\n",
       "    </tr>\n",
       "    <tr>\n",
       "      <th>std</th>\n",
       "      <td>14.044333</td>\n",
       "      <td>6.100468</td>\n",
       "      <td>1.205571</td>\n",
       "      <td>12110.359656</td>\n",
       "    </tr>\n",
       "    <tr>\n",
       "      <th>min</th>\n",
       "      <td>18.000000</td>\n",
       "      <td>15.960000</td>\n",
       "      <td>0.000000</td>\n",
       "      <td>1121.873900</td>\n",
       "    </tr>\n",
       "    <tr>\n",
       "      <th>25%</th>\n",
       "      <td>27.000000</td>\n",
       "      <td>26.290000</td>\n",
       "      <td>0.000000</td>\n",
       "      <td>4746.344000</td>\n",
       "    </tr>\n",
       "    <tr>\n",
       "      <th>50%</th>\n",
       "      <td>39.000000</td>\n",
       "      <td>30.400000</td>\n",
       "      <td>1.000000</td>\n",
       "      <td>9386.161300</td>\n",
       "    </tr>\n",
       "    <tr>\n",
       "      <th>75%</th>\n",
       "      <td>51.000000</td>\n",
       "      <td>34.700000</td>\n",
       "      <td>2.000000</td>\n",
       "      <td>16657.717450</td>\n",
       "    </tr>\n",
       "    <tr>\n",
       "      <th>max</th>\n",
       "      <td>64.000000</td>\n",
       "      <td>53.130000</td>\n",
       "      <td>5.000000</td>\n",
       "      <td>63770.428010</td>\n",
       "    </tr>\n",
       "  </tbody>\n",
       "</table>\n",
       "</div>"
      ],
      "text/plain": [
       "               age          bmi     children       charges\n",
       "count  1337.000000  1337.000000  1337.000000   1337.000000\n",
       "mean     39.222139    30.663452     1.095737  13279.121487\n",
       "std      14.044333     6.100468     1.205571  12110.359656\n",
       "min      18.000000    15.960000     0.000000   1121.873900\n",
       "25%      27.000000    26.290000     0.000000   4746.344000\n",
       "50%      39.000000    30.400000     1.000000   9386.161300\n",
       "75%      51.000000    34.700000     2.000000  16657.717450\n",
       "max      64.000000    53.130000     5.000000  63770.428010"
      ]
     },
     "execution_count": 11,
     "metadata": {},
     "output_type": "execute_result"
    }
   ],
   "source": [
    "df.describe()"
   ]
  },
  {
   "cell_type": "code",
   "execution_count": 12,
   "id": "64f3cd4d",
   "metadata": {},
   "outputs": [
    {
     "data": {
      "text/plain": [
       "(1337, 7)"
      ]
     },
     "execution_count": 12,
     "metadata": {},
     "output_type": "execute_result"
    }
   ],
   "source": [
    "df.shape"
   ]
  },
  {
   "cell_type": "code",
   "execution_count": 13,
   "id": "6b4127f3",
   "metadata": {},
   "outputs": [
    {
     "data": {
      "text/plain": [
       "(1337, 7)"
      ]
     },
     "execution_count": 13,
     "metadata": {},
     "output_type": "execute_result"
    }
   ],
   "source": [
    "df.drop_duplicates(inplace=True)\n",
    "df.shape"
   ]
  },
  {
   "cell_type": "code",
   "execution_count": 14,
   "id": "bbcb9a21",
   "metadata": {},
   "outputs": [
    {
     "data": {
      "text/html": [
       "<div>\n",
       "<style scoped>\n",
       "    .dataframe tbody tr th:only-of-type {\n",
       "        vertical-align: middle;\n",
       "    }\n",
       "\n",
       "    .dataframe tbody tr th {\n",
       "        vertical-align: top;\n",
       "    }\n",
       "\n",
       "    .dataframe thead th {\n",
       "        text-align: right;\n",
       "    }\n",
       "</style>\n",
       "<table border=\"1\" class=\"dataframe\">\n",
       "  <thead>\n",
       "    <tr style=\"text-align: right;\">\n",
       "      <th></th>\n",
       "      <th>age</th>\n",
       "      <th>sex</th>\n",
       "      <th>bmi</th>\n",
       "      <th>children</th>\n",
       "      <th>smoker</th>\n",
       "      <th>region</th>\n",
       "      <th>charges</th>\n",
       "    </tr>\n",
       "  </thead>\n",
       "  <tbody>\n",
       "    <tr>\n",
       "      <th>0</th>\n",
       "      <td>19</td>\n",
       "      <td>female</td>\n",
       "      <td>27.900</td>\n",
       "      <td>0</td>\n",
       "      <td>yes</td>\n",
       "      <td>southwest</td>\n",
       "      <td>16884.92400</td>\n",
       "    </tr>\n",
       "    <tr>\n",
       "      <th>1</th>\n",
       "      <td>18</td>\n",
       "      <td>male</td>\n",
       "      <td>33.770</td>\n",
       "      <td>1</td>\n",
       "      <td>no</td>\n",
       "      <td>southeast</td>\n",
       "      <td>1725.55230</td>\n",
       "    </tr>\n",
       "    <tr>\n",
       "      <th>2</th>\n",
       "      <td>28</td>\n",
       "      <td>male</td>\n",
       "      <td>33.000</td>\n",
       "      <td>3</td>\n",
       "      <td>no</td>\n",
       "      <td>southeast</td>\n",
       "      <td>4449.46200</td>\n",
       "    </tr>\n",
       "    <tr>\n",
       "      <th>3</th>\n",
       "      <td>33</td>\n",
       "      <td>male</td>\n",
       "      <td>22.705</td>\n",
       "      <td>0</td>\n",
       "      <td>no</td>\n",
       "      <td>northwest</td>\n",
       "      <td>21984.47061</td>\n",
       "    </tr>\n",
       "    <tr>\n",
       "      <th>4</th>\n",
       "      <td>32</td>\n",
       "      <td>male</td>\n",
       "      <td>28.880</td>\n",
       "      <td>0</td>\n",
       "      <td>no</td>\n",
       "      <td>northwest</td>\n",
       "      <td>3866.85520</td>\n",
       "    </tr>\n",
       "  </tbody>\n",
       "</table>\n",
       "</div>"
      ],
      "text/plain": [
       "   age     sex     bmi  children smoker     region      charges\n",
       "0   19  female  27.900         0    yes  southwest  16884.92400\n",
       "1   18    male  33.770         1     no  southeast   1725.55230\n",
       "2   28    male  33.000         3     no  southeast   4449.46200\n",
       "3   33    male  22.705         0     no  northwest  21984.47061\n",
       "4   32    male  28.880         0     no  northwest   3866.85520"
      ]
     },
     "execution_count": 14,
     "metadata": {},
     "output_type": "execute_result"
    }
   ],
   "source": [
    "df.head()"
   ]
  },
  {
   "cell_type": "code",
   "execution_count": 16,
   "id": "c13f6fe9",
   "metadata": {},
   "outputs": [
    {
     "data": {
      "text/html": [
       "<div>\n",
       "<style scoped>\n",
       "    .dataframe tbody tr th:only-of-type {\n",
       "        vertical-align: middle;\n",
       "    }\n",
       "\n",
       "    .dataframe tbody tr th {\n",
       "        vertical-align: top;\n",
       "    }\n",
       "\n",
       "    .dataframe thead th {\n",
       "        text-align: right;\n",
       "    }\n",
       "</style>\n",
       "<table border=\"1\" class=\"dataframe\">\n",
       "  <thead>\n",
       "    <tr style=\"text-align: right;\">\n",
       "      <th></th>\n",
       "      <th>age</th>\n",
       "      <th>sex</th>\n",
       "      <th>bmi</th>\n",
       "      <th>children</th>\n",
       "      <th>smoker</th>\n",
       "      <th>region</th>\n",
       "      <th>charges</th>\n",
       "    </tr>\n",
       "  </thead>\n",
       "  <tbody>\n",
       "    <tr>\n",
       "      <th>0</th>\n",
       "      <td>19</td>\n",
       "      <td>0</td>\n",
       "      <td>27.900</td>\n",
       "      <td>0</td>\n",
       "      <td>1</td>\n",
       "      <td>3</td>\n",
       "      <td>16884.92400</td>\n",
       "    </tr>\n",
       "    <tr>\n",
       "      <th>1</th>\n",
       "      <td>18</td>\n",
       "      <td>1</td>\n",
       "      <td>33.770</td>\n",
       "      <td>1</td>\n",
       "      <td>0</td>\n",
       "      <td>2</td>\n",
       "      <td>1725.55230</td>\n",
       "    </tr>\n",
       "    <tr>\n",
       "      <th>2</th>\n",
       "      <td>28</td>\n",
       "      <td>1</td>\n",
       "      <td>33.000</td>\n",
       "      <td>3</td>\n",
       "      <td>0</td>\n",
       "      <td>2</td>\n",
       "      <td>4449.46200</td>\n",
       "    </tr>\n",
       "    <tr>\n",
       "      <th>3</th>\n",
       "      <td>33</td>\n",
       "      <td>1</td>\n",
       "      <td>22.705</td>\n",
       "      <td>0</td>\n",
       "      <td>0</td>\n",
       "      <td>1</td>\n",
       "      <td>21984.47061</td>\n",
       "    </tr>\n",
       "    <tr>\n",
       "      <th>4</th>\n",
       "      <td>32</td>\n",
       "      <td>1</td>\n",
       "      <td>28.880</td>\n",
       "      <td>0</td>\n",
       "      <td>0</td>\n",
       "      <td>1</td>\n",
       "      <td>3866.85520</td>\n",
       "    </tr>\n",
       "  </tbody>\n",
       "</table>\n",
       "</div>"
      ],
      "text/plain": [
       "   age  sex     bmi  children  smoker  region      charges\n",
       "0   19    0  27.900         0       1       3  16884.92400\n",
       "1   18    1  33.770         1       0       2   1725.55230\n",
       "2   28    1  33.000         3       0       2   4449.46200\n",
       "3   33    1  22.705         0       0       1  21984.47061\n",
       "4   32    1  28.880         0       0       1   3866.85520"
      ]
     },
     "execution_count": 16,
     "metadata": {},
     "output_type": "execute_result"
    }
   ],
   "source": [
    "dataframe1 = df.copy(deep=True)\n",
    "# Convert non-numeric categorical columns to numbers\n",
    "for col in categorical_cols:\n",
    "    dataframe1[col] = dataframe1[col].astype('category').cat.codes\n",
    "dataframe1.head()"
   ]
  },
  {
   "cell_type": "code",
   "execution_count": 15,
   "id": "479891e8",
   "metadata": {},
   "outputs": [
    {
     "data": {
      "text/plain": [
       "(array([[19.  ,  0.  , 27.9 ,  0.  ,  1.  ,  3.  ],\n",
       "        [18.  ,  1.  , 33.77,  1.  ,  0.  ,  2.  ],\n",
       "        [28.  ,  1.  , 33.  ,  3.  ,  0.  ,  2.  ],\n",
       "        ...,\n",
       "        [18.  ,  0.  , 36.85,  0.  ,  0.  ,  2.  ],\n",
       "        [21.  ,  0.  , 25.8 ,  0.  ,  0.  ,  3.  ],\n",
       "        [61.  ,  0.  , 29.07,  0.  ,  1.  ,  1.  ]]),\n",
       " array([[16884.924 ],\n",
       "        [ 1725.5523],\n",
       "        [ 4449.462 ],\n",
       "        ...,\n",
       "        [ 1629.8335],\n",
       "        [ 2007.945 ],\n",
       "        [29141.3603]]))"
      ]
     },
     "execution_count": 15,
     "metadata": {},
     "output_type": "execute_result"
    }
   ],
   "source": [
    "# Make a copy of the original dataframe\n",
    "dataframe1 = df.copy(deep=True)\n",
    "# Convert non-numeric categorical columns to numbers\n",
    "for col in categorical_cols:\n",
    "    dataframe1[col] = dataframe1[col].astype('category').cat.codes\n",
    "# Extract input & outupts as numpy arrays\n",
    "#inputs_array = np.array(dataframe1[input_cols])\n",
    "inputs_array = dataframe1.drop('charges',axis=1).values\n",
    "#targets_array = np.array(dataframe1[output_cols])\n",
    "targets_array = dataframe1[['charges']].values\n",
    "inputs_array, targets_array"
   ]
  },
  {
   "cell_type": "code",
   "execution_count": 16,
   "id": "cbeae184",
   "metadata": {},
   "outputs": [],
   "source": [
    "inputs = torch.from_numpy(inputs_array).to(torch.float32)\n",
    "targets = torch.from_numpy(targets_array).to(torch.float32)"
   ]
  },
  {
   "cell_type": "code",
   "execution_count": 17,
   "id": "54590cbb",
   "metadata": {},
   "outputs": [
    {
     "data": {
      "text/plain": [
       "(torch.float32, torch.float32)"
      ]
     },
     "execution_count": 17,
     "metadata": {},
     "output_type": "execute_result"
    }
   ],
   "source": [
    "inputs.dtype, targets.dtype"
   ]
  },
  {
   "cell_type": "code",
   "execution_count": 19,
   "id": "4eb56246",
   "metadata": {},
   "outputs": [
    {
     "data": {
      "text/plain": [
       "(tensor([[19.0000,  0.0000, 27.9000,  0.0000,  1.0000,  3.0000],\n",
       "         [18.0000,  1.0000, 33.7700,  1.0000,  0.0000,  2.0000],\n",
       "         [28.0000,  1.0000, 33.0000,  3.0000,  0.0000,  2.0000],\n",
       "         ...,\n",
       "         [18.0000,  0.0000, 36.8500,  0.0000,  0.0000,  2.0000],\n",
       "         [21.0000,  0.0000, 25.8000,  0.0000,  0.0000,  3.0000],\n",
       "         [61.0000,  0.0000, 29.0700,  0.0000,  1.0000,  1.0000]]),\n",
       " tensor([[16884.9238],\n",
       "         [ 1725.5522],\n",
       "         [ 4449.4619],\n",
       "         ...,\n",
       "         [ 1629.8335],\n",
       "         [ 2007.9449],\n",
       "         [29141.3594]]))"
      ]
     },
     "execution_count": 19,
     "metadata": {},
     "output_type": "execute_result"
    }
   ],
   "source": [
    "inputs,targets"
   ]
  },
  {
   "cell_type": "code",
   "execution_count": 20,
   "id": "a4419e5a",
   "metadata": {},
   "outputs": [],
   "source": [
    "dataset = TensorDataset(inputs, targets)"
   ]
  },
  {
   "cell_type": "code",
   "execution_count": 21,
   "id": "29116739",
   "metadata": {},
   "outputs": [
    {
     "name": "stdout",
     "output_type": "stream",
     "text": [
      "133\n",
      "1204\n"
     ]
    }
   ],
   "source": [
    "num_rows = len(df)\n",
    "val_percent = 0.1 # between 0.1 and 0.2\n",
    "val_size = int(num_rows * val_percent)\n",
    "print(val_size)\n",
    "train_size = num_rows - val_size\n",
    "print(train_size)\n",
    "\n",
    "train_ds, val_ds = random_split(dataset,[train_size, val_size]) # Use the random_split function to split dataset into 2 parts of the desired length"
   ]
  },
  {
   "cell_type": "code",
   "execution_count": 22,
   "id": "6d186bdb",
   "metadata": {},
   "outputs": [],
   "source": [
    "batch_size = 64 # Try to experiment with different batch sizes"
   ]
  },
  {
   "cell_type": "code",
   "execution_count": 23,
   "id": "cfb6f81f",
   "metadata": {},
   "outputs": [],
   "source": [
    "train_loader = DataLoader(train_ds, batch_size, shuffle=True)\n",
    "val_loader = DataLoader(val_ds, batch_size)"
   ]
  },
  {
   "cell_type": "code",
   "execution_count": 24,
   "id": "5ca61525",
   "metadata": {},
   "outputs": [
    {
     "name": "stdout",
     "output_type": "stream",
     "text": [
      "inputs: tensor([[18.0000,  0.0000, 36.8500,  0.0000,  0.0000,  2.0000],\n",
      "        [55.0000,  0.0000, 33.5350,  2.0000,  0.0000,  1.0000],\n",
      "        [24.0000,  1.0000, 29.3000,  0.0000,  0.0000,  3.0000],\n",
      "        [61.0000,  1.0000, 35.8600,  0.0000,  1.0000,  2.0000],\n",
      "        [35.0000,  1.0000, 27.1000,  1.0000,  0.0000,  3.0000],\n",
      "        [64.0000,  0.0000, 31.8250,  2.0000,  0.0000,  0.0000],\n",
      "        [40.0000,  0.0000, 28.6900,  3.0000,  0.0000,  1.0000],\n",
      "        [19.0000,  1.0000, 36.9550,  0.0000,  1.0000,  1.0000],\n",
      "        [39.0000,  1.0000, 29.9250,  1.0000,  1.0000,  0.0000],\n",
      "        [36.0000,  1.0000, 33.4000,  2.0000,  1.0000,  3.0000],\n",
      "        [50.0000,  1.0000, 26.4100,  0.0000,  0.0000,  1.0000],\n",
      "        [27.0000,  1.0000, 18.9050,  3.0000,  0.0000,  0.0000],\n",
      "        [56.0000,  0.0000, 35.8000,  1.0000,  0.0000,  3.0000],\n",
      "        [37.0000,  0.0000, 47.6000,  2.0000,  1.0000,  3.0000],\n",
      "        [36.0000,  0.0000, 29.0400,  4.0000,  0.0000,  2.0000],\n",
      "        [19.0000,  0.0000, 21.7000,  0.0000,  1.0000,  3.0000],\n",
      "        [52.0000,  1.0000, 38.6000,  2.0000,  0.0000,  3.0000],\n",
      "        [24.0000,  1.0000, 23.4000,  0.0000,  0.0000,  3.0000],\n",
      "        [60.0000,  0.0000, 24.0350,  0.0000,  0.0000,  1.0000],\n",
      "        [46.0000,  0.0000, 33.7250,  1.0000,  0.0000,  0.0000],\n",
      "        [60.0000,  1.0000, 28.5950,  0.0000,  0.0000,  0.0000],\n",
      "        [19.0000,  1.0000, 27.6000,  0.0000,  0.0000,  3.0000],\n",
      "        [46.0000,  0.0000, 27.7200,  1.0000,  0.0000,  2.0000],\n",
      "        [27.0000,  1.0000, 31.1300,  1.0000,  1.0000,  2.0000],\n",
      "        [23.0000,  1.0000, 41.9100,  0.0000,  0.0000,  2.0000],\n",
      "        [59.0000,  1.0000, 29.7000,  2.0000,  0.0000,  2.0000],\n",
      "        [23.0000,  0.0000, 42.7500,  1.0000,  1.0000,  0.0000],\n",
      "        [18.0000,  1.0000, 41.1400,  0.0000,  0.0000,  2.0000],\n",
      "        [19.0000,  0.0000, 32.9000,  0.0000,  0.0000,  3.0000],\n",
      "        [31.0000,  1.0000, 29.8100,  0.0000,  1.0000,  2.0000],\n",
      "        [58.0000,  1.0000, 34.8650,  0.0000,  0.0000,  0.0000],\n",
      "        [28.0000,  1.0000, 30.8750,  0.0000,  0.0000,  1.0000],\n",
      "        [47.0000,  1.0000, 25.4100,  1.0000,  1.0000,  2.0000],\n",
      "        [24.0000,  0.0000, 20.5200,  0.0000,  1.0000,  0.0000],\n",
      "        [28.0000,  1.0000, 22.5150,  2.0000,  0.0000,  0.0000],\n",
      "        [29.0000,  0.0000, 25.6000,  4.0000,  0.0000,  3.0000],\n",
      "        [44.0000,  1.0000, 38.0600,  1.0000,  0.0000,  2.0000],\n",
      "        [18.0000,  0.0000, 39.8200,  0.0000,  0.0000,  2.0000],\n",
      "        [30.0000,  1.0000, 28.6900,  3.0000,  1.0000,  1.0000],\n",
      "        [46.0000,  1.0000, 33.3450,  1.0000,  0.0000,  0.0000],\n",
      "        [59.0000,  1.0000, 29.8300,  3.0000,  1.0000,  0.0000],\n",
      "        [38.0000,  1.0000, 19.3000,  0.0000,  1.0000,  3.0000],\n",
      "        [54.0000,  0.0000, 21.4700,  3.0000,  0.0000,  1.0000],\n",
      "        [43.0000,  1.0000, 38.0600,  2.0000,  1.0000,  2.0000],\n",
      "        [18.0000,  0.0000, 25.0800,  0.0000,  0.0000,  0.0000],\n",
      "        [29.0000,  1.0000, 38.9400,  1.0000,  0.0000,  2.0000],\n",
      "        [38.0000,  0.0000, 19.4750,  2.0000,  0.0000,  1.0000],\n",
      "        [19.0000,  0.0000, 30.0200,  0.0000,  1.0000,  1.0000],\n",
      "        [21.0000,  1.0000, 36.8600,  0.0000,  0.0000,  1.0000],\n",
      "        [18.0000,  0.0000, 28.2150,  0.0000,  0.0000,  0.0000],\n",
      "        [59.0000,  1.0000, 27.5000,  1.0000,  0.0000,  3.0000],\n",
      "        [40.0000,  1.0000, 41.6900,  0.0000,  0.0000,  2.0000],\n",
      "        [62.0000,  0.0000, 38.0950,  2.0000,  0.0000,  0.0000],\n",
      "        [34.0000,  1.0000, 25.3000,  2.0000,  1.0000,  2.0000],\n",
      "        [54.0000,  1.0000, 31.6000,  0.0000,  0.0000,  3.0000],\n",
      "        [28.0000,  1.0000, 38.0600,  0.0000,  0.0000,  2.0000],\n",
      "        [43.0000,  1.0000, 20.1300,  2.0000,  1.0000,  2.0000],\n",
      "        [48.0000,  0.0000, 32.3000,  2.0000,  0.0000,  0.0000],\n",
      "        [49.0000,  1.0000, 30.9000,  0.0000,  1.0000,  3.0000],\n",
      "        [33.0000,  0.0000, 18.5000,  1.0000,  0.0000,  3.0000],\n",
      "        [39.0000,  0.0000, 26.3150,  2.0000,  0.0000,  1.0000],\n",
      "        [20.0000,  1.0000, 35.3100,  1.0000,  0.0000,  2.0000],\n",
      "        [19.0000,  1.0000, 27.8350,  0.0000,  0.0000,  1.0000],\n",
      "        [26.0000,  1.0000, 32.4900,  1.0000,  0.0000,  0.0000]])\n",
      "targets: tensor([[ 1629.8335],\n",
      "        [12269.6885],\n",
      "        [ 1977.8149],\n",
      "        [46599.1094],\n",
      "        [ 4746.3442],\n",
      "        [16069.0850],\n",
      "        [ 8059.6792],\n",
      "        [36219.4062],\n",
      "        [22462.0430],\n",
      "        [38415.4727],\n",
      "        [ 8827.2100],\n",
      "        [ 4827.9048],\n",
      "        [11674.1299],\n",
      "        [46113.5117],\n",
      "        [ 7243.8135],\n",
      "        [13844.5059],\n",
      "        [10325.2061],\n",
      "        [ 1969.6140],\n",
      "        [13012.2090],\n",
      "        [ 8823.9854],\n",
      "        [30259.9961],\n",
      "        [ 1252.4070],\n",
      "        [ 8232.6387],\n",
      "        [34806.4688],\n",
      "        [ 1837.2819],\n",
      "        [12925.8857],\n",
      "        [40904.1992],\n",
      "        [ 1146.7966],\n",
      "        [ 1748.7740],\n",
      "        [19350.3691],\n",
      "        [11944.5947],\n",
      "        [ 3062.5083],\n",
      "        [21978.6777],\n",
      "        [14571.8906],\n",
      "        [ 4428.8877],\n",
      "        [ 5708.8672],\n",
      "        [ 7152.6714],\n",
      "        [ 1633.9618],\n",
      "        [20745.9883],\n",
      "        [ 8334.4580],\n",
      "        [30184.9375],\n",
      "        [15820.6992],\n",
      "        [12475.3516],\n",
      "        [42560.4297],\n",
      "        [ 2196.4731],\n",
      "        [ 3471.4097],\n",
      "        [ 6933.2422],\n",
      "        [33307.5508],\n",
      "        [ 1917.3184],\n",
      "        [ 2200.8308],\n",
      "        [12333.8281],\n",
      "        [ 5438.7490],\n",
      "        [15230.3242],\n",
      "        [18972.4941],\n",
      "        [ 9850.4316],\n",
      "        [ 2689.4954],\n",
      "        [18767.7383],\n",
      "        [10043.2490],\n",
      "        [39727.6133],\n",
      "        [ 4766.0220],\n",
      "        [ 7201.7007],\n",
      "        [27724.2891],\n",
      "        [ 1635.7336],\n",
      "        [ 3490.5491]])\n"
     ]
    }
   ],
   "source": [
    "for xb, yb in train_loader:\n",
    "    print(\"inputs:\", xb)\n",
    "    print(\"targets:\", yb)\n",
    "    break"
   ]
  },
  {
   "cell_type": "code",
   "execution_count": 25,
   "id": "2c30839e",
   "metadata": {},
   "outputs": [
    {
     "name": "stdout",
     "output_type": "stream",
     "text": [
      "6\n",
      "1\n"
     ]
    }
   ],
   "source": [
    "input_size = len(input_cols)\n",
    "print(input_size)\n",
    "output_size = len(output_cols)\n",
    "print(output_size)"
   ]
  },
  {
   "cell_type": "code",
   "execution_count": 26,
   "id": "63110a58",
   "metadata": {},
   "outputs": [],
   "source": [
    "class InsuranceModel(nn.Module):\n",
    "    def __init__(self):\n",
    "        super().__init__()\n",
    "        self.linear = nn.Linear(input_size,output_size) \n",
    "        \n",
    "    def forward(self, xb):\n",
    "        out = self.linear(xb)                          \n",
    "        return out\n",
    "    \n",
    "    def training_step(self, batch):\n",
    "        inputs, targets = batch \n",
    "        # Generate predictions\n",
    "        out = self(inputs)          \n",
    "        # Calcuate loss\n",
    "        loss = F.l1_loss(out, targets)                \n",
    "        return loss\n",
    "    \n",
    "    def validation_step(self, batch):\n",
    "        inputs, targets = batch\n",
    "        # Generate predictions\n",
    "        out = self(inputs)\n",
    "        # Calculate loss\n",
    "        loss = F.l1_loss(out, targets)                    \n",
    "        return {'val_loss': loss.detach()}\n",
    "        \n",
    "    def validation_epoch_end(self, outputs):\n",
    "        batch_losses = [x['val_loss'] for x in outputs]\n",
    "        epoch_loss = torch.stack(batch_losses).mean()   # Combine losses\n",
    "        return {'val_loss': epoch_loss.item()}\n",
    "    \n",
    "    def epoch_end(self, epoch, result, num_epochs):\n",
    "        # Print result every 20th epoch\n",
    "        if (epoch+1) % 500 == 0 or epoch == num_epochs-1:\n",
    "            print(\"Epoch [{}], val_loss: {:.4f}\".format(epoch+1, result['val_loss']))"
   ]
  },
  {
   "cell_type": "code",
   "execution_count": 27,
   "id": "e11e2796",
   "metadata": {},
   "outputs": [],
   "source": [
    "model = InsuranceModel()"
   ]
  },
  {
   "cell_type": "code",
   "execution_count": 28,
   "id": "e78d65da",
   "metadata": {},
   "outputs": [
    {
     "data": {
      "text/plain": [
       "[Parameter containing:\n",
       " tensor([[ 0.1104, -0.0406, -0.1647, -0.1804, -0.1211,  0.2453]],\n",
       "        requires_grad=True),\n",
       " Parameter containing:\n",
       " tensor([0.3816], requires_grad=True)]"
      ]
     },
     "execution_count": 28,
     "metadata": {},
     "output_type": "execute_result"
    }
   ],
   "source": [
    "list(model.parameters())"
   ]
  },
  {
   "cell_type": "code",
   "execution_count": 29,
   "id": "90a5a3d2",
   "metadata": {},
   "outputs": [],
   "source": [
    "def evaluate(model, val_loader):\n",
    "    outputs = [model.validation_step(batch) for batch in val_loader]\n",
    "    return model.validation_epoch_end(outputs)\n",
    "\n",
    "def fit(epochs, lr, model, train_loader, val_loader, opt_func=torch.optim.SGD):\n",
    "    history = []\n",
    "    optimizer = opt_func(model.parameters(), lr)\n",
    "    for epoch in range(epochs):\n",
    "        # Training Phase \n",
    "        for batch in train_loader:\n",
    "            loss = model.training_step(batch)\n",
    "            loss.backward()\n",
    "            optimizer.step()\n",
    "            optimizer.zero_grad()\n",
    "        # Validation phase\n",
    "        result = evaluate(model, val_loader)\n",
    "        model.epoch_end(epoch, result, epochs)\n",
    "        history.append(result)\n",
    "    return history"
   ]
  },
  {
   "cell_type": "code",
   "execution_count": 30,
   "id": "50312648",
   "metadata": {},
   "outputs": [
    {
     "name": "stdout",
     "output_type": "stream",
     "text": [
      "{'val_loss': 12049.4697265625}\n"
     ]
    }
   ],
   "source": [
    "result = evaluate(model, val_loader) # Use the the evaluate function\n",
    "print(result)"
   ]
  },
  {
   "cell_type": "code",
   "execution_count": 32,
   "id": "a5f4ee15",
   "metadata": {},
   "outputs": [
    {
     "name": "stdout",
     "output_type": "stream",
     "text": [
      "Epoch [500], val_loss: 3433.4265\n",
      "Epoch [1000], val_loss: 3421.3879\n",
      "Epoch [1500], val_loss: 3390.2312\n",
      "Epoch [2000], val_loss: 3378.3684\n",
      "Epoch [2500], val_loss: 3368.7078\n",
      "Epoch [3000], val_loss: 3355.9714\n",
      "Epoch [3500], val_loss: 3363.7278\n",
      "Epoch [4000], val_loss: 3346.5598\n",
      "Epoch [4500], val_loss: 3331.7561\n",
      "Epoch [5000], val_loss: 3312.8782\n",
      "Epoch [5500], val_loss: 3309.0889\n",
      "Epoch [6000], val_loss: 3295.0813\n",
      "Epoch [6500], val_loss: 3301.7559\n",
      "Epoch [7000], val_loss: 3276.8113\n",
      "Epoch [7500], val_loss: 3293.6316\n",
      "Epoch [8000], val_loss: 3264.7227\n",
      "Epoch [8500], val_loss: 3255.9324\n",
      "Epoch [9000], val_loss: 3242.3555\n",
      "Epoch [9500], val_loss: 3268.4275\n",
      "Epoch [10000], val_loss: 3228.5427\n",
      "Epoch [10500], val_loss: 3236.7100\n",
      "Epoch [11000], val_loss: 3207.9895\n",
      "Epoch [11500], val_loss: 3200.1506\n",
      "Epoch [12000], val_loss: 3190.5789\n",
      "Epoch [12500], val_loss: 3183.2468\n",
      "Epoch [13000], val_loss: 3176.3269\n",
      "Epoch [13500], val_loss: 3169.8718\n",
      "Epoch [14000], val_loss: 3193.7715\n",
      "Epoch [14500], val_loss: 3149.6204\n",
      "Epoch [15000], val_loss: 3150.1941\n",
      "Epoch [15500], val_loss: 3146.8240\n",
      "Epoch [16000], val_loss: 3138.4407\n",
      "Epoch [16500], val_loss: 3121.4539\n",
      "Epoch [17000], val_loss: 3113.2952\n",
      "Epoch [17500], val_loss: 3106.8938\n",
      "Epoch [18000], val_loss: 3132.6301\n",
      "Epoch [18500], val_loss: 3111.9739\n",
      "Epoch [19000], val_loss: 3096.7559\n",
      "Epoch [19500], val_loss: 3078.6926\n",
      "Epoch [20000], val_loss: 3082.1887\n",
      "Epoch [20500], val_loss: 3072.1335\n",
      "Epoch [21000], val_loss: 3058.3254\n",
      "Epoch [21500], val_loss: 3059.9089\n",
      "Epoch [22000], val_loss: 3042.6028\n",
      "Epoch [22500], val_loss: 3039.2644\n",
      "Epoch [23000], val_loss: 3035.4934\n",
      "Epoch [23500], val_loss: 3026.6404\n",
      "Epoch [24000], val_loss: 3017.6348\n",
      "Epoch [24500], val_loss: 3007.6152\n",
      "Epoch [25000], val_loss: 3015.3499\n",
      "Epoch [25500], val_loss: 2992.5227\n",
      "Epoch [26000], val_loss: 3012.0979\n",
      "Epoch [26500], val_loss: 3005.2996\n",
      "Epoch [27000], val_loss: 2980.1121\n",
      "Epoch [27500], val_loss: 2968.5237\n",
      "Epoch [28000], val_loss: 2960.6787\n",
      "Epoch [28500], val_loss: 2954.1853\n",
      "Epoch [29000], val_loss: 2943.7327\n",
      "Epoch [29500], val_loss: 2937.9688\n",
      "Epoch [30000], val_loss: 2930.6550\n"
     ]
    }
   ],
   "source": [
    "epochs = 30000\n",
    "lr = 0.5\n",
    "history1 = fit(epochs, lr, model, train_loader, val_loader)"
   ]
  },
  {
   "cell_type": "code",
   "execution_count": 33,
   "id": "ab9dedaa",
   "metadata": {},
   "outputs": [],
   "source": [
    "def predict_single(input, target, model):\n",
    "    inputs = input.unsqueeze(0)\n",
    "    predictions = model(inputs)               \n",
    "    prediction = predictions[0].detach()\n",
    "    print(\"Input:\", input)\n",
    "    print(\"Target:\", target)\n",
    "    print(\"Prediction:\", prediction)"
   ]
  },
  {
   "cell_type": "code",
   "execution_count": 34,
   "id": "06445dd0",
   "metadata": {},
   "outputs": [
    {
     "name": "stdout",
     "output_type": "stream",
     "text": [
      "Input: tensor([29.0000,  1.0000, 37.2900,  2.0000,  0.0000,  2.0000])\n",
      "Target: tensor([4058.1162])\n",
      "Prediction: tensor([4599.4858])\n"
     ]
    }
   ],
   "source": [
    "input, target = val_ds[0]\n",
    "predict_single(input, target, model)"
   ]
  },
  {
   "cell_type": "code",
   "execution_count": 40,
   "id": "aa38d216",
   "metadata": {},
   "outputs": [
    {
     "data": {
      "text/plain": [
       "tensor([26522.2031], grad_fn=<AddBackward0>)"
      ]
     },
     "execution_count": 40,
     "metadata": {},
     "output_type": "execute_result"
    }
   ],
   "source": [
    "my_array = np.fromiter([28,0,20.11,1,1,0],dtype=int)\n",
    "mydata = torch.from_numpy(my_array).to(torch.float32)\n",
    "model(mydata)"
   ]
  },
  {
   "cell_type": "code",
   "execution_count": null,
   "id": "c91d85da",
   "metadata": {},
   "outputs": [],
   "source": []
  }
 ],
 "metadata": {
  "kernelspec": {
   "display_name": "Python 3 (ipykernel)",
   "language": "python",
   "name": "python3"
  },
  "language_info": {
   "codemirror_mode": {
    "name": "ipython",
    "version": 3
   },
   "file_extension": ".py",
   "mimetype": "text/x-python",
   "name": "python",
   "nbconvert_exporter": "python",
   "pygments_lexer": "ipython3",
   "version": "3.11.9"
  }
 },
 "nbformat": 4,
 "nbformat_minor": 5
}
